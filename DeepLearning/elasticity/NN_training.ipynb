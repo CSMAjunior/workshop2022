{
 "cells": [
  {
   "cell_type": "markdown",
   "id": "e41f6ee7",
   "metadata": {
    "cell_id": "0fd7579d-ea78-49a7-b7e9-4c4f01ce6dd1",
    "deepnote_cell_height": 100,
    "deepnote_cell_type": "markdown"
   },
   "source": [
    "### Import libraries\n",
    "\n",
    "Import libraries, set parameters, and import classes"
   ]
  },
  {
   "cell_type": "code",
   "execution_count": 1,
   "id": "6b9ca1b7",
   "metadata": {
    "cell_id": "00001-e20b8743-3b11-450b-a62e-cc65dc82cdea",
    "deepnote_cell_height": 300,
    "deepnote_cell_type": "code",
    "owner_user_id": "5bb91923-5f7e-4fe6-8d4b-271ce2a72b9f"
   },
   "outputs": [],
   "source": [
    "import numpy as np\n",
    "import tensorflow as tf\n",
    "import pickle\n",
    "np.random.seed(1)\n",
    "tf.random.set_seed(1)\n",
    "tf.keras.backend.set_floatx('float32')\n",
    "\n",
    "import matplotlib.pyplot as plt\n",
    "plt.rcParams[\"figure.figsize\"] = (3,3)\n",
    "plt.rcParams.update({'font.size': 13})"
   ]
  },
  {
   "cell_type": "code",
   "execution_count": 2,
   "id": "5b33c8a2",
   "metadata": {
    "cell_id": "00002-88ab6396-42e4-4f74-81a5-1d0850dcf955",
    "deepnote_cell_height": 84,
    "deepnote_cell_type": "code"
   },
   "outputs": [],
   "source": [
    "from __lib__.NN_class import NeuralNetwork\n",
    "from __lib__.DataProcessing import PreProcessing"
   ]
  },
  {
   "cell_type": "markdown",
   "id": "0e95db33",
   "metadata": {
    "cell_id": "00003-9ba98210-50f1-4bd2-9a06-1de72af7f456",
    "deepnote_cell_height": 62,
    "deepnote_cell_type": "markdown"
   },
   "source": [
    "### Import datasets and pre-processing"
   ]
  },
  {
   "cell_type": "code",
   "execution_count": 3,
   "id": "e1746abd",
   "metadata": {
    "cell_id": "00004-7d139c91-9a92-4c9e-a79a-b14b27599fdc",
    "deepnote_cell_height": 84,
    "deepnote_cell_type": "code"
   },
   "outputs": [],
   "source": [
    "file = './data/3D_PlaneStrain_Elasticity_CSMA'\n",
    "training_percentage = 0.6"
   ]
  },
  {
   "cell_type": "code",
   "execution_count": 4,
   "id": "08916be2",
   "metadata": {
    "cell_id": "00005-f41fef91-120b-4b68-93fd-15290101544d",
    "deepnote_cell_height": 156,
    "deepnote_cell_type": "code"
   },
   "outputs": [],
   "source": [
    "with open(file, 'rb') as f_obj:\n",
    "    data = pickle.load(f_obj)\n",
    "\n",
    "strain,stress,energy = data\n",
    "\n",
    "del data"
   ]
  },
  {
   "cell_type": "markdown",
   "id": "8f63a23b",
   "metadata": {
    "cell_id": "00006-011e527f-f3ea-4432-a4ee-f1c505d5d692",
    "deepnote_cell_height": 54,
    "deepnote_cell_type": "markdown"
   },
   "source": [
    "##### Split datasets  (tv=training+validation - test)"
   ]
  },
  {
   "cell_type": "code",
   "execution_count": 5,
   "id": "a3a17f10",
   "metadata": {
    "cell_id": "00007-bc6d4be0-b47b-4b76-b411-1074e521f134",
    "deepnote_cell_height": 192,
    "deepnote_cell_type": "code"
   },
   "outputs": [
    {
     "name": "stdout",
     "output_type": "stream",
     "text": [
      "# samples: 21000 \n",
      "# training: 12600 \n",
      "# validation: 4200 \n",
      "# test: 4200\n"
     ]
    }
   ],
   "source": [
    "PreProcessing = PreProcessing(training_percentage)\n",
    "\n",
    "train_p,val_p,test_p = PreProcessing.split_dataset(strain,percentage=True)\n",
    "\n",
    "print('# samples:', train_p+val_p+test_p,\n",
    "      '\\n# training:', train_p,\n",
    "      '\\n# validation:', val_p,\n",
    "      '\\n# test:', test_p)"
   ]
  },
  {
   "cell_type": "code",
   "execution_count": 6,
   "id": "937040bf",
   "metadata": {
    "cell_id": "00008-94541d0c-fd68-46fa-aaad-4e4379274ad5",
    "deepnote_cell_height": 102,
    "deepnote_cell_type": "code"
   },
   "outputs": [],
   "source": [
    "strain_tv,strain_test = PreProcessing.split_dataset(strain)\n",
    "stress_tv,stress_test = PreProcessing.split_dataset(stress)\n",
    "energy_tv,energy_test = PreProcessing.split_dataset(energy)"
   ]
  },
  {
   "cell_type": "markdown",
   "id": "f361c2ec",
   "metadata": {
    "cell_id": "00009-563e0cc8-5548-4a81-85c8-23d6f429b372",
    "deepnote_cell_height": 54,
    "deepnote_cell_type": "markdown"
   },
   "source": [
    "##### Get normalization parameters"
   ]
  },
  {
   "cell_type": "markdown",
   "id": "2bd22116",
   "metadata": {
    "cell_id": "00010-1b068c9d-eb4b-457c-8f36-e88896a7f445",
    "deepnote_cell_height": 232,
    "deepnote_cell_type": "markdown"
   },
   "source": [
    "prm_E = [alpha_E, beta_E] # strain\n",
    "\n",
    "prm_S = [alpha_S, beta_S] # stress\n",
    "\n",
    "prm_F = [alpha_F, beta_F] # free energy\n",
    "\n",
    "params = [prm_E,prm_S,prm_F]\n",
    "\n",
    "\n",
    "if NN: Nnet.SetParams(params)\n",
    "\n",
    "Else: TANNnet.SetParams(params)"
   ]
  },
  {
   "cell_type": "markdown",
   "id": "7396094a",
   "metadata": {
    "cell_id": "00011-54218180-7eeb-47fb-9b1b-b8cee940c32a",
    "deepnote_cell_height": 54,
    "deepnote_cell_type": "markdown"
   },
   "source": [
    "##### Normalize datasets"
   ]
  },
  {
   "cell_type": "code",
   "execution_count": 7,
   "id": "36462508",
   "metadata": {
    "cell_id": "00012-b8a951bd-fa35-490f-9940-764b0a24c239",
    "deepnote_cell_height": 228,
    "deepnote_cell_type": "code"
   },
   "outputs": [
    {
     "ename": "NameError",
     "evalue": "name 'prm_E' is not defined",
     "output_type": "error",
     "traceback": [
      "\u001b[0;31m---------------------------------------------------------------------------\u001b[0m",
      "\u001b[0;31mNameError\u001b[0m                                 Traceback (most recent call last)",
      "Input \u001b[0;32mIn [7]\u001b[0m, in \u001b[0;36m<cell line: 3>\u001b[0;34m()\u001b[0m\n\u001b[1;32m      1\u001b[0m \u001b[38;5;66;03m# Training and validation datasets\u001b[39;00m\n\u001b[1;32m      3\u001b[0m __strain_tv,__strain_test \u001b[38;5;241m=\u001b[39m PreProcessing\u001b[38;5;241m.\u001b[39mNormalize(\n\u001b[0;32m----> 4\u001b[0m     [strain_tv,strain_test],\u001b[43mprm_E\u001b[49m,train_val\u001b[38;5;241m=\u001b[39m\u001b[38;5;28;01mTrue\u001b[39;00m)\n\u001b[1;32m      5\u001b[0m __stress_tv,__stress_test \u001b[38;5;241m=\u001b[39m PreProcessing\u001b[38;5;241m.\u001b[39mNormalize(\n\u001b[1;32m      6\u001b[0m     [stress_tv,stress_test],prm_S,train_val\u001b[38;5;241m=\u001b[39m\u001b[38;5;28;01mTrue\u001b[39;00m)\n\u001b[1;32m      7\u001b[0m __energy_tv,__energy_test \u001b[38;5;241m=\u001b[39m PreProcessing\u001b[38;5;241m.\u001b[39mNormalize(\n\u001b[1;32m      8\u001b[0m     [energy_tv,energy_test],prm_F,train_val\u001b[38;5;241m=\u001b[39m\u001b[38;5;28;01mTrue\u001b[39;00m)\n",
      "\u001b[0;31mNameError\u001b[0m: name 'prm_E' is not defined"
     ]
    }
   ],
   "source": [
    "# Training and validation datasets\n",
    "\n",
    "__strain_tv,__strain_test = PreProcessing.Normalize(\n",
    "    [strain_tv,strain_test],prm_E,train_val=True)\n",
    "__stress_tv,__stress_test = PreProcessing.Normalize(\n",
    "    [stress_tv,stress_test],prm_S,train_val=True)\n",
    "__energy_tv,__energy_test = PreProcessing.Normalize(\n",
    "    [energy_tv,energy_test],prm_F,train_val=True)\n",
    "\n"
   ]
  },
  {
   "cell_type": "markdown",
   "id": "ef34e7de",
   "metadata": {
    "cell_id": "00013-300be88d-280a-41da-907d-4bfe7d6636a4",
    "deepnote_cell_height": 62,
    "deepnote_cell_type": "markdown"
   },
   "source": [
    "### Neural Networks"
   ]
  },
  {
   "cell_type": "markdown",
   "id": "b6b86cfd",
   "metadata": {
    "cell_id": "00014-2394b26a-23fd-412c-8532-e2d87144fa2b",
    "deepnote_cell_height": 54,
    "deepnote_cell_type": "markdown"
   },
   "source": [
    "#### Build network"
   ]
  },
  {
   "cell_type": "code",
   "execution_count": null,
   "id": "cbebb66c",
   "metadata": {
    "cell_id": "00015-7b7b5a2e-d203-46b9-b789-a771e45da4f9",
    "deepnote_cell_height": 426,
    "deepnote_cell_type": "code"
   },
   "outputs": [],
   "source": [
    "umat_dim = 4 # dimensional space\n",
    "\n",
    "hidden_NN_Stress = 6 # number of hidden layers in NN Evolution\n",
    "material = 'elastic'\n",
    "\n",
    "Nnet = NeuralNetwork(umat_dim,\n",
    "                     material,\n",
    "                     hidden_NN_Stress,\n",
    "                     activation_NN_Stress='tanh',\n",
    "                     ) # Initialize TANN class\n",
    "\n",
    "\n",
    "params = [prm_E,prm_S] # regroup normalization parameters\n",
    "Nnet.SetParams(params) # set normalization parameters in the model\n",
    "\n",
    "# build TF model class\n",
    "input_shape = [None,umat_dim]\n",
    "Nnet.build(input_shape)\n",
    "\n",
    "# print model's summary\n",
    "print(Nnet.summary())"
   ]
  },
  {
   "cell_type": "markdown",
   "id": "0e6851d7",
   "metadata": {
    "cell_id": "00016-85581812-789b-437b-9c98-7785241ee249",
    "deepnote_cell_height": 54,
    "deepnote_cell_type": "markdown"
   },
   "source": [
    "#### Define inputs and outputs"
   ]
  },
  {
   "cell_type": "code",
   "execution_count": null,
   "id": "a0a928d4",
   "metadata": {
    "cell_id": "00017-80bed3a6-cf3e-478e-9959-dd8325aff35b",
    "deepnote_cell_height": 174,
    "deepnote_cell_type": "code"
   },
   "outputs": [],
   "source": [
    "output_tv = __stress_tv\n",
    "\n",
    "output_test = __stress_test\n",
    "\n",
    "input_tv = __strain_tv\n",
    "\n",
    "input_test = __strain_test"
   ]
  },
  {
   "cell_type": "markdown",
   "id": "ed72b508",
   "metadata": {
    "cell_id": "00018-eafa51cd-c7a9-4b46-a146-9b724c33d46b",
    "deepnote_cell_height": 54,
    "deepnote_cell_type": "markdown"
   },
   "source": [
    "#### Compile and train the network"
   ]
  },
  {
   "cell_type": "code",
   "execution_count": null,
   "id": "e9fe8a76",
   "metadata": {
    "cell_id": "00019-df49b48c-805d-4a37-ab78-778c532583dc",
    "deepnote_cell_height": 192,
    "deepnote_cell_type": "code",
    "scrolled": true
   },
   "outputs": [],
   "source": [
    "Nnet.compileNet()\n",
    "\n",
    "hist_Nnet = Nnet.fit(input_tv,output_tv,\n",
    "                           epochs = 1500,\n",
    "                           validation_split=0.2,\n",
    "                           batch_size = 200,\n",
    "                           verbose = 2,\n",
    "                           use_multiprocessing=True)"
   ]
  },
  {
   "cell_type": "markdown",
   "id": "e4f8d2ee",
   "metadata": {
    "cell_id": "00020-2dc2d657-472e-4727-b9e7-cdb6dac5d862",
    "deepnote_cell_height": 54,
    "deepnote_cell_type": "markdown"
   },
   "source": [
    "#### Evaluate losses"
   ]
  },
  {
   "cell_type": "code",
   "execution_count": null,
   "id": "03a955cb",
   "metadata": {
    "cell_id": "00021-0aa2a28d-b376-4d18-aab5-fb0fea100aec",
    "deepnote_cell_height": 174,
    "deepnote_cell_type": "code"
   },
   "outputs": [],
   "source": [
    "print('Evaluate loss for training and validation datasets:'); Nnet.evaluate(input_tv,output_tv,verbose=2)\n",
    "print('\\nEvaluate loss for test datasets:'); Nnet.evaluate(input_test,output_test,verbose=2)\n",
    "\n",
    "\n",
    "stress_loss = np.asarray(hist_Nnet.history['loss'])\n",
    "stress_val_loss = np.asarray(hist_Nnet.history['val_loss'])\n",
    "epochs = range(1, len(stress_loss) + 1)"
   ]
  },
  {
   "cell_type": "markdown",
   "id": "728463f4",
   "metadata": {
    "cell_id": "00022-935282dc-4c5e-43cd-9e99-c3b283293f28",
    "deepnote_cell_height": 54,
    "deepnote_cell_type": "markdown"
   },
   "source": [
    "#### Plot training curves"
   ]
  },
  {
   "cell_type": "code",
   "execution_count": null,
   "id": "ca204703",
   "metadata": {
    "cell_id": "00023-c93e1e4a-d58f-464f-9f3e-54c68976e5c1",
    "deepnote_cell_height": 228,
    "deepnote_cell_type": "code",
    "scrolled": true,
    "tags": []
   },
   "outputs": [],
   "source": [
    "fig, ax = plt.subplots(1)\n",
    "ax.loglog(epochs, stress_loss, color='black', label='$\\sigma$', linewidth=2, marker='o',markersize=0)\n",
    "ax.loglog(epochs, stress_val_loss, color='black',  alpha=0.5,  linewidth=2, marker='o',markersize=0)\n",
    "\n",
    "\n",
    "ax.set_xlabel('epochs')\n",
    "ax.set_ylabel('Mean Absolute Error')\n",
    "ax.legend(loc='best')\n",
    "ax.set_ylim(5e-9,10)\n",
    "ax.grid()"
   ]
  },
  {
   "cell_type": "markdown",
   "id": "545aa9e6",
   "metadata": {
    "cell_id": "00024-f76be0a7-3d3d-4e74-90a7-4d6b32cdd721",
    "deepnote_cell_height": 54,
    "deepnote_cell_type": "markdown"
   },
   "source": [
    "#### Predictions for the entire batch"
   ]
  },
  {
   "cell_type": "code",
   "execution_count": null,
   "id": "6550219f",
   "metadata": {
    "cell_id": "00025-b683462b-6884-4f08-9b82-f7a1d0b8ddf5",
    "deepnote_cell_height": 210,
    "deepnote_cell_type": "code"
   },
   "outputs": [],
   "source": [
    "pred__stress = Nnet.predict(input_test)\n",
    "\n",
    "# Plot\n",
    "plt.plot(__stress_test,\n",
    "         pred__stress,\n",
    "         alpha=0.3,linewidth=0, marker='o',markersize=5)\n",
    "plt.xlabel(\"$\\sigma$\")\n",
    "plt.ylabel(\"$\\sigma=NN(\\\\varepsilon)$\")\n",
    "plt.show()"
   ]
  },
  {
   "cell_type": "markdown",
   "id": "7bdfa884",
   "metadata": {
    "cell_id": "00026-5df42fe9-4d11-410f-b03c-2f597ecc8189",
    "deepnote_cell_height": 54,
    "deepnote_cell_type": "markdown"
   },
   "source": [
    "#### Prediction point by point"
   ]
  },
  {
   "cell_type": "code",
   "execution_count": null,
   "id": "255331ef",
   "metadata": {
    "cell_id": "00027-ba541cc5-a4bd-4908-9a92-ba8108ee211f",
    "deepnote_cell_height": 102,
    "deepnote_cell_type": "code"
   },
   "outputs": [],
   "source": [
    "pred__stress_point = Nnet.predict_on_batch(np.array([input_test[0]]))\n",
    "print('Predicted stress point', pred__stress_point)\n",
    "print('Test stress point', __stress_test[0])"
   ]
  },
  {
   "cell_type": "markdown",
   "id": "31716188",
   "metadata": {
    "cell_id": "00028-6f3b739a-13b8-4326-a997-63e83c0d2d88",
    "deepnote_cell_height": 62,
    "deepnote_cell_type": "markdown"
   },
   "source": [
    "### Save model"
   ]
  },
  {
   "cell_type": "code",
   "execution_count": null,
   "id": "195ed9bb",
   "metadata": {
    "cell_id": "00029-7fbdb6cd-1211-4219-a221-9788baa07568",
    "deepnote_cell_height": 84,
    "deepnote_cell_type": "code"
   },
   "outputs": [],
   "source": [
    "# filename = 'results/NN_Elasticity'\n",
    "# Nnet.save_export(filename)"
   ]
  },
  {
   "cell_type": "code",
   "execution_count": null,
   "id": "5d4fab9a",
   "metadata": {
    "cell_id": "00030-f8019d53-1fd2-4dda-85e7-8c41ab5bb633",
    "deepnote_cell_height": 66,
    "deepnote_cell_type": "code"
   },
   "outputs": [],
   "source": []
  },
  {
   "cell_type": "markdown",
   "id": "f59452c3",
   "metadata": {
    "created_in_deepnote_cell": true,
    "deepnote_cell_type": "markdown",
    "tags": []
   },
   "source": [
    "<a style='text-decoration:none;line-height:16px;display:flex;color:#5B5B62;padding:10px;justify-content:end;' href='https://deepnote.com?utm_source=created-in-deepnote-cell&projectId=b33f54f1-f98d-4fed-99c0-2484f115edd9' target=\"_blank\">\n",
    "<img alt='Created in deepnote.com' style='display:inline;max-height:16px;margin:0px;margin-right:7.5px;' src='data:image/svg+xml;base64,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' > </img>\n",
    "Created in <span style='font-weight:600;margin-left:4px;'>Deepnote</span></a>"
   ]
  }
 ],
 "metadata": {
  "deepnote": {},
  "deepnote_execution_queue": [],
  "deepnote_notebook_id": "b62d9363-77ac-44d2-860a-9838011fccaf",
  "kernelspec": {
   "display_name": "Python 3 (ipykernel)",
   "language": "python",
   "name": "python3"
  },
  "language_info": {
   "codemirror_mode": {
    "name": "ipython",
    "version": 3
   },
   "file_extension": ".py",
   "mimetype": "text/x-python",
   "name": "python",
   "nbconvert_exporter": "python",
   "pygments_lexer": "ipython3",
   "version": "3.8.13"
  }
 },
 "nbformat": 4,
 "nbformat_minor": 5
}
