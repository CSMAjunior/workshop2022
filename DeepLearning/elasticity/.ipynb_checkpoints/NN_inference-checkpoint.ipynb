{
 "cells": [
  {
   "cell_type": "markdown",
   "id": "ecc17aa0-63b0-4f34-a367-2e32fa5dd74d",
   "metadata": {},
   "source": [
    "### Import libraries\n",
    "Import libraries, set parameters, and import classes"
   ]
  },
  {
   "cell_type": "code",
   "execution_count": null,
   "id": "b544aa76-6a61-45e4-b54f-1aecd45a5f39",
   "metadata": {},
   "outputs": [],
   "source": [
    "import numpy as np\n",
    "import tensorflow as tf\n",
    "import pickle\n",
    "np.random.seed(1)\n",
    "tf.random.set_seed(1)\n",
    "tf.keras.backend.set_floatx('float32')\n",
    "\n",
    "import matplotlib.pyplot as plt\n",
    "plt.rcParams[\"figure.figsize\"] = (3,3)\n",
    "plt.rcParams.update({\n",
    "    \"text.usetex\": True,\n",
    "    \"font.family\": \"sans-serif\",\n",
    "    \"font.sans-serif\": [\"DejaVu Sans\"]})\n",
    "plt.rcParams.update({'font.size': 13})"
   ]
  },
  {
   "cell_type": "code",
   "execution_count": null,
   "id": "technological-audience",
   "metadata": {},
   "outputs": [],
   "source": [
    "from __lib__.NN_class import NeuralNetwork\n",
    "from __lib__.DataProcessing import PreProcessing"
   ]
  },
  {
   "cell_type": "markdown",
   "id": "447c12d5-4e80-4b0e-a7b4-b17c51c579d3",
   "metadata": {},
   "source": [
    "### Neural Networks\n",
    "\n",
    "Import trained model by specifying the file (filename) of the saved weights and the architecture.\n",
    "The function import_compile(filename,input_shape) performs a check of the defined parameters wrt the saved model"
   ]
  },
  {
   "cell_type": "code",
   "execution_count": null,
   "id": "15cb04d6-e7eb-4f11-83ae-d944b0372386",
   "metadata": {},
   "outputs": [],
   "source": [
    "# file where the model was saved\n",
    "filename = './results/NN_Elasticity'\n",
    "\n",
    "# build network, import weights, and compile to make predictions\n",
    "umat_dim = 4 # dimensional space\n",
    "material='elastic'\n",
    "hidden_NN_Stress = 6 # number of hidden layers in NN Evolution\n",
    "\n",
    "Nnet = NeuralNetwork(umat_dim,\n",
    "                     material,\n",
    "                     hidden_NN_Stress,\n",
    "                     activation_NN_Stress='tanh') # Initialize TANN class\n",
    "\n",
    "# build TF model class\n",
    "input_shape = [None,umat_dim]\n",
    "\n",
    "Nnet.import_compile(filename,input_shape)\n"
   ]
  },
  {
   "cell_type": "markdown",
   "id": "threatened-impact",
   "metadata": {},
   "source": [
    "#### Inference: loading path\n",
    "\n",
    "Make predictions of the constitutive response under a simple shear loading path using the trained model. The loading path is predefined (see below), but you have to implement a function that call the trained model and make predictions.\n",
    "\n",
    "Note. All quantities should be physical (not normalized)"
   ]
  },
  {
   "cell_type": "code",
   "execution_count": null,
   "id": "protecting-chamber",
   "metadata": {
    "scrolled": true
   },
   "outputs": [],
   "source": [
    "increments = 30\n",
    "sub_increments = increments//2\n",
    "de = 1e-3\n",
    "umat_dir = -1\n",
    "\n",
    "dstrain = np.zeros((increments,umat_dim))\n",
    "dstrain[:sub_increments,umat_dir] = de*np.ones((sub_increments))\n",
    "dstrain[sub_increments:2*sub_increments,umat_dir] = -de*np.ones((sub_increments))\n",
    "\n",
    "strain = np.zeros((1,umat_dim))"
   ]
  },
  {
   "cell_type": "markdown",
   "id": "metric-greeting",
   "metadata": {},
   "source": [
    "#### 1. Make predictions\n",
    "\n",
    "Here goes your function to predict the stress and internal variables deriving from the deformation path specified by dstrain"
   ]
  },
  {
   "cell_type": "code",
   "execution_count": null,
   "id": "greek-orlando",
   "metadata": {},
   "outputs": [],
   "source": [
    "hstress = ???"
   ]
  },
  {
   "cell_type": "markdown",
   "id": "tamil-ferry",
   "metadata": {},
   "source": [
    "#### Import reference model solution"
   ]
  },
  {
   "cell_type": "code",
   "execution_count": null,
   "id": "herbal-vegetation",
   "metadata": {},
   "outputs": [],
   "source": [
    "file = './data/3D_PlaneStrain_Elasticity_CSMA_inference'\n",
    "with open(file, 'rb') as f_obj:\n",
    "    data = pickle.load(f_obj)\n",
    "\n",
    "strain_ref,svars_ref,stress_ref,energy_ref,dissipationDot_ref = data"
   ]
  },
  {
   "cell_type": "markdown",
   "id": "broad-galaxy",
   "metadata": {},
   "source": [
    "#### (+) Compute elastic energy"
   ]
  },
  {
   "cell_type": "code",
   "execution_count": null,
   "id": "virgin-grill",
   "metadata": {},
   "outputs": [],
   "source": [
    "def computeEnergy_elasticity(strain,stress):\n",
    "    energy = 0.5*np.einsum('ij,ij->i',strain,stress,order='F')\n",
    "    return energy\n",
    "\n",
    "henergy = computeEnergy_elasticity(hstrain,hstress)"
   ]
  },
  {
   "cell_type": "markdown",
   "id": "coordinated-child",
   "metadata": {},
   "source": [
    "#### Compare results\n",
    "\n",
    "Plot the stress vs strain history as predicted by the model and compare it with the one of the reference model"
   ]
  },
  {
   "cell_type": "code",
   "execution_count": null,
   "id": "according-victor",
   "metadata": {},
   "outputs": [],
   "source": [
    "plt.plot(hstrain[:,umat_dir],\n",
    "         hstress[:,umat_dir],\n",
    "         color = 'darkblue',\n",
    "         alpha=1,linewidth=1, marker='o',markersize=5,label='NN')\n",
    "plt.plot(strain_ref[:,umat_dir],\n",
    "         stress_ref[:,umat_dir],\n",
    "         color='darkorange',\n",
    "         alpha=1,linewidth=2, marker='s',markersize=0,label='ref')\n",
    "plt.xlabel(\"$\\\\varepsilon$\")\n",
    "plt.ylabel(\"$\\sigma= NN(\\\\varepsilon)$\")\n",
    "plt.legend()\n",
    "plt.show()"
   ]
  },
  {
   "cell_type": "markdown",
   "id": "scheduled-vaccine",
   "metadata": {},
   "source": [
    "Plot the free energy vs strain history as predicted by the model and compare it with the one of the reference model"
   ]
  },
  {
   "cell_type": "code",
   "execution_count": null,
   "id": "coordinate-murder",
   "metadata": {},
   "outputs": [],
   "source": [
    "plt.plot(hstrain[:,umat_dir],\n",
    "         henergy,\n",
    "         color = 'darkblue',\n",
    "         alpha=1,linewidth=1, marker='o',markersize=5,label='NN')\n",
    "\n",
    "plt.plot(strain_ref[:,umat_dir],\n",
    "         energy_ref,\n",
    "         color = 'coral',\n",
    "         alpha=1,linewidth=2, marker='s',markersize=0,label='ref')\n",
    "plt.xlabel(\"$\\\\varepsilon$\")\n",
    "plt.ylabel(\"$\\psi$\")\n",
    "plt.legend()\n",
    "plt.show()"
   ]
  },
  {
   "cell_type": "markdown",
   "id": "precise-freedom",
   "metadata": {},
   "source": [
    "#### Compute and plot the error with respect to the reference constitutive model"
   ]
  },
  {
   "cell_type": "code",
   "execution_count": null,
   "id": "lovely-assist",
   "metadata": {},
   "outputs": [],
   "source": [
    "MAE_energy = (np.abs(energy_ref-henergy))\n",
    "MAE_stress = (np.abs(stress_ref[:,umat_dir]-hstress[:,umat_dir]))"
   ]
  },
  {
   "cell_type": "code",
   "execution_count": null,
   "id": "demonstrated-directive",
   "metadata": {},
   "outputs": [],
   "source": [
    "plt.plot(hstrain[:,umat_dir],\n",
    "         MAE_energy,\n",
    "         alpha=1,linewidth=1, marker='o',markersize=4,label='$MAE_{\\psi}$')\n",
    "\n",
    "plt.plot(hstrain[:,umat_dir],\n",
    "         MAE_stress,\n",
    "          alpha=1,linewidth=1, marker='s',markersize=4,label='$MAE_{\\sigma}$')\n",
    "plt.xlabel(\"$\\\\varepsilon$\")\n",
    "plt.ylabel(\"Mean Absolute Error\")\n",
    "plt.legend()\n",
    "plt.show()"
   ]
  },
  {
   "cell_type": "code",
   "execution_count": null,
   "id": "breathing-channel",
   "metadata": {},
   "outputs": [],
   "source": []
  }
 ],
 "metadata": {
  "kernelspec": {
   "display_name": "Python 3",
   "language": "python",
   "name": "python3"
  },
  "language_info": {
   "codemirror_mode": {
    "name": "ipython",
    "version": 3
   },
   "file_extension": ".py",
   "mimetype": "text/x-python",
   "name": "python",
   "nbconvert_exporter": "python",
   "pygments_lexer": "ipython3",
   "version": "3.8.10"
  }
 },
 "nbformat": 4,
 "nbformat_minor": 5
}
