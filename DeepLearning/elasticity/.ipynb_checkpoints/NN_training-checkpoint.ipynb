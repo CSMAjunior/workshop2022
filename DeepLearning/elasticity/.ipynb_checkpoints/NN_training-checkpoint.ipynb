{
 "cells": [
  {
   "cell_type": "markdown",
   "id": "ecc17aa0-63b0-4f34-a367-2e32fa5dd74d",
   "metadata": {},
   "source": [
    "### Import libraries\n",
    "\n",
    "Import libraries, set parameters, and import classes"
   ]
  },
  {
   "cell_type": "code",
   "execution_count": null,
   "id": "b544aa76-6a61-45e4-b54f-1aecd45a5f39",
   "metadata": {},
   "outputs": [],
   "source": [
    "import numpy as np\n",
    "import tensorflow as tf\n",
    "import pickle\n",
    "np.random.seed(1)\n",
    "tf.random.set_seed(1)\n",
    "tf.keras.backend.set_floatx('float32')\n",
    "\n",
    "import matplotlib.pyplot as plt\n",
    "plt.rcParams[\"figure.figsize\"] = (3,3)\n",
    "plt.rcParams.update({\n",
    "    \"text.usetex\": True,\n",
    "    \"font.family\": \"sans-serif\",\n",
    "    \"font.sans-serif\": [\"DejaVu Sans\"]})\n",
    "plt.rcParams.update({'font.size': 13})"
   ]
  },
  {
   "cell_type": "code",
   "execution_count": null,
   "id": "cardiovascular-electronics",
   "metadata": {},
   "outputs": [],
   "source": [
    "from __lib__.NN_class import NeuralNetwork\n",
    "from __lib__.DataProcessing import PreProcessing"
   ]
  },
  {
   "cell_type": "markdown",
   "id": "d4bb0717-1e30-424b-8e3d-fa2e0d9d85d9",
   "metadata": {},
   "source": [
    "### Import datasets and pre-processing"
   ]
  },
  {
   "cell_type": "code",
   "execution_count": null,
   "id": "yellow-boards",
   "metadata": {},
   "outputs": [],
   "source": [
    "file = './data/3D_PlaneStrain_Elasticity_CSMA'\n",
    "training_percentage = 0.6"
   ]
  },
  {
   "cell_type": "code",
   "execution_count": null,
   "id": "improved-taylor",
   "metadata": {},
   "outputs": [],
   "source": [
    "with open(file, 'rb') as f_obj:\n",
    "    data = pickle.load(f_obj)\n",
    "\n",
    "strain,stress,energy = data\n",
    "\n",
    "del data"
   ]
  },
  {
   "cell_type": "markdown",
   "id": "proper-married",
   "metadata": {},
   "source": [
    "##### Split datasets  (tv=training+validation - test)"
   ]
  },
  {
   "cell_type": "code",
   "execution_count": null,
   "id": "prepared-gamma",
   "metadata": {},
   "outputs": [],
   "source": [
    "PreProcessing = PreProcessing(training_percentage)\n",
    "\n",
    "train_p,val_p,test_p = PreProcessing.split_dataset(strain,percentage=True)\n",
    "\n",
    "print('# samples:', train_p+val_p+test_p,\n",
    "      '\\n# training:', train_p,\n",
    "      '\\n# validation:', val_p,\n",
    "      '\\n# test:', test_p)"
   ]
  },
  {
   "cell_type": "code",
   "execution_count": null,
   "id": "dynamic-criticism",
   "metadata": {},
   "outputs": [],
   "source": [
    "strain_tv,strain_test = PreProcessing.split_dataset(strain)\n",
    "stress_tv,stress_test = PreProcessing.split_dataset(stress)\n",
    "energy_tv,energy_test = PreProcessing.split_dataset(energy)"
   ]
  },
  {
   "cell_type": "markdown",
   "id": "personalized-proposal",
   "metadata": {},
   "source": [
    "##### Get normalization parameters"
   ]
  },
  {
   "cell_type": "markdown",
   "id": "original-ocean",
   "metadata": {},
   "source": [
    "prm_E = [alpha_E, beta_E] # strain\n",
    "\n",
    "prm_S = [alpha_S, beta_S] # stress\n",
    "\n",
    "prm_F = [alpha_F, beta_F] # free energy\n",
    "\n",
    "params = [prm_E,prm_S,prm_F]\n",
    "\n",
    "\n",
    "if NN: Nnet.SetParams(params)\n",
    "\n",
    "Else: TANNnet.SetParams(params)"
   ]
  },
  {
   "cell_type": "markdown",
   "id": "liable-finnish",
   "metadata": {},
   "source": [
    "##### Normalize datasets"
   ]
  },
  {
   "cell_type": "code",
   "execution_count": null,
   "id": "featured-going",
   "metadata": {},
   "outputs": [],
   "source": [
    "# Training and validation datasets\n",
    "\n",
    "__strain_tv,__strain_test = PreProcessing.Normalize(\n",
    "    [strain_tv,strain_test],prm_E,train_val=True)\n",
    "__stress_tv,__stress_test = PreProcessing.Normalize(\n",
    "    [stress_tv,stress_test],prm_S,train_val=True)\n",
    "__energy_tv,__energy_test = PreProcessing.Normalize(\n",
    "    [energy_tv,energy_test],prm_F,train_val=True)\n",
    "\n"
   ]
  },
  {
   "cell_type": "markdown",
   "id": "447c12d5-4e80-4b0e-a7b4-b17c51c579d3",
   "metadata": {},
   "source": [
    "### Neural Networks"
   ]
  },
  {
   "cell_type": "markdown",
   "id": "southeast-enforcement",
   "metadata": {},
   "source": [
    "#### Build network"
   ]
  },
  {
   "cell_type": "code",
   "execution_count": null,
   "id": "15cb04d6-e7eb-4f11-83ae-d944b0372386",
   "metadata": {},
   "outputs": [],
   "source": [
    "umat_dim = 4 # dimensional space\n",
    "\n",
    "hidden_NN_Stress = 6 # number of hidden layers in NN Evolution\n",
    "material = 'elastic'\n",
    "\n",
    "Nnet = NeuralNetwork(umat_dim,\n",
    "                     material,\n",
    "                     hidden_NN_Stress,\n",
    "                     activation_NN_Stress='tanh',\n",
    "                     ) # Initialize TANN class\n",
    "\n",
    "\n",
    "params = [prm_E,prm_S] # regroup normalization parameters\n",
    "Nnet.SetParams(params) # set normalization parameters in the model\n",
    "\n",
    "# build TF model class\n",
    "input_shape = [None,umat_dim]\n",
    "Nnet.build(input_shape)\n",
    "\n",
    "# print model's summary\n",
    "print(Nnet.summary())"
   ]
  },
  {
   "cell_type": "markdown",
   "id": "abroad-mining",
   "metadata": {},
   "source": [
    "#### Define inputs and outputs"
   ]
  },
  {
   "cell_type": "code",
   "execution_count": null,
   "id": "sound-sponsorship",
   "metadata": {},
   "outputs": [],
   "source": [
    "output_tv = __stress_tv\n",
    "\n",
    "output_test = __stress_test\n",
    "\n",
    "input_tv = __strain_tv\n",
    "\n",
    "input_test = __strain_test"
   ]
  },
  {
   "cell_type": "markdown",
   "id": "extraordinary-parallel",
   "metadata": {},
   "source": [
    "#### Compile and train the network"
   ]
  },
  {
   "cell_type": "code",
   "execution_count": null,
   "id": "protecting-chamber",
   "metadata": {
    "scrolled": true
   },
   "outputs": [],
   "source": [
    "Nnet.compileNet()\n",
    "\n",
    "hist_Nnet = Nnet.fit(input_tv,output_tv,\n",
    "                           epochs = 1500,\n",
    "                           validation_split=0.2,\n",
    "                           batch_size = 200,\n",
    "                           verbose = 2,\n",
    "                           use_multiprocessing=True)"
   ]
  },
  {
   "cell_type": "markdown",
   "id": "arctic-canon",
   "metadata": {},
   "source": [
    "#### Evaluate losses"
   ]
  },
  {
   "cell_type": "code",
   "execution_count": null,
   "id": "burning-reading",
   "metadata": {},
   "outputs": [],
   "source": [
    "print('Evaluate loss for training and validation datasets:'); Nnet.evaluate(input_tv,output_tv,verbose=2)\n",
    "print('\\nEvaluate loss for test datasets:'); Nnet.evaluate(input_test,output_test,verbose=2)\n",
    "\n",
    "\n",
    "stress_loss = np.asarray(hist_Nnet.history['loss'])\n",
    "stress_val_loss = np.asarray(hist_Nnet.history['val_loss'])\n",
    "epochs = range(1, len(stress_loss) + 1)"
   ]
  },
  {
   "cell_type": "markdown",
   "id": "great-destruction",
   "metadata": {},
   "source": [
    "#### Plot training curves"
   ]
  },
  {
   "cell_type": "code",
   "execution_count": null,
   "id": "numerical-reception",
   "metadata": {
    "scrolled": true,
    "tags": []
   },
   "outputs": [],
   "source": [
    "fig, ax = plt.subplots(1)\n",
    "ax.loglog(epochs, stress_loss, color='black', label='$\\sigma$', linewidth=2, marker='o',markersize=0)\n",
    "ax.loglog(epochs, stress_val_loss, color='black',  alpha=0.5,  linewidth=2, marker='o',markersize=0)\n",
    "\n",
    "\n",
    "ax.set_xlabel('epochs')\n",
    "ax.set_ylabel('Mean Absolute Error')\n",
    "ax.legend(loc='best')\n",
    "ax.set_ylim(5e-9,10)\n",
    "ax.grid()"
   ]
  },
  {
   "cell_type": "markdown",
   "id": "focal-trance",
   "metadata": {},
   "source": [
    "#### Predictions for the entire batch"
   ]
  },
  {
   "cell_type": "code",
   "execution_count": null,
   "id": "scenic-diameter",
   "metadata": {},
   "outputs": [],
   "source": [
    "pred__stress = Nnet.predict(input_test)\n",
    "\n",
    "# Plot\n",
    "plt.plot(__stress_test,\n",
    "         pred__stress,\n",
    "         alpha=0.3,linewidth=0, marker='o',markersize=5)\n",
    "plt.xlabel(\"$\\sigma$\")\n",
    "plt.ylabel(\"$\\sigma=NN(\\\\varepsilon)$\")\n",
    "plt.show()"
   ]
  },
  {
   "cell_type": "markdown",
   "id": "wicked-surrey",
   "metadata": {},
   "source": [
    "#### Prediction point by point"
   ]
  },
  {
   "cell_type": "code",
   "execution_count": null,
   "id": "cardiovascular-cleveland",
   "metadata": {},
   "outputs": [],
   "source": [
    "pred__stress_point = Nnet.predict_on_batch(np.array([input_test[0]]))\n",
    "print('Predicted stress point', pred__stress_point)\n",
    "print('Test stress point', __stress_test[0])"
   ]
  },
  {
   "cell_type": "markdown",
   "id": "optional-florence",
   "metadata": {},
   "source": [
    "### Save model"
   ]
  },
  {
   "cell_type": "code",
   "execution_count": null,
   "id": "aware-trigger",
   "metadata": {},
   "outputs": [],
   "source": [
    "# filename = 'results/NN_Elasticity'\n",
    "# Nnet.save_export(filename)"
   ]
  },
  {
   "cell_type": "code",
   "execution_count": null,
   "id": "formal-convert",
   "metadata": {},
   "outputs": [],
   "source": []
  }
 ],
 "metadata": {
  "kernelspec": {
   "display_name": "Python 3",
   "language": "python",
   "name": "python3"
  },
  "language_info": {
   "codemirror_mode": {
    "name": "ipython",
    "version": 3
   },
   "file_extension": ".py",
   "mimetype": "text/x-python",
   "name": "python",
   "nbconvert_exporter": "python",
   "pygments_lexer": "ipython3",
   "version": "3.8.10"
  }
 },
 "nbformat": 4,
 "nbformat_minor": 5
}
