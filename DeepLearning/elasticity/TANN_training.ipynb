{
 "cells": [
  {
   "cell_type": "markdown",
   "source": "### Import libraries\n\nImport libraries, set parameters, and import classes",
   "metadata": {
    "cell_id": "bb0d9a27-899c-4489-86d0-466649aa74a8",
    "deepnote_cell_type": "markdown",
    "deepnote_cell_height": 100
   }
  },
  {
   "cell_type": "code",
   "metadata": {
    "cell_id": "00001-d7633a8b-d684-41d8-823e-094acad9af64",
    "owner_user_id": "5bb91923-5f7e-4fe6-8d4b-271ce2a72b9f",
    "deepnote_cell_type": "code",
    "deepnote_cell_height": 228
   },
   "source": "import numpy as np\nimport tensorflow as tf\nimport pickle\nnp.random.seed(1)\ntf.random.set_seed(1)\ntf.keras.backend.set_floatx('float32')\n\nimport matplotlib.pyplot as plt\nplt.rcParams[\"figure.figsize\"] = (3,3)\nplt.rcParams.update({'font.size': 13})",
   "execution_count": null,
   "outputs": []
  },
  {
   "cell_type": "code",
   "metadata": {
    "cell_id": "00002-75e560d4-b806-432a-a099-7aecd7f5aa5b",
    "deepnote_cell_type": "code",
    "deepnote_cell_height": 84
   },
   "source": "from __lib__.TANN_class import TANN\nfrom __lib__.DataProcessing import PreProcessing",
   "execution_count": null,
   "outputs": []
  },
  {
   "cell_type": "markdown",
   "source": "### Import datasets and pre-processing",
   "metadata": {
    "cell_id": "00003-4816637e-ea7d-445e-8e72-e216c9e77e08",
    "deepnote_cell_type": "markdown",
    "deepnote_cell_height": 62
   }
  },
  {
   "cell_type": "code",
   "metadata": {
    "cell_id": "00004-8cb4a295-30c8-4180-bb56-267418ddbcde",
    "deepnote_cell_type": "code",
    "deepnote_cell_height": 84
   },
   "source": "file = './data/3D_PlaneStrain_Elasticity_CSMA'\ntraining_percentage = 0.6",
   "execution_count": null,
   "outputs": []
  },
  {
   "cell_type": "code",
   "metadata": {
    "cell_id": "00005-8b9a026e-b712-439c-bd08-e8c8a8ae34eb",
    "deepnote_cell_type": "code",
    "deepnote_cell_height": 156
   },
   "source": "with open(file, 'rb') as f_obj:\n    data = pickle.load(f_obj)\n\nstrain,stress,energy = data\n\ndel data",
   "execution_count": null,
   "outputs": []
  },
  {
   "cell_type": "markdown",
   "source": "##### Split datasets  (tv=training+validation - test)",
   "metadata": {
    "cell_id": "00006-da268e71-18e2-4728-8263-3bac10f617c7",
    "deepnote_cell_type": "markdown",
    "deepnote_cell_height": 54
   }
  },
  {
   "cell_type": "code",
   "metadata": {
    "cell_id": "00007-541c7812-7987-4374-882d-ddb515f910f6",
    "deepnote_cell_type": "code",
    "deepnote_cell_height": 192
   },
   "source": "PreProcessing = PreProcessing(training_percentage)\n\ntrain_p,val_p,test_p = PreProcessing.split_dataset(strain,percentage=True)\n\nprint('# samples:', train_p+val_p+test_p,\n      '\\n# training:', train_p,\n      '\\n# validation:', val_p,\n      '\\n# test:', test_p)",
   "execution_count": null,
   "outputs": []
  },
  {
   "cell_type": "code",
   "metadata": {
    "cell_id": "00008-efeb5066-6242-429f-a3f4-5d398c75c968",
    "deepnote_cell_type": "code",
    "deepnote_cell_height": 102
   },
   "source": "strain_tv,strain_test = PreProcessing.split_dataset(strain)\nstress_tv,stress_test = PreProcessing.split_dataset(stress)\nenergy_tv,energy_test = PreProcessing.split_dataset(energy)",
   "execution_count": null,
   "outputs": []
  },
  {
   "cell_type": "markdown",
   "source": "##### Get normalization parameters",
   "metadata": {
    "cell_id": "00009-e6d95351-0ba9-4e98-bc4e-45bcd75fcc43",
    "deepnote_cell_type": "markdown",
    "deepnote_cell_height": 54
   }
  },
  {
   "cell_type": "markdown",
   "source": "prm_E = [alpha_E, beta_E] # strain\n\nprm_S = [alpha_S, beta_S] # stress\n\nprm_F = [alpha_F, beta_F] # free energy\n\nparams = [prm_E,prm_S,prm_F]\n\n\nif NN: Nnet.SetParams(params)\n\nElse: TANNnet.SetParams(params)\n\n\n",
   "metadata": {
    "cell_id": "00010-51a6155b-5717-42f3-afaf-b9dac695ae29",
    "deepnote_cell_type": "markdown",
    "deepnote_cell_height": 232
   }
  },
  {
   "cell_type": "markdown",
   "source": "##### Normalize datasets",
   "metadata": {
    "cell_id": "00011-841b04fd-5fc5-47f3-a238-8b103b9ebaab",
    "deepnote_cell_type": "markdown",
    "deepnote_cell_height": 54
   }
  },
  {
   "cell_type": "code",
   "metadata": {
    "cell_id": "00012-e8e4b947-3e11-4c1c-8959-ea66fb631ac1",
    "deepnote_cell_type": "code",
    "deepnote_cell_height": 192
   },
   "source": "# Training and validation datasets\n\n__strain_tv,__strain_test = PreProcessing.Normalize(\n    [strain_tv,strain_test],prm_E,train_val=True)\n__stress_tv,__stress_test = PreProcessing.Normalize(\n    [stress_tv,stress_test],prm_S,train_val=True)\n__energy_tv,__energy_test = PreProcessing.Normalize(\n    [energy_tv,energy_test],prm_F,train_val=True)",
   "execution_count": null,
   "outputs": []
  },
  {
   "cell_type": "markdown",
   "source": "### Thermodynamics-based Artificial Neural Networks",
   "metadata": {
    "cell_id": "00013-a65e372e-b086-4812-8130-bebf376d8c35",
    "deepnote_cell_type": "markdown",
    "deepnote_cell_height": 62
   }
  },
  {
   "cell_type": "code",
   "metadata": {
    "cell_id": "00014-1dae4e91-0eed-402a-9348-eba70dd671bb",
    "deepnote_cell_type": "code",
    "deepnote_cell_height": 426
   },
   "source": "umat_dim = 4 # dimensional space\n\nhidden_NN_Energy = 4 # number hidden layers in NN Energy\nmaterial = 'elastic'\n\nTANNnet = TANN(umat_dim,\n               material,\n               hidden_NN_Energy,\n               activation_NN_Energy='fast_gelu'\n#                activation_NN_Energy='relu'\n              ) # Initialize TANN class\n\nparams = [prm_E,prm_S,prm_F] # regroup normalization parameters\nTANNnet.SetParams(params) # set normalization parameters in the model\n\n# build TF model class\ninput_shape = [None,umat_dim]\nTANNnet.build(input_shape)\n\n# print model's summary\nprint(TANNnet.summary())",
   "execution_count": null,
   "outputs": []
  },
  {
   "cell_type": "markdown",
   "source": "#### Define inputs and outputs",
   "metadata": {
    "cell_id": "00015-70a93913-33fa-4231-8cfc-bbb27b7746fe",
    "deepnote_cell_type": "markdown",
    "deepnote_cell_height": 54
   }
  },
  {
   "cell_type": "code",
   "metadata": {
    "cell_id": "00016-956715d1-b798-4bed-b01d-4121de4bb84b",
    "deepnote_cell_type": "code",
    "deepnote_cell_height": 210
   },
   "source": "output_tv = [__energy_tv,\n             __stress_tv]\n\noutput_test = [__energy_test,\n               __stress_test]\n\ninput_tv = __strain_tv\n\ninput_test = __strain_test",
   "execution_count": null,
   "outputs": []
  },
  {
   "cell_type": "markdown",
   "source": "#### Compile and train the network",
   "metadata": {
    "cell_id": "00017-8cb87d7c-800f-4092-9b72-549ec15ccab3",
    "deepnote_cell_type": "markdown",
    "deepnote_cell_height": 54
   }
  },
  {
   "cell_type": "code",
   "metadata": {
    "scrolled": true,
    "cell_id": "00018-6b1b68d6-48f6-449f-98e9-ba6559f07956",
    "deepnote_cell_type": "code",
    "deepnote_cell_height": 192
   },
   "source": "TANNnet.compileTANN()\n\nhist_TANNnet = TANNnet.fit(input_tv,output_tv,\n                           epochs = 1500,\n                           validation_split=0.2,\n                           batch_size = 200,\n                           verbose = 2,\n                           use_multiprocessing=True)",
   "execution_count": null,
   "outputs": []
  },
  {
   "cell_type": "markdown",
   "source": "#### Evaluate losses",
   "metadata": {
    "cell_id": "00019-b6bb8604-6e8c-448b-9f24-4849cddbcf96",
    "deepnote_cell_type": "markdown",
    "deepnote_cell_height": 54
   }
  },
  {
   "cell_type": "code",
   "metadata": {
    "cell_id": "00020-c85d58f2-99b5-429b-ad45-68722501194b",
    "deepnote_cell_type": "code",
    "deepnote_cell_height": 210
   },
   "source": "print('Evaluate loss for training and validation datasets:'); TANNnet.evaluate(input_tv,output_tv,verbose=2)\nprint('\\nEvaluate loss for test datasets:'); TANNnet.evaluate(input_test,output_test,verbose=2)\n\n\nenergy_loss = np.asarray(hist_TANNnet.history['output_1_loss'])\nenergy_val_loss = np.asarray(hist_TANNnet.history['val_output_1_loss'])\nstress_loss = np.asarray(hist_TANNnet.history['output_2_loss'])\nstress_val_loss = np.asarray(hist_TANNnet.history['val_output_2_loss'])\nepochs = range(1, len(energy_loss) + 1)",
   "execution_count": null,
   "outputs": []
  },
  {
   "cell_type": "markdown",
   "source": "#### Plot training curves",
   "metadata": {
    "cell_id": "00021-f7c794a6-79f9-4e43-a743-f937bbf6b933",
    "deepnote_cell_type": "markdown",
    "deepnote_cell_height": 54
   }
  },
  {
   "cell_type": "code",
   "metadata": {
    "scrolled": true,
    "tags": [],
    "cell_id": "00022-e7e3bf7f-30e2-4888-9fb7-5ce04fa2fb4e",
    "deepnote_cell_type": "code",
    "deepnote_cell_height": 282
   },
   "source": "fig, ax = plt.subplots(1)\nax.loglog(epochs, energy_loss, color='red', label='$\\psi$', linewidth=2, marker='o',markersize=0)\nax.loglog(epochs, stress_loss, color='black', label='$\\sigma$', linewidth=2, marker='o',markersize=0)\n\nax.loglog(epochs, energy_val_loss, color='red', alpha=0.5,linewidth=2, marker='o',markersize=0)\nax.loglog(epochs, stress_val_loss, color='black', alpha=0.5,  linewidth=2, marker='o',markersize=0)\n\n\nax.set_xlabel('epochs')\nax.set_ylabel('Mean Absolute Error')\nax.grid()\nax.set_ylim(5e-9,10)\nax.legend(loc='best')",
   "execution_count": null,
   "outputs": []
  },
  {
   "cell_type": "markdown",
   "source": "#### Predictions for the entire batch",
   "metadata": {
    "cell_id": "00023-541fdaed-2ef1-409d-a64c-aeef583ab937",
    "deepnote_cell_type": "markdown",
    "deepnote_cell_height": 54
   }
  },
  {
   "cell_type": "code",
   "metadata": {
    "cell_id": "00024-1d87812b-1a1b-4784-b9c2-a0502a9ee552",
    "deepnote_cell_type": "code",
    "deepnote_cell_height": 354
   },
   "source": "pred__energy,pred__stress=TANNnet.predict(input_test)\n\n# Plot stress\nplt.plot(__stress_test,pred__stress,\n         alpha=0.3,linewidth=0, marker='o',markersize=5)\nplt.xlabel(\"$\\sigma$\")\nplt.ylabel(\"$\\sigma=\\partial_{\\\\varepsilon} NN_{\\psi}(\\\\varepsilon)$\")\nplt.grid()\nplt.show()\n\n# Plot energy\nplt.plot(__energy_test,pred__energy,\n         alpha=0.3,linewidth=0, marker='o',markersize=5)\nplt.xlabel(\"$\\psi$\")\nplt.ylabel(\"$\\psi=NN_{\\psi}(\\\\varepsilon)$\")\nplt.grid()\nplt.show()",
   "execution_count": null,
   "outputs": []
  },
  {
   "cell_type": "markdown",
   "source": "#### Prediction point by point",
   "metadata": {
    "cell_id": "00025-ae313a24-e54f-4272-8d41-1aa73921106c",
    "deepnote_cell_type": "markdown",
    "deepnote_cell_height": 54
   }
  },
  {
   "cell_type": "code",
   "metadata": {
    "cell_id": "00026-a4976094-980f-432d-bc05-871a2e9a85d3",
    "deepnote_cell_type": "code",
    "deepnote_cell_height": 102
   },
   "source": "pred__energy_point, pred__stress_point = TANNnet.predict_on_batch(np.array([input_test[0]]))\nprint('Predicted stress point', pred__stress_point)\nprint('Test stress point', __stress_test[0])",
   "execution_count": null,
   "outputs": []
  },
  {
   "cell_type": "markdown",
   "source": "### Save model",
   "metadata": {
    "cell_id": "00027-37d9afba-3d0e-4fbe-a812-064a09554a12",
    "deepnote_cell_type": "markdown",
    "deepnote_cell_height": 62
   }
  },
  {
   "cell_type": "code",
   "metadata": {
    "cell_id": "00028-765c99bd-aa7e-4494-9f2f-8ab1062c3e00",
    "deepnote_cell_type": "code",
    "deepnote_cell_height": 84
   },
   "source": "# filename = 'results/TANN_Elasticity'\n# TANNnet.save_export(filename)",
   "execution_count": null,
   "outputs": []
  },
  {
   "cell_type": "code",
   "metadata": {
    "cell_id": "00029-1e4cdb31-3100-4e4d-b85a-1ae676765bdf",
    "deepnote_cell_type": "code",
    "deepnote_cell_height": 66
   },
   "source": "",
   "execution_count": null,
   "outputs": []
  },
  {
   "cell_type": "markdown",
   "source": "<a style='text-decoration:none;line-height:16px;display:flex;color:#5B5B62;padding:10px;justify-content:end;' href='https://deepnote.com?utm_source=created-in-deepnote-cell&projectId=b33f54f1-f98d-4fed-99c0-2484f115edd9' target=\"_blank\">\n<img alt='Created in deepnote.com' style='display:inline;max-height:16px;margin:0px;margin-right:7.5px;' src='data:image/svg+xml;base64,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' > </img>\nCreated in <span style='font-weight:600;margin-left:4px;'>Deepnote</span></a>",
   "metadata": {
    "tags": [],
    "created_in_deepnote_cell": true,
    "deepnote_cell_type": "markdown"
   }
  }
 ],
 "nbformat": 4,
 "nbformat_minor": 5,
 "metadata": {
  "kernelspec": {
   "display_name": "Python 3",
   "language": "python",
   "name": "python3"
  },
  "language_info": {
   "codemirror_mode": {
    "name": "ipython",
    "version": 3
   },
   "file_extension": ".py",
   "mimetype": "text/x-python",
   "name": "python",
   "nbconvert_exporter": "python",
   "pygments_lexer": "ipython3",
   "version": "3.8.10"
  },
  "deepnote_notebook_id": "dab601b1-6ee6-40fe-8112-83fd109b68a9",
  "deepnote": {},
  "deepnote_execution_queue": []
 }
}