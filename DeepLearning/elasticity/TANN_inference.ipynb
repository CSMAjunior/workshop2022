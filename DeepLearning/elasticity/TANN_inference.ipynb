{
 "cells": [
  {
   "cell_type": "markdown",
   "id": "23aa629b",
   "metadata": {
    "cell_id": "f67b2475-648c-4821-8f91-a143053d5f04",
    "deepnote_cell_height": 100,
    "deepnote_cell_type": "markdown"
   },
   "source": [
    "### Import libraries\n",
    "\n",
    "Import libraries, set parameters, and import classes"
   ]
  },
  {
   "cell_type": "code",
   "execution_count": 1,
   "id": "d55b684c",
   "metadata": {
    "cell_id": "00001-9e79d9bd-c32f-4d99-bf4d-dcd780d74a51",
    "deepnote_cell_height": 300,
    "deepnote_cell_type": "code",
    "owner_user_id": "5bb91923-5f7e-4fe6-8d4b-271ce2a72b9f"
   },
   "outputs": [],
   "source": [
    "import numpy as np\n",
    "import tensorflow as tf\n",
    "import pickle\n",
    "np.random.seed(1)\n",
    "tf.random.set_seed(1)\n",
    "tf.keras.backend.set_floatx('float32')\n",
    "\n",
    "import matplotlib.pyplot as plt\n",
    "plt.rcParams[\"figure.figsize\"] = (3,3)\n",
    "plt.rcParams.update({'font.size': 13})"
   ]
  },
  {
   "cell_type": "code",
   "execution_count": 2,
   "id": "5a37ea76",
   "metadata": {
    "cell_id": "00002-05795484-9f10-4fc4-ac4a-f6d97b667f1d",
    "deepnote_cell_height": 84,
    "deepnote_cell_type": "code"
   },
   "outputs": [],
   "source": [
    "from __lib__.TANN_class import TANN\n",
    "from __lib__.DataProcessing import PreProcessing"
   ]
  },
  {
   "cell_type": "markdown",
   "id": "e0a6a853",
   "metadata": {
    "cell_id": "00003-538e2988-b7e6-4e12-843f-02421ab0e5c3",
    "deepnote_cell_height": 122,
    "deepnote_cell_type": "markdown"
   },
   "source": [
    "### TANN\n",
    "\n",
    "Import trained model by specifying the file (filename) of the saved weights and the architecture.\n",
    "The function import_compile(filename,input_shape) performs a check of the defined parameters wrt the saved model"
   ]
  },
  {
   "cell_type": "code",
   "execution_count": 3,
   "id": "29822c5d",
   "metadata": {
    "cell_id": "00004-1ddf0325-1135-4783-b8a7-9c2b13c78a21",
    "deepnote_cell_height": 390,
    "deepnote_cell_type": "code"
   },
   "outputs": [
    {
     "name": "stdout",
     "output_type": "stream",
     "text": [
      "Metal device set to: Apple M1 Pro\n",
      "File ./results/TANN_Elasticity refers to the following model:\n",
      "umat_dim: 4 \n",
      "material: elastic \n",
      "hidden_NN_Energy: 4 \n",
      "activation_NN_Energy: gelu \n",
      "hidden_NN_Evolution: 0 \n",
      "activation_NN_Evolution: \n"
     ]
    },
    {
     "name": "stderr",
     "output_type": "stream",
     "text": [
      "2022-05-09 23:19:26.886932: I tensorflow/core/common_runtime/pluggable_device/pluggable_device_factory.cc:305] Could not identify NUMA node of platform GPU ID 0, defaulting to 0. Your kernel may not have been built with NUMA support.\n",
      "2022-05-09 23:19:26.887236: I tensorflow/core/common_runtime/pluggable_device/pluggable_device_factory.cc:271] Created TensorFlow device (/job:localhost/replica:0/task:0/device:GPU:0 with 0 MB memory) -> physical PluggableDevice (device: 0, name: METAL, pci bus id: <undefined>)\n"
     ]
    }
   ],
   "source": [
    "# file where the model was saved\n",
    "filename = './results/TANN_Elasticity'\n",
    "\n",
    "\n",
    "# build network, import weights, and compile to make predictions\n",
    "umat_dim = 4 # dimensional space\n",
    "hidden_NN_Energy = 4 # number hidden layers in NN Energy\n",
    "material = 'elastic'\n",
    "\n",
    "TANNnet = TANN(umat_dim,\n",
    "               material,\n",
    "               hidden_NN_Energy,\n",
    "               activation_NN_Energy='fast_gelu') # Initialize TANN class\n",
    "\n",
    "# build TF model class\n",
    "input_shape = [None,umat_dim]\n",
    "\n",
    "TANNnet.import_compile(filename,input_shape)\n"
   ]
  },
  {
   "cell_type": "markdown",
   "id": "22d75056",
   "metadata": {
    "cell_id": "00005-c07bb7b1-6645-465b-aab5-e2fc3d3eea82",
    "deepnote_cell_height": 146,
    "deepnote_cell_type": "markdown"
   },
   "source": [
    "#### Inference: loading path\n",
    "\n",
    "Make predictions of the constitutive response under a simple shear loading path using the trained model. The loading path is predefined (see below), but you have to implement a function that call the trained model and make predictions.\n",
    "\n",
    "Note. All quantities should be physical (not normalized)"
   ]
  },
  {
   "cell_type": "code",
   "execution_count": 4,
   "id": "89392ce7",
   "metadata": {
    "cell_id": "00006-122e3663-adc6-430a-a56a-a55b3fa56f5d",
    "deepnote_cell_height": 228,
    "deepnote_cell_type": "code",
    "scrolled": true
   },
   "outputs": [],
   "source": [
    "increments = 30\n",
    "sub_increments = increments//2\n",
    "de = 1e-3\n",
    "umat_dir = -1\n",
    "\n",
    "dstrain = np.zeros((increments,umat_dim))\n",
    "dstrain[:sub_increments,umat_dir] = de*np.ones((sub_increments))\n",
    "dstrain[sub_increments:2*sub_increments,umat_dir] = -de*np.ones((sub_increments))\n",
    "\n",
    "strain = np.zeros((1,umat_dim))"
   ]
  },
  {
   "cell_type": "markdown",
   "id": "76ef54de",
   "metadata": {
    "cell_id": "00007-6aef8755-79a2-4216-9f9a-2ec3186c193f",
    "deepnote_cell_height": 88,
    "deepnote_cell_type": "markdown"
   },
   "source": [
    "#### Make predictions\n",
    "\n",
    "Here goes your function to predict the stress and internal variables deriving from the deformation path specified by dstrain"
   ]
  },
  {
   "cell_type": "code",
   "execution_count": 5,
   "id": "5541c668",
   "metadata": {
    "cell_id": "00008-d0989478-317c-4b97-9ca0-fb7bc5abb431",
    "deepnote_cell_height": 66,
    "deepnote_cell_type": "code"
   },
   "outputs": [
    {
     "ename": "SyntaxError",
     "evalue": "invalid syntax (3544723022.py, line 1)",
     "output_type": "error",
     "traceback": [
      "\u001b[0;36m  Input \u001b[0;32mIn [5]\u001b[0;36m\u001b[0m\n\u001b[0;31m    henergy, hstress = ???\u001b[0m\n\u001b[0m                       ^\u001b[0m\n\u001b[0;31mSyntaxError\u001b[0m\u001b[0;31m:\u001b[0m invalid syntax\n"
     ]
    }
   ],
   "source": [
    "henergy, hstress = ???"
   ]
  },
  {
   "cell_type": "markdown",
   "id": "24d4c5f8",
   "metadata": {
    "cell_id": "00009-18ed0258-eda3-4373-8a48-357180b95c33",
    "deepnote_cell_height": 54,
    "deepnote_cell_type": "markdown"
   },
   "source": [
    "#### Import reference model solution"
   ]
  },
  {
   "cell_type": "code",
   "execution_count": 6,
   "id": "543fc4c8",
   "metadata": {
    "cell_id": "00010-40dcbd21-e09e-42e4-bbe5-481468256587",
    "deepnote_cell_height": 138,
    "deepnote_cell_type": "code"
   },
   "outputs": [],
   "source": [
    "file = './data/3D_PlaneStrain_Elasticity_CSMA_inference'\n",
    "with open(file, 'rb') as f_obj:\n",
    "    data = pickle.load(f_obj)\n",
    "\n",
    "strain_ref,svars_ref,stress_ref,energy_ref,dissipationDot_ref = data"
   ]
  },
  {
   "cell_type": "markdown",
   "id": "7ece286a",
   "metadata": {
    "cell_id": "00011-8c1efdaf-127a-451f-bdd9-3fe4b306f36f",
    "deepnote_cell_height": 88,
    "deepnote_cell_type": "markdown"
   },
   "source": [
    "#### Compare results\n",
    "\n",
    "Plot the stress vs strain history as predicted by the model and compare it with the one of the reference model"
   ]
  },
  {
   "cell_type": "code",
   "execution_count": 7,
   "id": "a1f5556a",
   "metadata": {
    "cell_id": "00012-3a0361c2-a0ad-4fcc-902d-7a6970729766",
    "deepnote_cell_height": 264,
    "deepnote_cell_type": "code"
   },
   "outputs": [
    {
     "ename": "NameError",
     "evalue": "name 'hstrain' is not defined",
     "output_type": "error",
     "traceback": [
      "\u001b[0;31m---------------------------------------------------------------------------\u001b[0m",
      "\u001b[0;31mNameError\u001b[0m                                 Traceback (most recent call last)",
      "Input \u001b[0;32mIn [7]\u001b[0m, in \u001b[0;36m<cell line: 1>\u001b[0;34m()\u001b[0m\n\u001b[0;32m----> 1\u001b[0m plt\u001b[38;5;241m.\u001b[39mplot(\u001b[43mhstrain\u001b[49m[:,umat_dir],\n\u001b[1;32m      2\u001b[0m          hstress[:,umat_dir],\n\u001b[1;32m      3\u001b[0m          color \u001b[38;5;241m=\u001b[39m \u001b[38;5;124m'\u001b[39m\u001b[38;5;124mdarkblue\u001b[39m\u001b[38;5;124m'\u001b[39m,\n\u001b[1;32m      4\u001b[0m          alpha\u001b[38;5;241m=\u001b[39m\u001b[38;5;241m1\u001b[39m,linewidth\u001b[38;5;241m=\u001b[39m\u001b[38;5;241m1\u001b[39m, marker\u001b[38;5;241m=\u001b[39m\u001b[38;5;124m'\u001b[39m\u001b[38;5;124mo\u001b[39m\u001b[38;5;124m'\u001b[39m,markersize\u001b[38;5;241m=\u001b[39m\u001b[38;5;241m5\u001b[39m,label\u001b[38;5;241m=\u001b[39m\u001b[38;5;124m'\u001b[39m\u001b[38;5;124mTANN\u001b[39m\u001b[38;5;124m'\u001b[39m)\n\u001b[1;32m      5\u001b[0m plt\u001b[38;5;241m.\u001b[39mplot(strain_ref[:,umat_dir],\n\u001b[1;32m      6\u001b[0m          stress_ref[:,umat_dir],\n\u001b[1;32m      7\u001b[0m          color\u001b[38;5;241m=\u001b[39m\u001b[38;5;124m'\u001b[39m\u001b[38;5;124mdarkorange\u001b[39m\u001b[38;5;124m'\u001b[39m,\n\u001b[1;32m      8\u001b[0m          alpha\u001b[38;5;241m=\u001b[39m\u001b[38;5;241m1\u001b[39m,linewidth\u001b[38;5;241m=\u001b[39m\u001b[38;5;241m2\u001b[39m, marker\u001b[38;5;241m=\u001b[39m\u001b[38;5;124m'\u001b[39m\u001b[38;5;124ms\u001b[39m\u001b[38;5;124m'\u001b[39m,markersize\u001b[38;5;241m=\u001b[39m\u001b[38;5;241m0\u001b[39m,label\u001b[38;5;241m=\u001b[39m\u001b[38;5;124m'\u001b[39m\u001b[38;5;124mref\u001b[39m\u001b[38;5;124m'\u001b[39m)\n\u001b[1;32m      9\u001b[0m plt\u001b[38;5;241m.\u001b[39mxlabel(\u001b[38;5;124m\"\u001b[39m\u001b[38;5;124m$\u001b[39m\u001b[38;5;130;01m\\\\\u001b[39;00m\u001b[38;5;124mvarepsilon$\u001b[39m\u001b[38;5;124m\"\u001b[39m)\n",
      "\u001b[0;31mNameError\u001b[0m: name 'hstrain' is not defined"
     ]
    }
   ],
   "source": [
    "plt.plot(hstrain[:,umat_dir],\n",
    "         hstress[:,umat_dir],\n",
    "         color = 'darkblue',\n",
    "         alpha=1,linewidth=1, marker='o',markersize=5,label='TANN')\n",
    "plt.plot(strain_ref[:,umat_dir],\n",
    "         stress_ref[:,umat_dir],\n",
    "         color='darkorange',\n",
    "         alpha=1,linewidth=2, marker='s',markersize=0,label='ref')\n",
    "plt.xlabel(\"$\\\\varepsilon$\")\n",
    "plt.ylabel(\"$\\sigma=\\partial_{\\\\varepsilon} NN(\\\\varepsilon)$\")\n",
    "plt.legend()\n",
    "plt.show()"
   ]
  },
  {
   "cell_type": "markdown",
   "id": "c030a847",
   "metadata": {
    "cell_id": "00013-a9685a90-4677-4426-9626-b8fff5fd2497",
    "deepnote_cell_height": 52,
    "deepnote_cell_type": "markdown"
   },
   "source": [
    "Plot the free energy vs strain history as predicted by the model and compare it with the one of the reference model"
   ]
  },
  {
   "cell_type": "code",
   "execution_count": null,
   "id": "692f6a69",
   "metadata": {
    "cell_id": "00014-23c71a87-faec-4d0d-aec8-b4da2f3a2a71",
    "deepnote_cell_height": 282,
    "deepnote_cell_type": "code"
   },
   "outputs": [],
   "source": [
    "plt.plot(hstrain[:,umat_dir],\n",
    "         henergy,\n",
    "         color = 'darkblue',\n",
    "         alpha=1,linewidth=1, marker='o',markersize=5,label='TANN')\n",
    "\n",
    "plt.plot(strain_ref[:,umat_dir],\n",
    "         energy_ref,\n",
    "         color = 'coral',\n",
    "         alpha=1,linewidth=2, marker='s',markersize=0,label='ref')\n",
    "plt.xlabel(\"$\\\\varepsilon$\")\n",
    "plt.ylabel(\"$\\psi=NN(\\\\varepsilon)$\")\n",
    "plt.legend()\n",
    "plt.show()"
   ]
  },
  {
   "cell_type": "markdown",
   "id": "6fb144da",
   "metadata": {
    "cell_id": "00015-b9fe2e37-d022-4dea-93f5-74cba5d10d8e",
    "deepnote_cell_height": 54,
    "deepnote_cell_type": "markdown"
   },
   "source": [
    "#### Compute and plot the error with respect to the reference constitutive model"
   ]
  },
  {
   "cell_type": "code",
   "execution_count": null,
   "id": "0a717ea7",
   "metadata": {
    "cell_id": "00016-57bd1afd-ef53-41a5-88cd-8082cca1e0a8",
    "deepnote_cell_height": 84,
    "deepnote_cell_type": "code"
   },
   "outputs": [],
   "source": [
    "MAE_energy = (np.abs(energy_ref-henergy[:,0]))\n",
    "MAE_stress = (np.abs(stress_ref[:,umat_dir]-hstress[:,umat_dir]))"
   ]
  },
  {
   "cell_type": "code",
   "execution_count": null,
   "id": "e2183152",
   "metadata": {
    "cell_id": "00017-2c48d1b4-c44f-411b-85a2-decc1c402daf",
    "deepnote_cell_height": 246,
    "deepnote_cell_type": "code"
   },
   "outputs": [],
   "source": [
    "plt.plot(hstrain[:,umat_dir],\n",
    "         MAE_energy,\n",
    "         alpha=1,linewidth=1, marker='o',markersize=4,label='$MAE_{\\psi}$')\n",
    "\n",
    "plt.plot(hstrain[:,umat_dir],\n",
    "         MAE_stress,\n",
    "          alpha=1,linewidth=1, marker='s',markersize=4,label='$MAE_{\\sigma}$')\n",
    "plt.xlabel(\"$\\\\varepsilon$\")\n",
    "plt.ylabel(\"Mean Absolute Error\")\n",
    "plt.legend()\n",
    "plt.show()"
   ]
  },
  {
   "cell_type": "code",
   "execution_count": null,
   "id": "6c1b61ae",
   "metadata": {
    "cell_id": "00018-8013cc6a-3648-4728-b7e1-198fc333aea6",
    "deepnote_cell_height": 66,
    "deepnote_cell_type": "code"
   },
   "outputs": [],
   "source": []
  },
  {
   "cell_type": "markdown",
   "id": "e4b39d0c",
   "metadata": {
    "created_in_deepnote_cell": true,
    "deepnote_cell_type": "markdown",
    "tags": []
   },
   "source": [
    "<a style='text-decoration:none;line-height:16px;display:flex;color:#5B5B62;padding:10px;justify-content:end;' href='https://deepnote.com?utm_source=created-in-deepnote-cell&projectId=b33f54f1-f98d-4fed-99c0-2484f115edd9' target=\"_blank\">\n",
    "<img alt='Created in deepnote.com' style='display:inline;max-height:16px;margin:0px;margin-right:7.5px;' src='data:image/svg+xml;base64,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' > </img>\n",
    "Created in <span style='font-weight:600;margin-left:4px;'>Deepnote</span></a>"
   ]
  }
 ],
 "metadata": {
  "deepnote": {},
  "deepnote_execution_queue": [],
  "deepnote_notebook_id": "b5add4d2-12be-4c5b-9357-85c35618c4a3",
  "kernelspec": {
   "display_name": "Python 3 (ipykernel)",
   "language": "python",
   "name": "python3"
  },
  "language_info": {
   "codemirror_mode": {
    "name": "ipython",
    "version": 3
   },
   "file_extension": ".py",
   "mimetype": "text/x-python",
   "name": "python",
   "nbconvert_exporter": "python",
   "pygments_lexer": "ipython3",
   "version": "3.8.13"
  }
 },
 "nbformat": 4,
 "nbformat_minor": 5
}
