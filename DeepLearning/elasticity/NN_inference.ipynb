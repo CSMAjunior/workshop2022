{
 "cells": [
  {
   "cell_type": "markdown",
   "id": "5f50c69d",
   "metadata": {
    "cell_id": "b1e6d5cb-b5a5-460f-904d-271c43bb0b5c",
    "deepnote_cell_height": 100,
    "deepnote_cell_type": "markdown"
   },
   "source": [
    "### Import libraries\n",
    "Import libraries, set parameters, and import classes"
   ]
  },
  {
   "cell_type": "code",
   "execution_count": 1,
   "id": "85c6cfa7",
   "metadata": {
    "cell_id": "00001-b519b241-c037-4bd7-a2e4-b551fdf6b08e",
    "deepnote_cell_height": 228,
    "deepnote_cell_type": "code",
    "owner_user_id": "5bb91923-5f7e-4fe6-8d4b-271ce2a72b9f"
   },
   "outputs": [],
   "source": [
    "import numpy as np\n",
    "import tensorflow as tf\n",
    "import pickle\n",
    "np.random.seed(1)\n",
    "tf.random.set_seed(1)\n",
    "tf.keras.backend.set_floatx('float32')\n",
    "\n",
    "import matplotlib.pyplot as plt\n",
    "plt.rcParams[\"figure.figsize\"] = (3,3)\n",
    "plt.rcParams.update({'font.size': 13})"
   ]
  },
  {
   "cell_type": "code",
   "execution_count": 2,
   "id": "4f711ef1",
   "metadata": {
    "cell_id": "00002-f7f813d9-56a5-4c8e-817e-3d7bdcf1cfc8",
    "deepnote_cell_height": 84,
    "deepnote_cell_type": "code"
   },
   "outputs": [],
   "source": [
    "from __lib__.NN_class import NeuralNetwork\n",
    "from __lib__.DataProcessing import PreProcessing"
   ]
  },
  {
   "cell_type": "markdown",
   "id": "8d9e9ba8",
   "metadata": {
    "cell_id": "00003-c686bb3f-50f9-4c0e-ad5f-2372994ee342",
    "deepnote_cell_height": 122,
    "deepnote_cell_type": "markdown"
   },
   "source": [
    "### Neural Networks\n",
    "\n",
    "Import trained model by specifying the file (filename) of the saved weights and the architecture.\n",
    "The function import_compile(filename,input_shape) performs a check of the defined parameters wrt the saved model"
   ]
  },
  {
   "cell_type": "code",
   "execution_count": 3,
   "id": "90ca4bba",
   "metadata": {
    "cell_id": "00004-d382612a-bd85-4419-8a6f-1f1247e0a2aa",
    "deepnote_cell_height": 372,
    "deepnote_cell_type": "code"
   },
   "outputs": [
    {
     "name": "stdout",
     "output_type": "stream",
     "text": [
      "Metal device set to: Apple M1 Pro\n",
      "File ./results/NN_Elasticity refers to the following model:\n",
      "umat_dim: 4 \n",
      "material: elastic \n",
      "hidden_NN_Stress: 6 \n",
      "activation_NN_Stress: tanh \n",
      "hidden_NN_Evolution: 0 \n",
      "activation_NN_Evolution: \n"
     ]
    },
    {
     "name": "stderr",
     "output_type": "stream",
     "text": [
      "2022-05-09 23:16:31.454582: I tensorflow/core/common_runtime/pluggable_device/pluggable_device_factory.cc:305] Could not identify NUMA node of platform GPU ID 0, defaulting to 0. Your kernel may not have been built with NUMA support.\n",
      "2022-05-09 23:16:31.454758: I tensorflow/core/common_runtime/pluggable_device/pluggable_device_factory.cc:271] Created TensorFlow device (/job:localhost/replica:0/task:0/device:GPU:0 with 0 MB memory) -> physical PluggableDevice (device: 0, name: METAL, pci bus id: <undefined>)\n"
     ]
    }
   ],
   "source": [
    "# file where the model was saved\n",
    "filename = './results/NN_Elasticity'\n",
    "\n",
    "# build network, import weights, and compile to make predictions\n",
    "umat_dim = 4 # dimensional space\n",
    "material='elastic'\n",
    "hidden_NN_Stress = 6 # number of hidden layers in NN Evolution\n",
    "\n",
    "Nnet = NeuralNetwork(umat_dim,\n",
    "                     material,\n",
    "                     hidden_NN_Stress,\n",
    "                     activation_NN_Stress='tanh') # Initialize TANN class\n",
    "\n",
    "# build TF model class\n",
    "input_shape = [None,umat_dim]\n",
    "\n",
    "Nnet.import_compile(filename,input_shape)\n"
   ]
  },
  {
   "cell_type": "markdown",
   "id": "6f1d6923",
   "metadata": {
    "cell_id": "00005-4650264b-57ab-45d3-bd30-e8ea9d7e9179",
    "deepnote_cell_height": 146,
    "deepnote_cell_type": "markdown"
   },
   "source": [
    "#### Inference: loading path\n",
    "\n",
    "Make predictions of the constitutive response under a simple shear loading path using the trained model. The loading path is predefined (see below), but you have to implement a function that call the trained model and make predictions.\n",
    "\n",
    "Note. All quantities should be physical (not normalized)"
   ]
  },
  {
   "cell_type": "code",
   "execution_count": 4,
   "id": "d6d4713b",
   "metadata": {
    "cell_id": "00006-b737fef6-b5af-41aa-8df2-cb4df9941d07",
    "deepnote_cell_height": 228,
    "deepnote_cell_type": "code",
    "scrolled": true
   },
   "outputs": [],
   "source": [
    "increments = 30\n",
    "sub_increments = increments//2\n",
    "de = 1e-3\n",
    "umat_dir = -1\n",
    "\n",
    "dstrain = np.zeros((increments,umat_dim))\n",
    "dstrain[:sub_increments,umat_dir] = de*np.ones((sub_increments))\n",
    "dstrain[sub_increments:2*sub_increments,umat_dir] = -de*np.ones((sub_increments))\n",
    "\n",
    "strain = np.zeros((1,umat_dim))"
   ]
  },
  {
   "cell_type": "markdown",
   "id": "c8132eff",
   "metadata": {
    "cell_id": "00007-1523753f-3a9e-4847-8216-784e760d84f2",
    "deepnote_cell_height": 88,
    "deepnote_cell_type": "markdown"
   },
   "source": [
    "#### 1. Make predictions\n",
    "\n",
    "Here goes your function to predict the stress and internal variables deriving from the deformation path specified by dstrain"
   ]
  },
  {
   "cell_type": "code",
   "execution_count": 5,
   "id": "f77aefa4",
   "metadata": {
    "cell_id": "00008-7d61380e-869d-4c2b-bcd5-a1e9d81ca8e7",
    "deepnote_cell_height": 66,
    "deepnote_cell_type": "code"
   },
   "outputs": [
    {
     "ename": "SyntaxError",
     "evalue": "invalid syntax (3475195124.py, line 1)",
     "output_type": "error",
     "traceback": [
      "\u001b[0;36m  Input \u001b[0;32mIn [5]\u001b[0;36m\u001b[0m\n\u001b[0;31m    hstress = ???\u001b[0m\n\u001b[0m              ^\u001b[0m\n\u001b[0;31mSyntaxError\u001b[0m\u001b[0;31m:\u001b[0m invalid syntax\n"
     ]
    }
   ],
   "source": [
    "hstress = ???"
   ]
  },
  {
   "cell_type": "markdown",
   "id": "bf717d9e",
   "metadata": {
    "cell_id": "00009-56907503-9928-4d80-898e-ea0d3a21153b",
    "deepnote_cell_height": 54,
    "deepnote_cell_type": "markdown"
   },
   "source": [
    "#### Import reference model solution"
   ]
  },
  {
   "cell_type": "code",
   "execution_count": 6,
   "id": "f6eb79ba",
   "metadata": {
    "cell_id": "00010-736bdf07-fb2c-4b90-ab61-ff6eacc2b259",
    "deepnote_cell_height": 138,
    "deepnote_cell_type": "code"
   },
   "outputs": [],
   "source": [
    "file = './data/3D_PlaneStrain_Elasticity_CSMA_inference'\n",
    "with open(file, 'rb') as f_obj:\n",
    "    data = pickle.load(f_obj)\n",
    "\n",
    "strain_ref,svars_ref,stress_ref,energy_ref,dissipationDot_ref = data"
   ]
  },
  {
   "cell_type": "markdown",
   "id": "e9e989f8",
   "metadata": {
    "cell_id": "00011-9cb76e44-ce5b-4af5-9378-e1e75917e189",
    "deepnote_cell_height": 54,
    "deepnote_cell_type": "markdown"
   },
   "source": [
    "#### (+) Compute elastic energy"
   ]
  },
  {
   "cell_type": "code",
   "execution_count": 7,
   "id": "03e99f36",
   "metadata": {
    "cell_id": "00012-a096c2fa-aae8-4f33-a1e7-27d7dba15863",
    "deepnote_cell_height": 138,
    "deepnote_cell_type": "code"
   },
   "outputs": [
    {
     "ename": "NameError",
     "evalue": "name 'hstrain' is not defined",
     "output_type": "error",
     "traceback": [
      "\u001b[0;31m---------------------------------------------------------------------------\u001b[0m",
      "\u001b[0;31mNameError\u001b[0m                                 Traceback (most recent call last)",
      "Input \u001b[0;32mIn [7]\u001b[0m, in \u001b[0;36m<cell line: 5>\u001b[0;34m()\u001b[0m\n\u001b[1;32m      2\u001b[0m     energy \u001b[38;5;241m=\u001b[39m \u001b[38;5;241m0.5\u001b[39m\u001b[38;5;241m*\u001b[39mnp\u001b[38;5;241m.\u001b[39meinsum(\u001b[38;5;124m'\u001b[39m\u001b[38;5;124mij,ij->i\u001b[39m\u001b[38;5;124m'\u001b[39m,strain,stress,order\u001b[38;5;241m=\u001b[39m\u001b[38;5;124m'\u001b[39m\u001b[38;5;124mF\u001b[39m\u001b[38;5;124m'\u001b[39m)\n\u001b[1;32m      3\u001b[0m     \u001b[38;5;28;01mreturn\u001b[39;00m energy\n\u001b[0;32m----> 5\u001b[0m henergy \u001b[38;5;241m=\u001b[39m computeEnergy_elasticity(\u001b[43mhstrain\u001b[49m,hstress)\n",
      "\u001b[0;31mNameError\u001b[0m: name 'hstrain' is not defined"
     ]
    }
   ],
   "source": [
    "def computeEnergy_elasticity(strain,stress):\n",
    "    energy = 0.5*np.einsum('ij,ij->i',strain,stress,order='F')\n",
    "    return energy\n",
    "\n",
    "henergy = computeEnergy_elasticity(hstrain,hstress)"
   ]
  },
  {
   "cell_type": "markdown",
   "id": "fa6fad0f",
   "metadata": {
    "cell_id": "00013-d58d64dc-369d-44b2-84a2-e8ed9f6388b6",
    "deepnote_cell_height": 88,
    "deepnote_cell_type": "markdown"
   },
   "source": [
    "#### Compare results\n",
    "\n",
    "Plot the stress vs strain history as predicted by the model and compare it with the one of the reference model"
   ]
  },
  {
   "cell_type": "code",
   "execution_count": 8,
   "id": "69013c75",
   "metadata": {
    "cell_id": "00014-a1c0951d-a311-4b78-9d24-5f0b8d26b726",
    "deepnote_cell_height": 264,
    "deepnote_cell_type": "code"
   },
   "outputs": [
    {
     "ename": "NameError",
     "evalue": "name 'hstrain' is not defined",
     "output_type": "error",
     "traceback": [
      "\u001b[0;31m---------------------------------------------------------------------------\u001b[0m",
      "\u001b[0;31mNameError\u001b[0m                                 Traceback (most recent call last)",
      "Input \u001b[0;32mIn [8]\u001b[0m, in \u001b[0;36m<cell line: 1>\u001b[0;34m()\u001b[0m\n\u001b[0;32m----> 1\u001b[0m plt\u001b[38;5;241m.\u001b[39mplot(\u001b[43mhstrain\u001b[49m[:,umat_dir],\n\u001b[1;32m      2\u001b[0m          hstress[:,umat_dir],\n\u001b[1;32m      3\u001b[0m          color \u001b[38;5;241m=\u001b[39m \u001b[38;5;124m'\u001b[39m\u001b[38;5;124mdarkblue\u001b[39m\u001b[38;5;124m'\u001b[39m,\n\u001b[1;32m      4\u001b[0m          alpha\u001b[38;5;241m=\u001b[39m\u001b[38;5;241m1\u001b[39m,linewidth\u001b[38;5;241m=\u001b[39m\u001b[38;5;241m1\u001b[39m, marker\u001b[38;5;241m=\u001b[39m\u001b[38;5;124m'\u001b[39m\u001b[38;5;124mo\u001b[39m\u001b[38;5;124m'\u001b[39m,markersize\u001b[38;5;241m=\u001b[39m\u001b[38;5;241m5\u001b[39m,label\u001b[38;5;241m=\u001b[39m\u001b[38;5;124m'\u001b[39m\u001b[38;5;124mNN\u001b[39m\u001b[38;5;124m'\u001b[39m)\n\u001b[1;32m      5\u001b[0m plt\u001b[38;5;241m.\u001b[39mplot(strain_ref[:,umat_dir],\n\u001b[1;32m      6\u001b[0m          stress_ref[:,umat_dir],\n\u001b[1;32m      7\u001b[0m          color\u001b[38;5;241m=\u001b[39m\u001b[38;5;124m'\u001b[39m\u001b[38;5;124mdarkorange\u001b[39m\u001b[38;5;124m'\u001b[39m,\n\u001b[1;32m      8\u001b[0m          alpha\u001b[38;5;241m=\u001b[39m\u001b[38;5;241m1\u001b[39m,linewidth\u001b[38;5;241m=\u001b[39m\u001b[38;5;241m2\u001b[39m, marker\u001b[38;5;241m=\u001b[39m\u001b[38;5;124m'\u001b[39m\u001b[38;5;124ms\u001b[39m\u001b[38;5;124m'\u001b[39m,markersize\u001b[38;5;241m=\u001b[39m\u001b[38;5;241m0\u001b[39m,label\u001b[38;5;241m=\u001b[39m\u001b[38;5;124m'\u001b[39m\u001b[38;5;124mref\u001b[39m\u001b[38;5;124m'\u001b[39m)\n\u001b[1;32m      9\u001b[0m plt\u001b[38;5;241m.\u001b[39mxlabel(\u001b[38;5;124m\"\u001b[39m\u001b[38;5;124m$\u001b[39m\u001b[38;5;130;01m\\\\\u001b[39;00m\u001b[38;5;124mvarepsilon$\u001b[39m\u001b[38;5;124m\"\u001b[39m)\n",
      "\u001b[0;31mNameError\u001b[0m: name 'hstrain' is not defined"
     ]
    }
   ],
   "source": [
    "plt.plot(hstrain[:,umat_dir],\n",
    "         hstress[:,umat_dir],\n",
    "         color = 'darkblue',\n",
    "         alpha=1,linewidth=1, marker='o',markersize=5,label='NN')\n",
    "plt.plot(strain_ref[:,umat_dir],\n",
    "         stress_ref[:,umat_dir],\n",
    "         color='darkorange',\n",
    "         alpha=1,linewidth=2, marker='s',markersize=0,label='ref')\n",
    "plt.xlabel(\"$\\\\varepsilon$\")\n",
    "plt.ylabel(\"$\\sigma= NN(\\\\varepsilon)$\")\n",
    "plt.legend()\n",
    "plt.show()"
   ]
  },
  {
   "cell_type": "markdown",
   "id": "df3158da",
   "metadata": {
    "cell_id": "00015-9ab55cf5-31a5-465c-ab58-7f477b83cba5",
    "deepnote_cell_height": 52,
    "deepnote_cell_type": "markdown"
   },
   "source": [
    "Plot the free energy vs strain history as predicted by the model and compare it with the one of the reference model"
   ]
  },
  {
   "cell_type": "code",
   "execution_count": null,
   "id": "6678e094",
   "metadata": {
    "cell_id": "00016-77865cb0-ef2f-4fd2-a3e4-d4d7b937f823",
    "deepnote_cell_height": 282,
    "deepnote_cell_type": "code"
   },
   "outputs": [],
   "source": [
    "plt.plot(hstrain[:,umat_dir],\n",
    "         henergy,\n",
    "         color = 'darkblue',\n",
    "         alpha=1,linewidth=1, marker='o',markersize=5,label='NN')\n",
    "\n",
    "plt.plot(strain_ref[:,umat_dir],\n",
    "         energy_ref,\n",
    "         color = 'coral',\n",
    "         alpha=1,linewidth=2, marker='s',markersize=0,label='ref')\n",
    "plt.xlabel(\"$\\\\varepsilon$\")\n",
    "plt.ylabel(\"$\\psi$\")\n",
    "plt.legend()\n",
    "plt.show()"
   ]
  },
  {
   "cell_type": "markdown",
   "id": "d70aa664",
   "metadata": {
    "cell_id": "00017-fc3de7c5-c905-4774-a80a-cc42aeaa871b",
    "deepnote_cell_height": 54,
    "deepnote_cell_type": "markdown"
   },
   "source": [
    "#### Compute and plot the error with respect to the reference constitutive model"
   ]
  },
  {
   "cell_type": "code",
   "execution_count": null,
   "id": "b2a93be7",
   "metadata": {
    "cell_id": "00018-f5e98c6a-d33f-469b-b023-adfd7ce3f46a",
    "deepnote_cell_height": 84,
    "deepnote_cell_type": "code"
   },
   "outputs": [],
   "source": [
    "MAE_energy = (np.abs(energy_ref-henergy))\n",
    "MAE_stress = (np.abs(stress_ref[:,umat_dir]-hstress[:,umat_dir]))"
   ]
  },
  {
   "cell_type": "code",
   "execution_count": null,
   "id": "0914c57a",
   "metadata": {
    "cell_id": "00019-4faf5dcf-1ff9-4033-863c-bcb69ba158d6",
    "deepnote_cell_height": 246,
    "deepnote_cell_type": "code"
   },
   "outputs": [],
   "source": [
    "plt.plot(hstrain[:,umat_dir],\n",
    "         MAE_energy,\n",
    "         alpha=1,linewidth=1, marker='o',markersize=4,label='$MAE_{\\psi}$')\n",
    "\n",
    "plt.plot(hstrain[:,umat_dir],\n",
    "         MAE_stress,\n",
    "          alpha=1,linewidth=1, marker='s',markersize=4,label='$MAE_{\\sigma}$')\n",
    "plt.xlabel(\"$\\\\varepsilon$\")\n",
    "plt.ylabel(\"Mean Absolute Error\")\n",
    "plt.legend()\n",
    "plt.show()"
   ]
  },
  {
   "cell_type": "code",
   "execution_count": null,
   "id": "b21b06a6",
   "metadata": {
    "cell_id": "00020-0f03add4-f89c-493c-b2a2-d35e3e5ffb39",
    "deepnote_cell_height": 66,
    "deepnote_cell_type": "code"
   },
   "outputs": [],
   "source": []
  },
  {
   "cell_type": "markdown",
   "id": "e549e878",
   "metadata": {
    "created_in_deepnote_cell": true,
    "deepnote_cell_type": "markdown",
    "tags": []
   },
   "source": [
    "<a style='text-decoration:none;line-height:16px;display:flex;color:#5B5B62;padding:10px;justify-content:end;' href='https://deepnote.com?utm_source=created-in-deepnote-cell&projectId=b33f54f1-f98d-4fed-99c0-2484f115edd9' target=\"_blank\">\n",
    "<img alt='Created in deepnote.com' style='display:inline;max-height:16px;margin:0px;margin-right:7.5px;' src='data:image/svg+xml;base64,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' > </img>\n",
    "Created in <span style='font-weight:600;margin-left:4px;'>Deepnote</span></a>"
   ]
  }
 ],
 "metadata": {
  "deepnote": {},
  "deepnote_execution_queue": [],
  "deepnote_notebook_id": "48062d4e-7c77-4d4c-b77a-cd139024c434",
  "kernelspec": {
   "display_name": "Python 3 (ipykernel)",
   "language": "python",
   "name": "python3"
  },
  "language_info": {
   "codemirror_mode": {
    "name": "ipython",
    "version": 3
   },
   "file_extension": ".py",
   "mimetype": "text/x-python",
   "name": "python",
   "nbconvert_exporter": "python",
   "pygments_lexer": "ipython3",
   "version": "3.8.13"
  }
 },
 "nbformat": 4,
 "nbformat_minor": 5
}
