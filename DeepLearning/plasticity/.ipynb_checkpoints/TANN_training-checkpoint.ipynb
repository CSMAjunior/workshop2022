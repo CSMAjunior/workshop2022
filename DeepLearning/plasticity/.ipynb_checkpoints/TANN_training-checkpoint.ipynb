{
 "cells": [
  {
   "cell_type": "markdown",
   "id": "ecc17aa0-63b0-4f34-a367-2e32fa5dd74d",
   "metadata": {},
   "source": [
    "### Import libraries\n",
    "\n",
    "Import libraries, set parameters, and import classes"
   ]
  },
  {
   "cell_type": "code",
   "execution_count": null,
   "id": "b544aa76-6a61-45e4-b54f-1aecd45a5f39",
   "metadata": {},
   "outputs": [],
   "source": [
    "import numpy as np\n",
    "import tensorflow as tf\n",
    "import pickle\n",
    "np.random.seed(1)\n",
    "tf.random.set_seed(1)\n",
    "tf.keras.backend.set_floatx('float32')\n",
    "\n",
    "import matplotlib.pyplot as plt\n",
    "plt.rcParams[\"figure.figsize\"] = (3,3)\n",
    "plt.rcParams.update({\n",
    "    \"text.usetex\": True,\n",
    "    \"font.family\": \"sans-serif\",\n",
    "    \"font.sans-serif\": [\"DejaVu Sans\"]})\n",
    "plt.rcParams.update({'font.size': 13})"
   ]
  },
  {
   "cell_type": "code",
   "execution_count": null,
   "id": "economic-acoustic",
   "metadata": {},
   "outputs": [],
   "source": [
    "from __lib__.TANN_class import TANN\n",
    "from __lib__.DataProcessing import PreProcessing"
   ]
  },
  {
   "cell_type": "markdown",
   "id": "d4bb0717-1e30-424b-8e3d-fa2e0d9d85d9",
   "metadata": {},
   "source": [
    "### Import datasets and pre-processing"
   ]
  },
  {
   "cell_type": "code",
   "execution_count": null,
   "id": "yellow-boards",
   "metadata": {},
   "outputs": [],
   "source": [
    "file = './data/3D_PlaneStrain_VonMises_CSMA'\n",
    "training_percentage = 0.6"
   ]
  },
  {
   "cell_type": "code",
   "execution_count": null,
   "id": "improved-taylor",
   "metadata": {},
   "outputs": [],
   "source": [
    "with open(file, 'rb') as f_obj:\n",
    "    data = pickle.load(f_obj)\n",
    "\n",
    "strain,strainDot,svars,svarsDot,stress,energy,dissipationDot = data\n",
    "\n",
    "dissipationDot = dissipationDot[:,0]\n",
    "del data"
   ]
  },
  {
   "cell_type": "markdown",
   "id": "genuine-apparatus",
   "metadata": {},
   "source": [
    "##### Split datasets  (tv=training+validation - test)"
   ]
  },
  {
   "cell_type": "code",
   "execution_count": null,
   "id": "sensitive-police",
   "metadata": {},
   "outputs": [],
   "source": [
    "PreProcessing = PreProcessing(0.6)\n",
    "\n",
    "train_p,val_p,test_p = PreProcessing.split_dataset(strain,percentage=True)\n",
    "\n",
    "print('# samples:', train_p+val_p+test_p,\n",
    "      '\\n# training:', train_p,\n",
    "      '\\n# validation:', val_p,\n",
    "      '\\n# test:', test_p)"
   ]
  },
  {
   "cell_type": "code",
   "execution_count": null,
   "id": "dynamic-criticism",
   "metadata": {},
   "outputs": [],
   "source": [
    "strain_tv,strain_test = PreProcessing.split_dataset(strain)\n",
    "strainDot_tv,strainDot_test = PreProcessing.split_dataset(strainDot)\n",
    "\n",
    "stress_tv,stress_test = PreProcessing.split_dataset(stress)\n",
    "\n",
    "svars_tv,svars_test = PreProcessing.split_dataset(svars)\n",
    "svarsDot_tv,svarsDot_test = PreProcessing.split_dataset(svarsDot)\n",
    "\n",
    "energy_tv,energy_test = PreProcessing.split_dataset(energy)\n",
    "dissipationDot_tv,dissipationDot_test = PreProcessing.split_dataset(dissipationDot)"
   ]
  },
  {
   "cell_type": "markdown",
   "id": "personalized-proposal",
   "metadata": {},
   "source": [
    "##### Get normalization parameters"
   ]
  },
  {
   "cell_type": "code",
   "execution_count": null,
   "id": "secret-weight",
   "metadata": {},
   "outputs": [],
   "source": [
    "# Use simply the code you programmed previously for the elastic case"
   ]
  },
  {
   "cell_type": "code",
   "execution_count": null,
   "id": "worse-charger",
   "metadata": {},
   "outputs": [],
   "source": [
    "#Or:\n",
    "\n",
    "# prm_E = PreProcessing.GetParams(strain_tv,normalize=True)\n",
    "# prm_EDot = PreProcessing.GetParams(strainDot_tv,normalize=True)\n",
    "# prm_S = PreProcessing.GetParams(stress_tv,normalize=True)\n",
    "\n",
    "# prm_F = PreProcessing.GetParams(energy_tv,normalize_01=True)\n",
    "# prm_D = PreProcessing.GetParams(dissipationDot_tv,normalize_01=True)\n",
    "\n",
    "# prm_Z = PreProcessing.GetParams(svars_tv,normalize=True)\n",
    "# prm_ZDot = PreProcessing.GetParams(svarsDot_tv,normalize=True)"
   ]
  },
  {
   "cell_type": "markdown",
   "id": "liable-finnish",
   "metadata": {},
   "source": [
    "##### Normalize datasets"
   ]
  },
  {
   "cell_type": "code",
   "execution_count": null,
   "id": "featured-going",
   "metadata": {},
   "outputs": [],
   "source": [
    "# Training and validation datasets\n",
    "\n",
    "__strain_tv,__strain_test = PreProcessing.Normalize(\n",
    "    [strain_tv,strain_test],prm_E,train_val=True)\n",
    "__strainDot_tv,__strainDot_test = PreProcessing.Normalize(\n",
    "    [strainDot_tv,strainDot_test],prm_EDot,train_val=True)\n",
    "\n",
    "__svars_tv,__svars_test = PreProcessing.Normalize(\n",
    "    [svars_tv,svars_test],prm_Z,train_val=True)\n",
    "__svarsDot_tv,__svarsDot_test = PreProcessing.Normalize(\n",
    "    [svarsDot_tv,svarsDot_test],prm_ZDot,train_val=True)\n",
    "\n",
    "__stress_tv,__stress_test = PreProcessing.Normalize(\n",
    "    [stress_tv,stress_test],prm_S,train_val=True)\n",
    "__energy_tv,__energy_test = PreProcessing.Normalize(\n",
    "    [energy_tv,energy_test],prm_F,train_val=True)\n",
    "__dissipationDot_tv,__dissipationDot_test = PreProcessing.Normalize(\n",
    "    [dissipationDot_tv,dissipationDot_test],prm_D,train_val=True)"
   ]
  },
  {
   "cell_type": "markdown",
   "id": "447c12d5-4e80-4b0e-a7b4-b17c51c579d3",
   "metadata": {},
   "source": [
    "### Thermodynamics-based Artificial Neural Networks"
   ]
  },
  {
   "cell_type": "markdown",
   "id": "bottom-aside",
   "metadata": {},
   "source": [
    "#### Build network"
   ]
  },
  {
   "cell_type": "code",
   "execution_count": null,
   "id": "15cb04d6-e7eb-4f11-83ae-d944b0372386",
   "metadata": {},
   "outputs": [],
   "source": [
    "umat_dim = 4 # dimensional space\n",
    "\n",
    "hidden_NN_Energy = 4 # number hidden layers in NN Energy\n",
    "hidden_NN_Evolution = 3 # number of hidden layers in NN Evolution\n",
    "material = 'inelastic'\n",
    "\n",
    "TANNnet = TANN(umat_dim,\n",
    "               material,\n",
    "               hidden_NN_Energy,\n",
    "               activation_NN_Energy='fast_gelu',\n",
    "               hidden_NN_Evolution = hidden_NN_Evolution,\n",
    "               activation_NN_Evolution = 'leaky_relu') # Initialize TANN class\n",
    "\n",
    "params = [prm_E,prm_S,prm_Z,prm_F,prm_D,prm_EDot,prm_ZDot] # regroup normalization parameters\n",
    "TANNnet.SetParams(params) # set normalization parameters in the model\n",
    "\n",
    "# build TF model class\n",
    "input_shape = [[None,umat_dim],[None,umat_dim],[None,umat_dim]]\n",
    "TANNnet.build(input_shape)\n",
    "\n",
    "# print model's summary\n",
    "print(TANNnet.summary())"
   ]
  },
  {
   "cell_type": "markdown",
   "id": "collectible-humor",
   "metadata": {},
   "source": [
    "#### Define inputs and outputs"
   ]
  },
  {
   "cell_type": "code",
   "execution_count": null,
   "id": "sound-sponsorship",
   "metadata": {},
   "outputs": [],
   "source": [
    "output_tv = [__svarsDot_tv,__energy_tv,__stress_tv,__dissipationDot_tv]\n",
    "\n",
    "output_test = [__svarsDot_test,__energy_test,__stress_test,__dissipationDot_test]\n",
    "\n",
    "input_tv = [__svars_tv,__strain_tv,__strainDot_tv]\n",
    "\n",
    "input_test = [__svars_test,__strain_test,__strainDot_test]"
   ]
  },
  {
   "cell_type": "markdown",
   "id": "central-turning",
   "metadata": {},
   "source": [
    "#### Compile and train the network"
   ]
  },
  {
   "cell_type": "code",
   "execution_count": null,
   "id": "protecting-chamber",
   "metadata": {
    "scrolled": true
   },
   "outputs": [],
   "source": [
    "TANNnet.compileTANN()\n",
    "\n",
    "callbacks_list = [tf.keras.callbacks.EarlyStopping(monitor ='val_loss',min_delta = 1.e-6,\n",
    "                                                   patience = 200, verbose = 0, mode = 'min',\n",
    "                                                   baseline = None,restore_best_weights = True)]\n",
    "\n",
    "hist_TANNnet = TANNnet.fit(input_tv,output_tv,\n",
    "                           epochs = 1500,\n",
    "                           validation_split=0.2,\n",
    "                           batch_size = 200,\n",
    "                           verbose = 2,\n",
    "                           use_multiprocessing=True,\n",
    "                           callbacks = callbacks_list,)\n"
   ]
  },
  {
   "cell_type": "code",
   "execution_count": null,
   "id": "burning-reading",
   "metadata": {},
   "outputs": [],
   "source": [
    "print('Evaluate loss for training and validation datasets:'); TANNnet.evaluate(input_tv,output_tv,verbose=2)\n",
    "print('\\nEvaluate loss for test datasets:'); TANNnet.evaluate(input_test,output_test,verbose=2)\n",
    "\n",
    "\n",
    "svarsDot_loss = np.asarray(hist_TANNnet.history['output_1_loss'])\n",
    "svarsDot_val_loss = np.asarray(hist_TANNnet.history['val_output_1_loss'])\n",
    "energy_loss = np.asarray(hist_TANNnet.history['output_2_loss'])\n",
    "energy_val_loss = np.asarray(hist_TANNnet.history['val_output_2_loss'])\n",
    "stress_loss = np.asarray(hist_TANNnet.history['output_3_loss'])\n",
    "stress_val_loss = np.asarray(hist_TANNnet.history['val_output_3_loss'])\n",
    "dissipationDot_loss = np.asarray(hist_TANNnet.history['output_4_loss'])\n",
    "dissipationDot_val_loss = np.asarray(hist_TANNnet.history['val_output_4_loss'])\n",
    "epochs = range(1, len(energy_loss) + 1)"
   ]
  },
  {
   "cell_type": "code",
   "execution_count": null,
   "id": "numerical-reception",
   "metadata": {
    "scrolled": true,
    "tags": []
   },
   "outputs": [],
   "source": [
    "fig, ax = plt.subplots(1)\n",
    "ax.loglog(epochs, svarsDot_loss, color='red', label='$\\dot{z}$', linewidth=2, marker='o',markersize=0)\n",
    "ax.loglog(epochs, energy_loss, color='darkblue', label='$\\psi$', linewidth=2, marker='o',markersize=0)\n",
    "ax.loglog(epochs, stress_loss, color='black', label='$\\psi$', linewidth=2, marker='o',markersize=0)\n",
    "ax.loglog(epochs, dissipationDot_loss, color='darkorange', label='$d$', linewidth=2, marker='o',markersize=0)\n",
    "\n",
    "ax.loglog(epochs, svarsDot_val_loss, color='red', alpha=0.5,linewidth=2, marker='o',markersize=0)\n",
    "ax.loglog(epochs, energy_val_loss, color='darkblue', alpha=0.5,  linewidth=2, marker='o',markersize=0)\n",
    "ax.loglog(epochs, stress_val_loss, color='black', alpha=0.5,linewidth=2, marker='o',markersize=0)\n",
    "ax.loglog(epochs, dissipationDot_val_loss, color='darkorange', alpha=0.5,  linewidth=2, marker='o',markersize=0)\n",
    "\n",
    "\n",
    "ax.set_xlabel('epochs')\n",
    "ax.set_ylabel('Mean Absolute Error')\n",
    "ax.legend(loc='best')\n",
    "ax.grid()\n",
    "ax.set_ylim(1e-7,1)"
   ]
  },
  {
   "cell_type": "code",
   "execution_count": null,
   "id": "scenic-diameter",
   "metadata": {},
   "outputs": [],
   "source": [
    "pred__svarsDot,pred__energy,pred__stress,pred__dissipationDot,pred_2ndLaw=TANNnet.predict(input_test)\n",
    "\n",
    "# Plot stress\n",
    "plt.plot(__stress_test,\n",
    "         pred__stress,\n",
    "         alpha=0.3,linewidth=0, marker='o',markersize=5)\n",
    "plt.xlabel(\"$\\sigma$\")\n",
    "plt.ylabel(\"$\\sigma=\\partial_{\\\\varepsilon} NN_{\\psi}(\\\\varepsilon)$\")\n",
    "plt.show()\n",
    "\n",
    "# Plot internal variable\n",
    "plt.plot(__svarsDot_test,\n",
    "         pred__svarsDot,\n",
    "         alpha=0.3,linewidth=0, marker='o',markersize=5)\n",
    "plt.xlabel(\"$\\\\dot{z}$\")\n",
    "plt.ylabel(\"$NN_{\\\\dot{z}}$\")\n",
    "plt.show()\n",
    "\n",
    "# Plot energy\n",
    "plt.plot(__energy_test,\n",
    "         pred__energy,\n",
    "         alpha=0.3,linewidth=0, marker='o',markersize=5)\n",
    "plt.xlabel(\"$\\psi$\")\n",
    "plt.ylabel(\"$\\psi=NN_{\\psi}(\\\\varepsilon,z)$\")\n",
    "plt.show()\n",
    "\n",
    "# Plot dissipation rate\n",
    "plt.plot(__dissipationDot_test,\n",
    "         pred__dissipationDot,\n",
    "         alpha=0.3,linewidth=0, marker='o',markersize=5)\n",
    "plt.xlabel(\"$d$\")\n",
    "plt.ylabel(\"$d=-\\partial_{z}NN_{\\psi}\\cdot \\dot{z}$\")\n",
    "plt.show()"
   ]
  },
  {
   "cell_type": "markdown",
   "id": "virgin-therapist",
   "metadata": {},
   "source": [
    "### Save model"
   ]
  },
  {
   "cell_type": "code",
   "execution_count": null,
   "id": "headed-carol",
   "metadata": {},
   "outputs": [],
   "source": [
    "# filename = './results/TANN_VonMises'\n",
    "# TANNnet.save_export(filename)"
   ]
  },
  {
   "cell_type": "code",
   "execution_count": null,
   "id": "closed-inspection",
   "metadata": {},
   "outputs": [],
   "source": []
  }
 ],
 "metadata": {
  "kernelspec": {
   "display_name": "Python 3",
   "language": "python",
   "name": "python3"
  },
  "language_info": {
   "codemirror_mode": {
    "name": "ipython",
    "version": 3
   },
   "file_extension": ".py",
   "mimetype": "text/x-python",
   "name": "python",
   "nbconvert_exporter": "python",
   "pygments_lexer": "ipython3",
   "version": "3.8.10"
  }
 },
 "nbformat": 4,
 "nbformat_minor": 5
}
