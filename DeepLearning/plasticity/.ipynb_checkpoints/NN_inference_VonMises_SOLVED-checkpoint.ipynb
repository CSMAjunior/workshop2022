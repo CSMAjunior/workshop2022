{
 "cells": [
  {
   "cell_type": "markdown",
   "id": "ecc17aa0-63b0-4f34-a367-2e32fa5dd74d",
   "metadata": {},
   "source": [
    "### Import libraries\n",
    "\n",
    "Import libraries, set parameters, and import classes"
   ]
  },
  {
   "cell_type": "code",
   "execution_count": 19,
   "id": "b544aa76-6a61-45e4-b54f-1aecd45a5f39",
   "metadata": {},
   "outputs": [],
   "source": [
    "import numpy as np\n",
    "import tensorflow as tf\n",
    "import pickle\n",
    "np.random.seed(1)\n",
    "tf.random.set_seed(1)\n",
    "tf.keras.backend.set_floatx('float32')\n",
    "\n",
    "import matplotlib.pyplot as plt\n",
    "plt.rcParams[\"figure.figsize\"] = (3,3)\n",
    "plt.rcParams.update({\n",
    "    \"text.usetex\": True,\n",
    "    \"font.family\": \"sans-serif\",\n",
    "    \"font.sans-serif\": [\"DejaVu Sans\"]})\n",
    "plt.rcParams.update({'font.size': 13})"
   ]
  },
  {
   "cell_type": "code",
   "execution_count": 20,
   "id": "every-church",
   "metadata": {},
   "outputs": [],
   "source": [
    "from __lib__.NN_class import NeuralNetwork\n",
    "from __lib__.DataProcessing import PreProcessing"
   ]
  },
  {
   "cell_type": "markdown",
   "id": "447c12d5-4e80-4b0e-a7b4-b17c51c579d3",
   "metadata": {},
   "source": [
    "### Neural Networks\n",
    "\n",
    "#### Import trained model and compile\n",
    "\n",
    "Import trained model by specifying the file (filename) of the saved weights and the architecture.\n",
    "The function import_compile(filename,input_shape) performs a check of the defined parameters wrt the saved model"
   ]
  },
  {
   "cell_type": "code",
   "execution_count": 21,
   "id": "15cb04d6-e7eb-4f11-83ae-d944b0372386",
   "metadata": {},
   "outputs": [
    {
     "name": "stdout",
     "output_type": "stream",
     "text": [
      "File ./results/NN_VonMises refers to the following model:\n",
      "umat_dim: 4 \n",
      "material: inelastic \n",
      "hidden_NN_Stress: 3 \n",
      "activation_NN_Stress: leaky_relu \n",
      "hidden_NN_Evolution: 3 \n",
      "activation_NN_Evolution: leaky_relu\n",
      "Model: \"Artificial_Neural_Networks\"\n",
      "_________________________________________________________________\n",
      "Layer (type)                 Output Shape              Param #   \n",
      "=================================================================\n",
      "NN_Stress (Sequential)       (None, 4)                 756       \n",
      "_________________________________________________________________\n",
      "NN_Evolution (Sequential)    (None, 4)                 20260     \n",
      "=================================================================\n",
      "Total params: 21,016\n",
      "Trainable params: 21,016\n",
      "Non-trainable params: 0\n",
      "_________________________________________________________________\n"
     ]
    }
   ],
   "source": [
    "filename = './results/NN_VonMises'\n",
    "\n",
    "umat_dim = 4 # dimensional space\n",
    "\n",
    "hidden_NN_Stress = 3 # number of hidden layers in NN Evolution\n",
    "hidden_NN_Evolution = 3\n",
    "material = 'inelastic'\n",
    "\n",
    "Nnet = NeuralNetwork(umat_dim,\n",
    "                     material,\n",
    "                     hidden_NN_Stress,\n",
    "                     activation_NN_Stress='leaky_relu',\n",
    "                     hidden_NN_Evolution = hidden_NN_Evolution,\n",
    "                     activation_NN_Evolution='leaky_relu') # Initialize TANN class\n",
    "\n",
    "# build model class\n",
    "input_shape = [[None,umat_dim],[None,umat_dim],[None,umat_dim]]\n",
    "Nnet.build(input_shape)\n",
    "\n",
    "# Compile model and import weights\n",
    "Nnet.import_compile(filename,input_shape)\n",
    "Nnet.summary()"
   ]
  },
  {
   "cell_type": "markdown",
   "id": "sharp-italian",
   "metadata": {},
   "source": [
    "### Inference - loading path (1)\n",
    "\n",
    "Make predictions of the constitutive response under a biaxial loading path using the trained model. The loading path is predefined (see 1. Loading path), but you have to implement a function that call the trained model and make predictions.\n",
    "\n",
    "Note. All quantities should be dimensional (not normalized)"
   ]
  },
  {
   "cell_type": "markdown",
   "id": "threatened-impact",
   "metadata": {},
   "source": [
    "#### 1. Loading path"
   ]
  },
  {
   "cell_type": "code",
   "execution_count": 22,
   "id": "protecting-chamber",
   "metadata": {
    "scrolled": true
   },
   "outputs": [],
   "source": [
    "# Specify total number of increments and sub-increments (cylic loading)\n",
    "increments = 30*5\n",
    "sub_increments = increments//5\n",
    "\n",
    "# Specify loading direction (0 = {}_11, 1 = {}_22)\n",
    "umat_dir = [0,1]\n",
    "\n",
    "# Specify strain increment magnitude\n",
    "de = 2e-4\n",
    "\n",
    "# Strain increment tensor (Voigt)\n",
    "dstrain = np.zeros((increments,umat_dim))\n",
    "dstrain[:sub_increments,umat_dir[0]] = de*np.ones((sub_increments))\n",
    "dstrain[sub_increments:3*sub_increments,umat_dir[0]] = -de*np.ones((2*sub_increments))\n",
    "dstrain[3*sub_increments:,umat_dir[0]] = de*np.ones((2*sub_increments))\n",
    "\n",
    "dstrain[:,umat_dir[1]]=-dstrain[:,umat_dir[0]]"
   ]
  },
  {
   "cell_type": "markdown",
   "id": "burning-silly",
   "metadata": {},
   "source": [
    "#### 2. Make predictions\n",
    "\n",
    "Here goes your function to predict the stress and internal variables deriving from the deformation path specified by dstrain (see 3.1)"
   ]
  },
  {
   "cell_type": "code",
   "execution_count": 23,
   "id": "collaborative-functionality",
   "metadata": {},
   "outputs": [],
   "source": [
    "# h_strain,h_svars,h_stress = ???"
   ]
  },
  {
   "cell_type": "markdown",
   "id": "balanced-words",
   "metadata": {},
   "source": [
    "Solution"
   ]
  },
  {
   "cell_type": "code",
   "execution_count": 24,
   "id": "disciplinary-extension",
   "metadata": {},
   "outputs": [],
   "source": [
    "h_strain,h_svars,h_stress,h_svarsDot = Nnet.incremental_prediction(increments,dstrain)"
   ]
  },
  {
   "cell_type": "markdown",
   "id": "dedicated-repeat",
   "metadata": {},
   "source": [
    "#### 3. Import reference model solution"
   ]
  },
  {
   "cell_type": "code",
   "execution_count": 25,
   "id": "adopted-karen",
   "metadata": {},
   "outputs": [],
   "source": [
    "file = './data/3D_PlaneStrain_VonMises_CSMA_inference_biaxial'\n",
    "with open(file, 'rb') as f_obj:\n",
    "    data = pickle.load(f_obj)\n",
    "\n",
    "strain_ref,svars_ref,stress_ref,energy_ref,dissipationDot_ref = data"
   ]
  },
  {
   "cell_type": "markdown",
   "id": "casual-shock",
   "metadata": {},
   "source": [
    "#### 4. Compare results\n",
    "\n",
    "Plot the internal variables vs strain history as predicted by the model and compare it with the one of the reference model"
   ]
  },
  {
   "cell_type": "code",
   "execution_count": 26,
   "id": "heated-chess",
   "metadata": {},
   "outputs": [
    {
     "data": {
      "image/png": "[encoded data removed]",
      "text/plain": [
       "<Figure size 216x216 with 1 Axes>"
      ]
     },
     "metadata": {
      "needs_background": "light"
     },
     "output_type": "display_data"
    }
   ],
   "source": [
    "plt.plot(strain_ref[:,umat_dir[0]],svars_ref[:,umat_dir[0]],\n",
    "         color='red',\n",
    "         alpha=1,linewidth=2, marker='o',markersize=0,label='ref')\n",
    "\n",
    "plt.xlabel(\"$\\\\varepsilon_{11}$\")\n",
    "plt.ylabel(\"$z_{11}$\")\n",
    "plt.legend()\n",
    "plt.show()"
   ]
  },
  {
   "cell_type": "markdown",
   "id": "standard-grant",
   "metadata": {},
   "source": [
    "Plot the stress vs strain history as predicted by the model and compare it with the one of the reference model"
   ]
  },
  {
   "cell_type": "code",
   "execution_count": 27,
   "id": "recovered-generic",
   "metadata": {},
   "outputs": [
    {
     "data": {
      "image/png": "[encoded data removed]",
      "text/plain": [
       "<Figure size 216x216 with 1 Axes>"
      ]
     },
     "metadata": {
      "needs_background": "light"
     },
     "output_type": "display_data"
    }
   ],
   "source": [
    "plt.plot(strain_ref[:,umat_dir[0]],\n",
    "         stress_ref[:,umat_dir[0]],\n",
    "         color='red',\n",
    "         alpha=1,linewidth=1, marker='o',markersize=3,label='ref')\n",
    "\n",
    "plt.xlabel(\"$\\\\varepsilon_{11}$\")\n",
    "plt.ylabel(\"$\\sigma_{11}$\")\n",
    "plt.legend()\n",
    "plt.show()"
   ]
  },
  {
   "cell_type": "markdown",
   "id": "secret-parking",
   "metadata": {},
   "source": [
    "Solution"
   ]
  },
  {
   "cell_type": "code",
   "execution_count": 28,
   "id": "spiritual-timber",
   "metadata": {},
   "outputs": [
    {
     "data": {
      "image/png": "[encoded data removed]",
      "text/plain": [
       "<Figure size 216x216 with 1 Axes>"
      ]
     },
     "metadata": {
      "needs_background": "light"
     },
     "output_type": "display_data"
    }
   ],
   "source": [
    "plt.plot(h_strain[:,umat_dir[0]],h_svars[:,umat_dir[0]],\n",
    "         color = 'darkblue',\n",
    "         alpha=1,linewidth=1, marker='o',markersize=4,label='NN')\n",
    "\n",
    "plt.plot(strain_ref[:,umat_dir[0]],svars_ref[:,umat_dir[0]],\n",
    "         color='red',\n",
    "         alpha=1,linewidth=2, marker='o',markersize=0,label='ref')\n",
    "\n",
    "plt.xlabel(\"$\\\\varepsilon_{11}$\")\n",
    "plt.ylabel(\"$z_{11}$\")\n",
    "plt.legend()\n",
    "plt.show()"
   ]
  },
  {
   "cell_type": "code",
   "execution_count": 29,
   "id": "analyzed-preview",
   "metadata": {},
   "outputs": [
    {
     "data": {
      "image/png": "[encoded data removed]",
      "text/plain": [
       "<Figure size 216x216 with 1 Axes>"
      ]
     },
     "metadata": {
      "needs_background": "light"
     },
     "output_type": "display_data"
    }
   ],
   "source": [
    "plt.plot(h_strain[:,umat_dir[0]],h_stress[:,umat_dir[0]],\n",
    "         alpha=1,linewidth=1, marker='o',markersize=5,label='NN')\n",
    "\n",
    "plt.plot(strain_ref[:,umat_dir[0]],stress_ref[:,umat_dir[0]],\n",
    "         color='red',\n",
    "         alpha=1,linewidth=1, marker='s',markersize=2,label='ref')\n",
    "\n",
    "plt.xlabel(\"$\\\\varepsilon_{11}$\")\n",
    "plt.ylabel(\"$\\sigma_{11}=\\partial_{\\\\varepsilon_{11}} NN(\\\\varepsilon)$\")\n",
    "plt.legend()\n",
    "plt.show()"
   ]
  },
  {
   "cell_type": "markdown",
   "id": "otherwise-james",
   "metadata": {},
   "source": [
    "### Inference - loading path (2)\n",
    "\n",
    "Make predictions of the constitutive response under a simple shear loading path using the trained model. The loading path is predefined (see 1. Loading path). Use the function that you implemented above."
   ]
  },
  {
   "cell_type": "markdown",
   "id": "moderate-decision",
   "metadata": {},
   "source": [
    "#### 1. Loading path"
   ]
  },
  {
   "cell_type": "code",
   "execution_count": 30,
   "id": "ethical-shakespeare",
   "metadata": {},
   "outputs": [],
   "source": [
    "#Specify number of increments\n",
    "increments = 600\n",
    "\n",
    "# Specify loading direction (-1 = {}_12)\n",
    "umat_dir = -1\n",
    "\n",
    "# Specify strain increment magnitude\n",
    "de = 2e-4\n",
    "\n",
    "# Strain increment tensor (Voigt)\n",
    "dstrain = np.zeros((increments,umat_dim))\n",
    "dstrain[:increments,umat_dir] = 2*de*np.ones((increments))"
   ]
  },
  {
   "cell_type": "markdown",
   "id": "black-compression",
   "metadata": {},
   "source": [
    "#### 2. Make predictions"
   ]
  },
  {
   "cell_type": "code",
   "execution_count": 31,
   "id": "falling-machine",
   "metadata": {},
   "outputs": [],
   "source": [
    "h_strain,h_svars,h_stress,h_svarsDot = Nnet.incremental_prediction(increments,dstrain)"
   ]
  },
  {
   "cell_type": "markdown",
   "id": "complimentary-touch",
   "metadata": {},
   "source": [
    "#### 3. Import reference model solution"
   ]
  },
  {
   "cell_type": "code",
   "execution_count": 32,
   "id": "sonic-intention",
   "metadata": {},
   "outputs": [],
   "source": [
    "file = './data/3D_PlaneStrain_VonMises_CSMA_inference_shear'\n",
    "with open(file, 'rb') as f_obj:\n",
    "    data = pickle.load(f_obj)\n",
    "strain_ref,svars_ref,stress_ref,energy_ref,dissipationDot_ref = data"
   ]
  },
  {
   "cell_type": "markdown",
   "id": "proper-protein",
   "metadata": {},
   "source": [
    "#### 4. Compare results"
   ]
  },
  {
   "cell_type": "code",
   "execution_count": 37,
   "id": "imperial-lithuania",
   "metadata": {},
   "outputs": [
    {
     "data": {
      "image/png": "[encoded data removed]",
      "text/plain": [
       "<Figure size 216x216 with 1 Axes>"
      ]
     },
     "metadata": {
      "needs_background": "light"
     },
     "output_type": "display_data"
    }
   ],
   "source": [
    "plt.plot(h_strain[:,umat_dir],\n",
    "         h_svars[:,umat_dir],\n",
    "         color = 'blue',\n",
    "         alpha=1,linewidth=1, marker='o',markersize=4,label='NN')\n",
    "\n",
    "plt.plot(strain_ref[:,umat_dir],\n",
    "         svars_ref[:,umat_dir],\n",
    "         color='red',\n",
    "         alpha=1,linewidth=1, marker='o',markersize=3,label='ref')\n",
    "\n",
    "plt.xlabel(\"$\\\\varepsilon_{12}$\")\n",
    "plt.ylabel(\"$z_{12}$\")\n",
    "plt.legend()\n",
    "plt.show()"
   ]
  },
  {
   "cell_type": "code",
   "execution_count": 36,
   "id": "characteristic-weapon",
   "metadata": {},
   "outputs": [
    {
     "data": {
      "image/png": "[encoded data removed]",
      "text/plain": [
       "<Figure size 216x216 with 1 Axes>"
      ]
     },
     "metadata": {
      "needs_background": "light"
     },
     "output_type": "display_data"
    }
   ],
   "source": [
    "plt.plot(h_strain[:,umat_dir],h_stress[:,umat_dir],\n",
    "         alpha=1,linewidth=1, marker='o',markersize=4,label='NN')\n",
    "\n",
    "plt.plot(strain_ref[:,umat_dir],stress_ref[:,umat_dir],\n",
    "         color='red',\n",
    "         alpha=1,linewidth=2, marker='o',markersize=0,label='ref')\n",
    "\n",
    "plt.xlabel(\"$\\\\varepsilon_{12}$\")\n",
    "plt.ylabel(\"$\\sigma_{12}$\")\n",
    "plt.legend()\n",
    "plt.show()"
   ]
  },
  {
   "cell_type": "code",
   "execution_count": null,
   "id": "dominant-courage",
   "metadata": {},
   "outputs": [],
   "source": []
  }
 ],
 "metadata": {
  "kernelspec": {
   "display_name": "Python 3",
   "language": "python",
   "name": "python3"
  },
  "language_info": {
   "codemirror_mode": {
    "name": "ipython",
    "version": 3
   },
   "file_extension": ".py",
   "mimetype": "text/x-python",
   "name": "python",
   "nbconvert_exporter": "python",
   "pygments_lexer": "ipython3",
   "version": "3.8.10"
  }
 },
 "nbformat": 4,
 "nbformat_minor": 5
}
