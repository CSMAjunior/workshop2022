{
 "cells": [
  {
   "cell_type": "markdown",
   "id": "ecc17aa0-63b0-4f34-a367-2e32fa5dd74d",
   "metadata": {},
   "source": [
    "### Import libraries\n",
    "Import libraries, set parameters, and import classes"
   ]
  },
  {
   "cell_type": "code",
   "execution_count": null,
   "id": "b544aa76-6a61-45e4-b54f-1aecd45a5f39",
   "metadata": {},
   "outputs": [],
   "source": [
    "import numpy as np\n",
    "import tensorflow as tf\n",
    "import pickle\n",
    "np.random.seed(1)\n",
    "tf.random.set_seed(1)\n",
    "tf.keras.backend.set_floatx('float32')"
   ]
  },
  {
   "cell_type": "code",
   "execution_count": null,
   "id": "afraid-isolation",
   "metadata": {},
   "outputs": [],
   "source": [
    "from __lib__.TANN_class import TANN\n",
    "from __lib__.DataProcessing import PreProcessing"
   ]
  },
  {
   "cell_type": "markdown",
   "id": "447c12d5-4e80-4b0e-a7b4-b17c51c579d3",
   "metadata": {},
   "source": [
    "### Thermodynamics-based Artificial Neural Networks\n",
    "\n",
    "Import trained model by specifying the file (filename) of the saved weights and the architecture.\n",
    "The function import_compile(filename,input_shape) performs a check of the defined parameters wrt the saved model"
   ]
  },
  {
   "cell_type": "code",
   "execution_count": null,
   "id": "15cb04d6-e7eb-4f11-83ae-d944b0372386",
   "metadata": {},
   "outputs": [],
   "source": [
    "filename = './results/TANN_VonMises'\n",
    "\n",
    "umat_dim = 4 # dimensional space\n",
    "\n",
    "hidden_NN_Energy = 4 # number hidden layers in NN Energy\n",
    "hidden_NN_Evolution = 3 # number of hidden layers in NN Evolution\n",
    "material = 'inelastic'\n",
    "\n",
    "TANNnet = TANN(umat_dim,\n",
    "               material,\n",
    "               hidden_NN_Energy,\n",
    "               activation_NN_Energy='fast_gelu',\n",
    "               hidden_NN_Evolution = hidden_NN_Evolution,\n",
    "               activation_NN_Evolution = 'leaky_relu') # Initialize TANN class\n",
    "\n",
    "\n",
    "# build model class\n",
    "input_shape = [[None,umat_dim],[None,umat_dim],[None,umat_dim]]\n",
    "TANNnet.build(input_shape)\n",
    "\n",
    "# Compile model and import weights\n",
    "TANNnet.import_compile(filename,input_shape)\n",
    "TANNnet.summary()"
   ]
  },
  {
   "cell_type": "markdown",
   "id": "threatened-impact",
   "metadata": {},
   "source": [
    "### Inference - loading path (1)\n",
    "\n",
    "Make predictions of the constitutive response under a biaxial loading path using the trained model. The loading path is predefined (see below), but you have to implement a function that call the trained model and make predictions.\n",
    "\n",
    "Note. All quantities should be dimensional (not normalized)"
   ]
  },
  {
   "cell_type": "code",
   "execution_count": null,
   "id": "protecting-chamber",
   "metadata": {
    "scrolled": true
   },
   "outputs": [],
   "source": [
    "# Specify total number of increments and sub-increments (cylic loading)\n",
    "increments = 30*5\n",
    "sub_increments = increments//5\n",
    "\n",
    "# Specify loading direction (0 = {}_11, 1 = {}_22)\n",
    "umat_dir = [0,1]\n",
    "\n",
    "# Specify strain increment magnitude\n",
    "de = 2e-4\n",
    "\n",
    "# Strain increment tensor (Voigt)\n",
    "dstrain = np.zeros((increments,umat_dim))\n",
    "dstrain[:sub_increments,umat_dir[0]] = de*np.ones((sub_increments))\n",
    "dstrain[sub_increments:3*sub_increments,umat_dir[0]] = -de*np.ones((2*sub_increments))\n",
    "dstrain[3*sub_increments:,umat_dir[0]] = de*np.ones((2*sub_increments))\n",
    "\n",
    "dstrain[:,umat_dir[1]]=-dstrain[:,umat_dir[0]]"
   ]
  },
  {
   "cell_type": "markdown",
   "id": "limited-soviet",
   "metadata": {},
   "source": [
    "#### 1. Make predictions\n",
    "\n",
    "Here goes your function to predict the stress and internal variables deriving from the deformation path specified by dstrain (see 3.1)"
   ]
  },
  {
   "cell_type": "code",
   "execution_count": null,
   "id": "mature-laser",
   "metadata": {},
   "outputs": [],
   "source": [
    "h_strain,h_svars,h_stress = ???"
   ]
  },
  {
   "cell_type": "markdown",
   "id": "beginning-australia",
   "metadata": {},
   "source": [
    "#### 2. Import reference model solution"
   ]
  },
  {
   "cell_type": "code",
   "execution_count": null,
   "id": "adopted-karen",
   "metadata": {},
   "outputs": [],
   "source": [
    "file = './data/3D_PlaneStrain_VonMises_CSMA_inference_biaxial'\n",
    "with open(file, 'rb') as f_obj:\n",
    "    data = pickle.load(f_obj)\n",
    "\n",
    "strain_ref,svars_ref,stress_ref,energy_ref,dissipationDot_ref = data"
   ]
  },
  {
   "cell_type": "markdown",
   "id": "narrative-blond",
   "metadata": {},
   "source": [
    "#### 3. Compare results\n",
    "\n",
    "Plot the internal variables vs strain history as predicted by the model and compare it with the one of the reference model"
   ]
  },
  {
   "cell_type": "code",
   "execution_count": null,
   "id": "supreme-collectible",
   "metadata": {},
   "outputs": [],
   "source": [
    "plt.plot(strain_ref[:,umat_dir[0]],svars_ref[:,umat_dir[0]],\n",
    "         color='darkorange',\n",
    "         alpha=1,linewidth=2, marker='s',markersize=0,label='ref')\n",
    "\n",
    "plt.xlabel(\"$\\\\varepsilon_{11}$\")\n",
    "plt.ylabel(\"$z_{11}$\")\n",
    "plt.legend()\n",
    "plt.show()"
   ]
  },
  {
   "cell_type": "markdown",
   "id": "refined-dressing",
   "metadata": {},
   "source": [
    "Plot the stress vs strain history as predicted by the model and compare it with the one of the reference model"
   ]
  },
  {
   "cell_type": "code",
   "execution_count": null,
   "id": "analyzed-preview",
   "metadata": {},
   "outputs": [],
   "source": [
    "plt.plot(strain_ref[:,umat_dir[0]],stress_ref[:,umat_dir[0]],\n",
    "         color='red',\n",
    "         alpha=1,linewidth=1, marker='s',markersize=2,label='ref')\n",
    "\n",
    "plt.xlabel(\"$\\\\varepsilon_{11}$\")\n",
    "plt.ylabel(\"$\\sigma_{11}=\\partial_{\\\\varepsilon_{11}} NN(\\\\varepsilon)$\")\n",
    "plt.legend()\n",
    "plt.show()\n"
   ]
  },
  {
   "cell_type": "markdown",
   "id": "portuguese-sweden",
   "metadata": {},
   "source": [
    "Solution"
   ]
  },
  {
   "cell_type": "code",
   "execution_count": null,
   "id": "academic-engine",
   "metadata": {},
   "outputs": [],
   "source": [
    "plt.plot(h_strain[:,umat_dir[0]],h_svars[:,umat_dir[0]],\n",
    "         color = 'darkblue',\n",
    "         alpha=1,linewidth=1, marker='o',markersize=4,label='TANN')\n",
    "\n",
    "plt.plot(strain_ref[:,umat_dir[0]],svars_ref[:,umat_dir[0]],\n",
    "         color='darkorange',\n",
    "         alpha=1,linewidth=2, marker='s',markersize=0,label='ref')\n",
    "\n",
    "plt.xlabel(\"$\\\\varepsilon_{11}$\")\n",
    "plt.ylabel(\"$z_{11}$\")\n",
    "plt.legend()\n",
    "plt.show()"
   ]
  },
  {
   "cell_type": "code",
   "execution_count": null,
   "id": "optical-franchise",
   "metadata": {},
   "outputs": [],
   "source": [
    "plt.plot(h_strain[:,umat_dir[0]],h_stress[:,umat_dir[0]],\n",
    "         alpha=1,linewidth=1, marker='o',markersize=5,label='TANN')\n",
    "\n",
    "plt.plot(strain_ref[:,umat_dir[0]],stress_ref[:,umat_dir[0]],\n",
    "         color='red',\n",
    "         alpha=1,linewidth=1, marker='s',markersize=2,label='ref')\n",
    "\n",
    "plt.xlabel(\"$\\\\varepsilon_{11}$\")\n",
    "plt.ylabel(\"$\\sigma_{11}=\\partial_{\\\\varepsilon_{11}} NN(\\\\varepsilon)$\")\n",
    "plt.legend()\n",
    "plt.show()"
   ]
  },
  {
   "cell_type": "markdown",
   "id": "exceptional-worcester",
   "metadata": {},
   "source": [
    "### Inference - loading path (2)\n",
    "Make predictions of the constitutive response under a simple shear loading path (direction 12) using the trained model. The loading path is predefined (see 1. Loading path). Use the function that you implemented above."
   ]
  },
  {
   "cell_type": "markdown",
   "id": "hindu-butter",
   "metadata": {},
   "source": [
    "#### 1. Loading path"
   ]
  },
  {
   "cell_type": "code",
   "execution_count": null,
   "id": "frequent-watts",
   "metadata": {},
   "outputs": [],
   "source": [
    "increments = 600\n",
    "\n",
    "# Specify loading direction (-1 = {}_12)\n",
    "umat_dir = -1\n",
    "\n",
    "# Strain increment\n",
    "de = 2e-4\n",
    "\n",
    "# Strain increment tensor (Voigt)\n",
    "dstrain = np.zeros((increments,umat_dim))\n",
    "dstrain[:increments,umat_dir] = 2*de*np.ones((increments))"
   ]
  },
  {
   "cell_type": "markdown",
   "id": "legendary-virginia",
   "metadata": {},
   "source": [
    "#### 2. Make predictions"
   ]
  },
  {
   "cell_type": "code",
   "execution_count": null,
   "id": "enclosed-michael",
   "metadata": {},
   "outputs": [],
   "source": [
    "h_strain,h_svars,h_stress = ???"
   ]
  },
  {
   "cell_type": "markdown",
   "id": "pharmaceutical-sponsorship",
   "metadata": {},
   "source": [
    "#### 3. Import reference model solution"
   ]
  },
  {
   "cell_type": "code",
   "execution_count": null,
   "id": "dense-alcohol",
   "metadata": {},
   "outputs": [],
   "source": [
    "file = './data/3D_PlaneStrain_VonMises_CSMA_inference_shear'\n",
    "with open(file, 'rb') as f_obj:\n",
    "    data = pickle.load(f_obj)\n",
    "strain_ref,svars_ref,stress_ref,energy_ref,dissipationDot_ref = data"
   ]
  },
  {
   "cell_type": "markdown",
   "id": "million-authorization",
   "metadata": {},
   "source": [
    "#### 4. Compare results"
   ]
  },
  {
   "cell_type": "code",
   "execution_count": null,
   "id": "blessed-maldives",
   "metadata": {},
   "outputs": [],
   "source": [
    "plt.plot(hstrain[:,umat_dir],\n",
    "         hsvars[:,umat_dir],\n",
    "         color = 'blue',\n",
    "         alpha=1,linewidth=1, marker='o',markersize=4,label='TANN')\n",
    "plt.plot(strain_ref[:,umat_dir],\n",
    "         svars_ref[:,umat_dir],\n",
    "         color='red',\n",
    "         alpha=1,linewidth=1, marker='s',markersize=2,label='ref')\n",
    "plt.xlabel(\"$\\\\varepsilon_{12}$\")\n",
    "plt.ylabel(\"$z_{12}$\")\n",
    "plt.legend()\n",
    "plt.show()"
   ]
  },
  {
   "cell_type": "code",
   "execution_count": null,
   "id": "competent-forestry",
   "metadata": {},
   "outputs": [],
   "source": [
    "plt.plot(hstrain[:,umat_dir],\n",
    "         hstress[:,umat_dir],\n",
    "         alpha=1,linewidth=1, marker='o',markersize=4,label='TANN')\n",
    "plt.plot(strain_ref[:,umat_dir],\n",
    "         stress_ref[:,umat_dir],\n",
    "         color='red',\n",
    "         alpha=1,linewidth=2, marker='s',markersize=0,label='ref')\n",
    "plt.xlabel(\"$\\\\varepsilon_{12}$\")\n",
    "plt.ylabel(\"$\\sigma_{12}=\\partial_{\\\\varepsilon_{12}} NN(\\\\varepsilon)$\")\n",
    "plt.legend()\n",
    "plt.show()\n"
   ]
  },
  {
   "cell_type": "code",
   "execution_count": null,
   "id": "transsexual-table",
   "metadata": {},
   "outputs": [],
   "source": []
  }
 ],
 "metadata": {
  "kernelspec": {
   "display_name": "Python 3",
   "language": "python",
   "name": "python3"
  },
  "language_info": {
   "codemirror_mode": {
    "name": "ipython",
    "version": 3
   },
   "file_extension": ".py",
   "mimetype": "text/x-python",
   "name": "python",
   "nbconvert_exporter": "python",
   "pygments_lexer": "ipython3",
   "version": "3.8.10"
  }
 },
 "nbformat": 4,
 "nbformat_minor": 5
}
