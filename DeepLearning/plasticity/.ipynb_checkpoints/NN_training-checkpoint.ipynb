{
 "cells": [
  {
   "cell_type": "markdown",
   "id": "ecc17aa0-63b0-4f34-a367-2e32fa5dd74d",
   "metadata": {},
   "source": [
    "### Import libraries\n",
    "\n",
    "Import libraries, set parameters, and import classes"
   ]
  },
  {
   "cell_type": "code",
   "execution_count": null,
   "id": "b544aa76-6a61-45e4-b54f-1aecd45a5f39",
   "metadata": {},
   "outputs": [],
   "source": [
    "import numpy as np\n",
    "import tensorflow as tf\n",
    "import pickle\n",
    "np.random.seed(1)\n",
    "tf.random.set_seed(1)\n",
    "tf.keras.backend.set_floatx('float32')\n",
    "\n",
    "import matplotlib.pyplot as plt\n",
    "plt.rcParams[\"figure.figsize\"] = (3,3)\n",
    "plt.rcParams.update({\n",
    "    \"text.usetex\": True,\n",
    "    \"font.family\": \"sans-serif\",\n",
    "    \"font.sans-serif\": [\"DejaVu Sans\"]})\n",
    "plt.rcParams.update({'font.size': 13})"
   ]
  },
  {
   "cell_type": "code",
   "execution_count": null,
   "id": "ordinary-somewhere",
   "metadata": {},
   "outputs": [],
   "source": [
    "from __lib__.NN_class import NeuralNetwork\n",
    "from __lib__.DataProcessing import PreProcessing"
   ]
  },
  {
   "cell_type": "markdown",
   "id": "d4bb0717-1e30-424b-8e3d-fa2e0d9d85d9",
   "metadata": {},
   "source": [
    "### Import datasets and pre-processing"
   ]
  },
  {
   "cell_type": "code",
   "execution_count": null,
   "id": "yellow-boards",
   "metadata": {},
   "outputs": [],
   "source": [
    "file = './data/3D_PlaneStrain_VonMises_CSMA'\n",
    "training_percentage = 0.6"
   ]
  },
  {
   "cell_type": "code",
   "execution_count": null,
   "id": "improved-taylor",
   "metadata": {},
   "outputs": [],
   "source": [
    "with open(file, 'rb') as f_obj:\n",
    "    data = pickle.load(f_obj)\n",
    "\n",
    "strain,strainDot,svars,svarsDot,stress,energy,dissipationDot = data\n",
    "\n",
    "del data\n"
   ]
  },
  {
   "cell_type": "markdown",
   "id": "external-nicaragua",
   "metadata": {},
   "source": [
    "##### Split datasets  (tv=training+validation - test)"
   ]
  },
  {
   "cell_type": "code",
   "execution_count": null,
   "id": "sensitive-police",
   "metadata": {},
   "outputs": [],
   "source": [
    "PreProcessing = PreProcessing(training_percentage)\n",
    "train_p,val_p,test_p = PreProcessing.split_dataset(strain,percentage=True)\n",
    "\n",
    "print('# samples:', train_p+val_p+test_p,\n",
    "      '\\n# training:', train_p,\n",
    "      '\\n# validation:', val_p,\n",
    "      '\\n# test:', test_p)"
   ]
  },
  {
   "cell_type": "code",
   "execution_count": null,
   "id": "dynamic-criticism",
   "metadata": {},
   "outputs": [],
   "source": [
    "strain_tv,strain_test = PreProcessing.split_dataset(strain)\n",
    "strainDot_tv,strainDot_test = PreProcessing.split_dataset(strainDot)\n",
    "svars_tv,svars_test = PreProcessing.split_dataset(svars)\n",
    "svarsDot_tv,svarsDot_test = PreProcessing.split_dataset(svarsDot)\n",
    "stress_tv,stress_test = PreProcessing.split_dataset(stress)"
   ]
  },
  {
   "cell_type": "markdown",
   "id": "personalized-proposal",
   "metadata": {},
   "source": [
    "##### Get normalization parameters"
   ]
  },
  {
   "cell_type": "code",
   "execution_count": null,
   "id": "worse-charger",
   "metadata": {},
   "outputs": [],
   "source": [
    "# Use simply the code you programmed previously for the elastic case"
   ]
  },
  {
   "cell_type": "code",
   "execution_count": null,
   "id": "growing-whole",
   "metadata": {},
   "outputs": [],
   "source": [
    "# Or:\n",
    "# prm_E = PreProcessing.GetParams(strain_tv,normalize=True)\n",
    "# prm_EDot = PreProcessing.GetParams(strainDot_tv,normalize=True)\n",
    "# prm_Z = PreProcessing.GetParams(svars_tv,normalize=True)\n",
    "# prm_ZDot = PreProcessing.GetParams(svarsDot_tv,normalize=True)\n",
    "# prm_S = PreProcessing.GetParams(stress_tv,normalize=False)"
   ]
  },
  {
   "cell_type": "markdown",
   "id": "liable-finnish",
   "metadata": {},
   "source": [
    "##### Normalize datasets"
   ]
  },
  {
   "cell_type": "code",
   "execution_count": null,
   "id": "featured-going",
   "metadata": {},
   "outputs": [],
   "source": [
    "# Training and validation datasets\n",
    "\n",
    "__strain_tv,__strain_test = PreProcessing.Normalize(\n",
    "    [strain_tv,strain_test],prm_E,train_val=True)\n",
    "__strainDot_tv,__strainDot_test = PreProcessing.Normalize(\n",
    "    [strainDot_tv,strainDot_test],prm_EDot,train_val=True)\n",
    "__svars_tv,__svars_test = PreProcessing.Normalize(\n",
    "    [svars_tv,svars_test],prm_Z,train_val=True)\n",
    "__svarsDot_tv,__svarsDot_test = PreProcessing.Normalize(\n",
    "    [svarsDot_tv,svarsDot_test],prm_ZDot,train_val=True)\n",
    "__stress_tv,__stress_test = PreProcessing.Normalize(\n",
    "    [stress_tv,stress_test],prm_S,train_val=True)\n",
    "\n"
   ]
  },
  {
   "cell_type": "markdown",
   "id": "447c12d5-4e80-4b0e-a7b4-b17c51c579d3",
   "metadata": {},
   "source": [
    "### Neural Networks"
   ]
  },
  {
   "cell_type": "markdown",
   "id": "isolated-packaging",
   "metadata": {},
   "source": [
    "#### Build network"
   ]
  },
  {
   "cell_type": "code",
   "execution_count": null,
   "id": "15cb04d6-e7eb-4f11-83ae-d944b0372386",
   "metadata": {},
   "outputs": [],
   "source": [
    "umat_dim = 4 # dimensional space\n",
    "\n",
    "hidden_NN_Stress = 3 # number of hidden layers in NN Evolution\n",
    "hidden_NN_Evolution = 3\n",
    "material = 'inelastic'\n",
    "\n",
    "Nnet = NeuralNetwork(umat_dim,\n",
    "                     material,\n",
    "                     hidden_NN_Stress,\n",
    "                     activation_NN_Stress='leaky_relu',\n",
    "                     hidden_NN_Evolution = hidden_NN_Evolution,\n",
    "                     activation_NN_Evolution='leaky_relu',\n",
    "                    ) # Initialize TANN class\n",
    "\n",
    "\n",
    "params = [prm_E,prm_S,prm_Z,prm_EDot,prm_ZDot] # regroup normalization parameters\n",
    "\n",
    "Nnet.SetParams(params) # set normalization parameters in the model\n",
    "\n",
    "# build TF model class\n",
    "input_shape = [[None,umat_dim],[None,umat_dim],[None,umat_dim]]\n",
    "Nnet.build(input_shape)\n",
    "\n",
    "# print model's summary\n",
    "print(Nnet.summary())"
   ]
  },
  {
   "cell_type": "markdown",
   "id": "apart-theology",
   "metadata": {},
   "source": [
    "#### Define inputs and outputs"
   ]
  },
  {
   "cell_type": "code",
   "execution_count": null,
   "id": "sound-sponsorship",
   "metadata": {},
   "outputs": [],
   "source": [
    "output_tv = [__svarsDot_tv,__stress_tv]\n",
    "\n",
    "output_test = [__svarsDot_test,__stress_test]\n",
    "\n",
    "input_tv = [__svars_tv,__strain_tv,__strainDot_tv]\n",
    "\n",
    "input_test = [__svars_test,__strain_test,__strainDot_test]"
   ]
  },
  {
   "cell_type": "markdown",
   "id": "sonic-sunrise",
   "metadata": {},
   "source": [
    "#### Compile and train the network"
   ]
  },
  {
   "cell_type": "code",
   "execution_count": null,
   "id": "protecting-chamber",
   "metadata": {
    "scrolled": true
   },
   "outputs": [],
   "source": [
    "Nnet.compileNet()\n",
    "\n",
    "callbacks_list = [tf.keras.callbacks.EarlyStopping(monitor ='val_loss',min_delta = 1.e-6,\n",
    "                                                   patience = 200, verbose = 0, mode = 'min',\n",
    "                                                   baseline = None,restore_best_weights = True)]\n",
    "\n",
    "hist_Nnet = Nnet.fit(input_tv,output_tv,\n",
    "                     epochs = 1500,\n",
    "                     validation_split=0.2,\n",
    "                     batch_size = 200,\n",
    "                     verbose = 2,\n",
    "                     use_multiprocessing=True,\n",
    "                     callbacks = callbacks_list,)"
   ]
  },
  {
   "cell_type": "markdown",
   "id": "exceptional-miniature",
   "metadata": {},
   "source": [
    "#### Evaluate losses"
   ]
  },
  {
   "cell_type": "code",
   "execution_count": null,
   "id": "burning-reading",
   "metadata": {},
   "outputs": [],
   "source": [
    "print('Evaluate loss for training and validation datasets:'); Nnet.evaluate(input_tv,output_tv,verbose=2)\n",
    "print('\\nEvaluate loss for test datasets:'); Nnet.evaluate(input_test,output_test,verbose=2)\n",
    "\n",
    "\n",
    "svarsDot_loss = np.asarray(hist_Nnet.history['output_1_loss'])\n",
    "svarsDot_val_loss = np.asarray(hist_Nnet.history['val_output_1_loss'])\n",
    "stress_loss = np.asarray(hist_Nnet.history['output_2_loss'])\n",
    "stress_val_loss = np.asarray(hist_Nnet.history['val_output_2_loss'])\n",
    "epochs = range(1, len(stress_loss) + 1)"
   ]
  },
  {
   "cell_type": "markdown",
   "id": "frank-planet",
   "metadata": {},
   "source": [
    "#### Plot training curves"
   ]
  },
  {
   "cell_type": "code",
   "execution_count": null,
   "id": "numerical-reception",
   "metadata": {
    "scrolled": true,
    "tags": []
   },
   "outputs": [],
   "source": [
    "fig, ax = plt.subplots(1)\n",
    "ax.loglog(epochs, svarsDot_loss, color='red', label='$\\dot{z}$', linewidth=2, marker='o',markersize=0)\n",
    "ax.loglog(epochs, svarsDot_val_loss, color='red', alpha=0.5,  linewidth=2, marker='o',markersize=0)\n",
    "\n",
    "ax.loglog(epochs, stress_loss, color='black', label='$\\sigma$', linewidth=2, marker='o',markersize=0)\n",
    "ax.loglog(epochs, stress_val_loss, color='black', alpha=0.5,  linewidth=2, marker='o',markersize=0)\n",
    "\n",
    "\n",
    "ax.set_xlabel('epochs')\n",
    "ax.set_ylabel('Mean Absolute Error')\n",
    "ax.legend(loc='best')\n",
    "ax.grid()\n",
    "ax.set_ylim(1e-7,1)"
   ]
  },
  {
   "cell_type": "markdown",
   "id": "laden-tuner",
   "metadata": {},
   "source": [
    "#### Predictions for the entire batch"
   ]
  },
  {
   "cell_type": "code",
   "execution_count": null,
   "id": "cardiovascular-cleveland",
   "metadata": {},
   "outputs": [],
   "source": [
    "pred__svarsDot,pred__stress=Nnet.predict(input_test)\n",
    "\n",
    "# Plot stress\n",
    "plt.plot(__stress_test,pred__stress,\n",
    "         alpha=0.3,linewidth=0, marker='o',markersize=5)\n",
    "plt.xlabel(\"$\\sigma$\")\n",
    "plt.ylabel(\"$\\sigma=NN(\\\\varepsilon)$\")\n",
    "plt.show()\n",
    "\n",
    "# Plot internal variable\n",
    "plt.plot(__svarsDot_test,\n",
    "         pred__svarsDot,\n",
    "         alpha=0.3,linewidth=0, marker='o',markersize=5)\n",
    "plt.xlabel(\"$\\sigma$\")\n",
    "plt.ylabel(\"$\\sigma=\\partial_{\\\\varepsilon} NN_{\\psi}(\\\\varepsilon)$\")\n",
    "plt.show()"
   ]
  },
  {
   "cell_type": "markdown",
   "id": "placed-helena",
   "metadata": {},
   "source": [
    "### Save model"
   ]
  },
  {
   "cell_type": "code",
   "execution_count": null,
   "id": "blind-vienna",
   "metadata": {},
   "outputs": [],
   "source": [
    "# filename = './results/NN_VonMises'\n",
    "# Nnet.save_export(filename)"
   ]
  },
  {
   "cell_type": "code",
   "execution_count": null,
   "id": "strategic-moral",
   "metadata": {},
   "outputs": [],
   "source": []
  }
 ],
 "metadata": {
  "kernelspec": {
   "display_name": "Python 3",
   "language": "python",
   "name": "python3"
  },
  "language_info": {
   "codemirror_mode": {
    "name": "ipython",
    "version": 3
   },
   "file_extension": ".py",
   "mimetype": "text/x-python",
   "name": "python",
   "nbconvert_exporter": "python",
   "pygments_lexer": "ipython3",
   "version": "3.8.10"
  }
 },
 "nbformat": 4,
 "nbformat_minor": 5
}
