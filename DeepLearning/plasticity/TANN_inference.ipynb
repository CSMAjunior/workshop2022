{
 "cells": [
  {
   "cell_type": "markdown",
   "source": "### Import libraries\nImport libraries, set parameters, and import classes",
   "metadata": {
    "cell_id": "998af755-aa44-4af0-935e-56b0b38bc72b",
    "deepnote_cell_type": "markdown",
    "deepnote_cell_height": 100
   }
  },
  {
   "cell_type": "code",
   "metadata": {
    "cell_id": "00001-8c184034-58a9-4c94-8237-5db85e0e0b16",
    "owner_user_id": "5bb91923-5f7e-4fe6-8d4b-271ce2a72b9f",
    "deepnote_cell_type": "code",
    "deepnote_cell_height": 156
   },
   "source": "import numpy as np\nimport tensorflow as tf\nimport pickle\nnp.random.seed(1)\ntf.random.set_seed(1)\ntf.keras.backend.set_floatx('float32')\n\nimport matplotlib.pyplot as plt\nplt.rcParams[\"figure.figsize\"] = (3,3)\nplt.rcParams.update({'font.size': 13})",
   "execution_count": null,
   "outputs": []
  },
  {
   "cell_type": "code",
   "metadata": {
    "cell_id": "00002-9cf3cdd5-4434-4353-a858-8a1bb827e6ec",
    "deepnote_cell_type": "code",
    "deepnote_cell_height": 84
   },
   "source": "from __lib__.TANN_class import TANN\nfrom __lib__.DataProcessing import PreProcessing",
   "execution_count": null,
   "outputs": []
  },
  {
   "cell_type": "markdown",
   "source": "### Thermodynamics-based Artificial Neural Networks\n\nImport trained model by specifying the file (filename) of the saved weights and the architecture.\nThe function import_compile(filename,input_shape) performs a check of the defined parameters wrt the saved model",
   "metadata": {
    "cell_id": "00003-b1f0bf5b-c04c-403f-8eca-1613877b3a2b",
    "deepnote_cell_type": "markdown",
    "deepnote_cell_height": 122
   }
  },
  {
   "cell_type": "code",
   "metadata": {
    "cell_id": "00004-bd32652e-58b8-4b44-9ba9-124a42e97ceb",
    "deepnote_cell_type": "code",
    "deepnote_cell_height": 462
   },
   "source": "filename = './results/TANN_VonMises'\n\numat_dim = 4 # dimensional space\n\nhidden_NN_Energy = 4 # number hidden layers in NN Energy\nhidden_NN_Evolution = 3 # number of hidden layers in NN Evolution\nmaterial = 'inelastic'\n\nTANNnet = TANN(umat_dim,\n               material,\n               hidden_NN_Energy,\n               activation_NN_Energy='fast_gelu',\n               hidden_NN_Evolution = hidden_NN_Evolution,\n               activation_NN_Evolution = 'leaky_relu') # Initialize TANN class\n\n\n# build model class\ninput_shape = [[None,umat_dim],[None,umat_dim],[None,umat_dim]]\nTANNnet.build(input_shape)\n\n# Compile model and import weights\nTANNnet.import_compile(filename,input_shape)\nTANNnet.summary()",
   "execution_count": null,
   "outputs": []
  },
  {
   "cell_type": "markdown",
   "source": "### Inference - loading path (1)\n\nMake predictions of the constitutive response under a biaxial loading path using the trained model. The loading path is predefined (see below), but you have to implement a function that call the trained model and make predictions.\n\nNote. All quantities should be dimensional (not normalized)",
   "metadata": {
    "cell_id": "00005-3925286a-da26-4364-866e-37b84f438f75",
    "deepnote_cell_type": "markdown",
    "deepnote_cell_height": 158
   }
  },
  {
   "cell_type": "code",
   "metadata": {
    "scrolled": true,
    "cell_id": "00006-1e773fd3-8008-400b-8757-4cd2bb3e3b8f",
    "deepnote_cell_type": "code",
    "deepnote_cell_height": 354
   },
   "source": "# Specify total number of increments and sub-increments (cylic loading)\nincrements = 30*5\nsub_increments = increments//5\n\n# Specify loading direction (0 = {}_11, 1 = {}_22)\numat_dir = [0,1]\n\n# Specify strain increment magnitude\nde = 2e-4\n\n# Strain increment tensor (Voigt)\ndstrain = np.zeros((increments,umat_dim))\ndstrain[:sub_increments,umat_dir[0]] = de*np.ones((sub_increments))\ndstrain[sub_increments:3*sub_increments,umat_dir[0]] = -de*np.ones((2*sub_increments))\ndstrain[3*sub_increments:,umat_dir[0]] = de*np.ones((2*sub_increments))\n\ndstrain[:,umat_dir[1]]=-dstrain[:,umat_dir[0]]",
   "execution_count": null,
   "outputs": []
  },
  {
   "cell_type": "markdown",
   "source": "#### 1. Make predictions\n\nHere goes your function to predict the stress and internal variables deriving from the deformation path specified by dstrain (see 3.1)",
   "metadata": {
    "cell_id": "00007-59e5a14f-6566-4e8a-a680-054e84160528",
    "deepnote_cell_type": "markdown",
    "deepnote_cell_height": 110
   }
  },
  {
   "cell_type": "code",
   "metadata": {
    "cell_id": "00008-1ed60a2a-74d8-48df-bc40-9d9e037d2258",
    "deepnote_cell_type": "code",
    "deepnote_cell_height": 66
   },
   "source": "h_strain,h_svars,h_stress = ???",
   "execution_count": null,
   "outputs": []
  },
  {
   "cell_type": "markdown",
   "source": "#### 2. Import reference model solution",
   "metadata": {
    "cell_id": "00009-13653045-af9a-4a34-be12-308934c8f2f9",
    "deepnote_cell_type": "markdown",
    "deepnote_cell_height": 54
   }
  },
  {
   "cell_type": "code",
   "metadata": {
    "cell_id": "00010-aaf8a278-e9e3-4a8b-8365-957d488854b7",
    "deepnote_cell_type": "code",
    "deepnote_cell_height": 138
   },
   "source": "file = './data/3D_PlaneStrain_VonMises_CSMA_inference_biaxial'\nwith open(file, 'rb') as f_obj:\n    data = pickle.load(f_obj)\n\nstrain_ref,svars_ref,stress_ref,energy_ref,dissipationDot_ref = data",
   "execution_count": null,
   "outputs": []
  },
  {
   "cell_type": "markdown",
   "source": "#### 3. Compare results\n\nPlot the internal variables vs strain history as predicted by the model and compare it with the one of the reference model",
   "metadata": {
    "cell_id": "00011-3d11a7e0-a781-4614-928a-fa89fe63cd43",
    "deepnote_cell_type": "markdown",
    "deepnote_cell_height": 88
   }
  },
  {
   "cell_type": "code",
   "metadata": {
    "cell_id": "00012-c678b7e3-0ee2-4b5f-9b13-c70a9daf4d40",
    "deepnote_cell_type": "code",
    "deepnote_cell_height": 192
   },
   "source": "plt.plot(strain_ref[:,umat_dir[0]],svars_ref[:,umat_dir[0]],\n         color='darkorange',\n         alpha=1,linewidth=2, marker='s',markersize=0,label='ref')\n\nplt.xlabel(\"$\\\\varepsilon_{11}$\")\nplt.ylabel(\"$z_{11}$\")\nplt.legend()\nplt.show()",
   "execution_count": null,
   "outputs": []
  },
  {
   "cell_type": "markdown",
   "source": "Plot the stress vs strain history as predicted by the model and compare it with the one of the reference model",
   "metadata": {
    "cell_id": "00013-435b49b5-066c-411d-8e43-ff2f7a7c4209",
    "deepnote_cell_type": "markdown",
    "deepnote_cell_height": 52
   }
  },
  {
   "cell_type": "code",
   "metadata": {
    "cell_id": "00014-713f9d62-8ef6-4443-8c8d-34b358afa097",
    "deepnote_cell_type": "code",
    "deepnote_cell_height": 210
   },
   "source": "plt.plot(strain_ref[:,umat_dir[0]],stress_ref[:,umat_dir[0]],\n         color='red',\n         alpha=1,linewidth=1, marker='s',markersize=2,label='ref')\n\nplt.xlabel(\"$\\\\varepsilon_{11}$\")\nplt.ylabel(\"$\\sigma_{11}=\\partial_{\\\\varepsilon_{11}} NN(\\\\varepsilon)$\")\nplt.legend()\nplt.show()\n",
   "execution_count": null,
   "outputs": []
  },
  {
   "cell_type": "markdown",
   "source": "Solution",
   "metadata": {
    "cell_id": "00015-2aec4a64-3264-4951-ba7b-ceeb552d1059",
    "deepnote_cell_type": "markdown",
    "deepnote_cell_height": 52
   }
  },
  {
   "cell_type": "code",
   "metadata": {
    "cell_id": "00016-724642d9-d115-4b7e-8d90-794f1698ade2",
    "deepnote_cell_type": "code",
    "deepnote_cell_height": 264
   },
   "source": "plt.plot(h_strain[:,umat_dir[0]],h_svars[:,umat_dir[0]],\n         color = 'darkblue',\n         alpha=1,linewidth=1, marker='o',markersize=4,label='TANN')\n\nplt.plot(strain_ref[:,umat_dir[0]],svars_ref[:,umat_dir[0]],\n         color='darkorange',\n         alpha=1,linewidth=2, marker='s',markersize=0,label='ref')\n\nplt.xlabel(\"$\\\\varepsilon_{11}$\")\nplt.ylabel(\"$z_{11}$\")\nplt.legend()\nplt.show()",
   "execution_count": null,
   "outputs": []
  },
  {
   "cell_type": "code",
   "metadata": {
    "cell_id": "00017-10ec9c27-f843-4398-bf32-fec7c98647cf",
    "deepnote_cell_type": "code",
    "deepnote_cell_height": 246
   },
   "source": "plt.plot(h_strain[:,umat_dir[0]],h_stress[:,umat_dir[0]],\n         alpha=1,linewidth=1, marker='o',markersize=5,label='TANN')\n\nplt.plot(strain_ref[:,umat_dir[0]],stress_ref[:,umat_dir[0]],\n         color='red',\n         alpha=1,linewidth=1, marker='s',markersize=2,label='ref')\n\nplt.xlabel(\"$\\\\varepsilon_{11}$\")\nplt.ylabel(\"$\\sigma_{11}=\\partial_{\\\\varepsilon_{11}} NN(\\\\varepsilon)$\")\nplt.legend()\nplt.show()",
   "execution_count": null,
   "outputs": []
  },
  {
   "cell_type": "markdown",
   "source": "### Inference - loading path (2)\nMake predictions of the constitutive response under a simple shear loading path (direction 12) using the trained model. The loading path is predefined (see 1. Loading path). Use the function that you implemented above.",
   "metadata": {
    "cell_id": "00018-2cbade4d-c618-463e-a78a-86a9e04c031e",
    "deepnote_cell_type": "markdown",
    "deepnote_cell_height": 122
   }
  },
  {
   "cell_type": "markdown",
   "source": "#### 1. Loading path",
   "metadata": {
    "cell_id": "00019-8742a86e-4fb1-4530-a998-103420e70509",
    "deepnote_cell_type": "markdown",
    "deepnote_cell_height": 54
   }
  },
  {
   "cell_type": "code",
   "metadata": {
    "cell_id": "00020-4c352360-8ca2-4d05-abcf-ac213fabcace",
    "deepnote_cell_type": "code",
    "deepnote_cell_height": 246
   },
   "source": "increments = 600\n\n# Specify loading direction (-1 = {}_12)\numat_dir = -1\n\n# Strain increment\nde = 2e-4\n\n# Strain increment tensor (Voigt)\ndstrain = np.zeros((increments,umat_dim))\ndstrain[:increments,umat_dir] = 2*de*np.ones((increments))",
   "execution_count": null,
   "outputs": []
  },
  {
   "cell_type": "markdown",
   "source": "#### 2. Make predictions",
   "metadata": {
    "cell_id": "00021-4c9d95a5-8e22-4ff4-a59c-39c81d1d07e6",
    "deepnote_cell_type": "markdown",
    "deepnote_cell_height": 54
   }
  },
  {
   "cell_type": "code",
   "metadata": {
    "cell_id": "00022-fa1516f4-be74-4567-8bcf-5331aeac67b9",
    "deepnote_cell_type": "code",
    "deepnote_cell_height": 66
   },
   "source": "h_strain,h_svars,h_stress = ???",
   "execution_count": null,
   "outputs": []
  },
  {
   "cell_type": "markdown",
   "source": "#### 3. Import reference model solution",
   "metadata": {
    "cell_id": "00023-7e8a39cc-3808-4052-819d-a3b327ed33c5",
    "deepnote_cell_type": "markdown",
    "deepnote_cell_height": 54
   }
  },
  {
   "cell_type": "code",
   "metadata": {
    "cell_id": "00024-480045f8-f0e8-4740-bdb6-f1a67e89f26e",
    "deepnote_cell_type": "code",
    "deepnote_cell_height": 120
   },
   "source": "file = './data/3D_PlaneStrain_VonMises_CSMA_inference_shear'\nwith open(file, 'rb') as f_obj:\n    data = pickle.load(f_obj)\nstrain_ref,svars_ref,stress_ref,energy_ref,dissipationDot_ref = data",
   "execution_count": null,
   "outputs": []
  },
  {
   "cell_type": "markdown",
   "source": "#### 4. Compare results",
   "metadata": {
    "cell_id": "00025-4887dfeb-a2d1-4908-95e2-02f90d1c7001",
    "deepnote_cell_type": "markdown",
    "deepnote_cell_height": 54
   }
  },
  {
   "cell_type": "code",
   "metadata": {
    "cell_id": "00026-bf0e2eff-c002-40b3-b90f-28fd2e7c1f5d",
    "deepnote_cell_type": "code",
    "deepnote_cell_height": 264
   },
   "source": "plt.plot(hstrain[:,umat_dir],\n         hsvars[:,umat_dir],\n         color = 'blue',\n         alpha=1,linewidth=1, marker='o',markersize=4,label='TANN')\nplt.plot(strain_ref[:,umat_dir],\n         svars_ref[:,umat_dir],\n         color='red',\n         alpha=1,linewidth=1, marker='s',markersize=2,label='ref')\nplt.xlabel(\"$\\\\varepsilon_{12}$\")\nplt.ylabel(\"$z_{12}$\")\nplt.legend()\nplt.show()",
   "execution_count": null,
   "outputs": []
  },
  {
   "cell_type": "code",
   "metadata": {
    "cell_id": "00027-b6693908-2552-4e96-8f0a-5e694f73ef08",
    "deepnote_cell_type": "code",
    "deepnote_cell_height": 264
   },
   "source": "plt.plot(hstrain[:,umat_dir],\n         hstress[:,umat_dir],\n         alpha=1,linewidth=1, marker='o',markersize=4,label='TANN')\nplt.plot(strain_ref[:,umat_dir],\n         stress_ref[:,umat_dir],\n         color='red',\n         alpha=1,linewidth=2, marker='s',markersize=0,label='ref')\nplt.xlabel(\"$\\\\varepsilon_{12}$\")\nplt.ylabel(\"$\\sigma_{12}=\\partial_{\\\\varepsilon_{12}} NN(\\\\varepsilon)$\")\nplt.legend()\nplt.show()\n",
   "execution_count": null,
   "outputs": []
  },
  {
   "cell_type": "code",
   "metadata": {
    "cell_id": "00028-c12b0448-c885-4a8f-8ce6-ad770245ae75",
    "deepnote_cell_type": "code",
    "deepnote_cell_height": 66
   },
   "source": "",
   "execution_count": null,
   "outputs": []
  },
  {
   "cell_type": "markdown",
   "source": "<a style='text-decoration:none;line-height:16px;display:flex;color:#5B5B62;padding:10px;justify-content:end;' href='https://deepnote.com?utm_source=created-in-deepnote-cell&projectId=b33f54f1-f98d-4fed-99c0-2484f115edd9' target=\"_blank\">\n<img alt='Created in deepnote.com' style='display:inline;max-height:16px;margin:0px;margin-right:7.5px;' src='data:image/svg+xml;base64,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' > </img>\nCreated in <span style='font-weight:600;margin-left:4px;'>Deepnote</span></a>",
   "metadata": {
    "tags": [],
    "created_in_deepnote_cell": true,
    "deepnote_cell_type": "markdown"
   }
  }
 ],
 "nbformat": 4,
 "nbformat_minor": 5,
 "metadata": {
  "kernelspec": {
   "display_name": "Python 3",
   "language": "python",
   "name": "python3"
  },
  "language_info": {
   "codemirror_mode": {
    "name": "ipython",
    "version": 3
   },
   "file_extension": ".py",
   "mimetype": "text/x-python",
   "name": "python",
   "nbconvert_exporter": "python",
   "pygments_lexer": "ipython3",
   "version": "3.8.10"
  },
  "deepnote_notebook_id": "74343f36-01b7-484c-9b61-540669116a93",
  "deepnote": {},
  "deepnote_execution_queue": []
 }
}