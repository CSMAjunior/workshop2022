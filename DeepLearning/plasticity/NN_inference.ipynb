{
 "cells": [
  {
   "cell_type": "markdown",
   "source": "### Import libraries\n\nImport libraries, set parameters, and import classes",
   "metadata": {
    "cell_id": "7e2a4b47-b3b1-4a34-95df-cddaff7f931b",
    "deepnote_cell_type": "markdown",
    "deepnote_cell_height": 100
   }
  },
  {
   "cell_type": "code",
   "metadata": {
    "cell_id": "00001-b0054e29-f287-49e6-a18f-1dca2885f91e",
    "owner_user_id": "5bb91923-5f7e-4fe6-8d4b-271ce2a72b9f",
    "deepnote_cell_type": "code",
    "deepnote_cell_height": 228
   },
   "source": "import numpy as np\nimport tensorflow as tf\nimport pickle\nnp.random.seed(1)\ntf.random.set_seed(1)\ntf.keras.backend.set_floatx('float32')\n\nimport matplotlib.pyplot as plt\nplt.rcParams[\"figure.figsize\"] = (3,3)\nplt.rcParams.update({'font.size': 13})",
   "execution_count": null,
   "outputs": []
  },
  {
   "cell_type": "code",
   "metadata": {
    "cell_id": "00002-6ddf7865-5b1b-4276-bea0-4be6bd765cd3",
    "deepnote_cell_type": "code",
    "deepnote_cell_height": 84
   },
   "source": "from __lib__.NN_class import NeuralNetwork\nfrom __lib__.DataProcessing import PreProcessing",
   "execution_count": null,
   "outputs": []
  },
  {
   "cell_type": "markdown",
   "source": "### Neural Networks\n\n#### Import trained model and compile\n\nImport trained model by specifying the file (filename) of the saved weights and the architecture.\nThe function import_compile(filename,input_shape) performs a check of the defined parameters wrt the saved model",
   "metadata": {
    "cell_id": "00003-605e2b59-bc69-4b59-8276-3b114b4b9e6f",
    "deepnote_cell_type": "markdown",
    "deepnote_cell_height": 158
   }
  },
  {
   "cell_type": "code",
   "metadata": {
    "cell_id": "00004-3a9e4586-76ba-44d8-b27b-93b6991e49d1",
    "deepnote_cell_type": "code",
    "deepnote_cell_height": 444
   },
   "source": "filename = './results/NN_VonMises'\n\numat_dim = 4 # dimensional space\n\nhidden_NN_Stress = 3 # number of hidden layers in NN Evolution\nhidden_NN_Evolution = 3\nmaterial = 'inelastic'\n\nNnet = NeuralNetwork(umat_dim,\n                     material,\n                     hidden_NN_Stress,\n                     activation_NN_Stress='leaky_relu',\n                     hidden_NN_Evolution = hidden_NN_Evolution,\n                     activation_NN_Evolution='leaky_relu') # Initialize TANN class\n\n# build model class\ninput_shape = [[None,umat_dim],[None,umat_dim],[None,umat_dim]]\nNnet.build(input_shape)\n\n# Compile model and import weights\nNnet.import_compile(filename,input_shape)\nNnet.summary()",
   "execution_count": null,
   "outputs": []
  },
  {
   "cell_type": "markdown",
   "source": "### Inference - loading path (1)\n\nMake predictions of the constitutive response under a biaxial loading path using the trained model. The loading path is predefined (see 1. Loading path), but you have to implement a function that call the trained model and make predictions.\n\nNote. All quantities should be dimensional (not normalized)",
   "metadata": {
    "cell_id": "00005-b183ef68-19c2-409a-b613-5d81087d37a5",
    "deepnote_cell_type": "markdown",
    "deepnote_cell_height": 158
   }
  },
  {
   "cell_type": "markdown",
   "source": "#### 1. Loading path",
   "metadata": {
    "cell_id": "00006-3bab69ab-be51-47f5-a11a-f5c2a0a3e3f1",
    "deepnote_cell_type": "markdown",
    "deepnote_cell_height": 54
   }
  },
  {
   "cell_type": "code",
   "metadata": {
    "scrolled": true,
    "cell_id": "00007-a395537a-619a-4c4f-a1a7-50536adf6dc2",
    "deepnote_cell_type": "code",
    "deepnote_cell_height": 354
   },
   "source": "# Specify total number of increments and sub-increments (cylic loading)\nincrements = 30*5\nsub_increments = increments//5\n\n# Specify loading direction (0 = {}_11, 1 = {}_22)\numat_dir = [0,1]\n\n# Specify strain increment magnitude\nde = 2e-4\n\n# Strain increment tensor (Voigt)\ndstrain = np.zeros((increments,umat_dim))\ndstrain[:sub_increments,umat_dir[0]] = de*np.ones((sub_increments))\ndstrain[sub_increments:3*sub_increments,umat_dir[0]] = -de*np.ones((2*sub_increments))\ndstrain[3*sub_increments:,umat_dir[0]] = de*np.ones((2*sub_increments))\n\ndstrain[:,umat_dir[1]]=-dstrain[:,umat_dir[0]]",
   "execution_count": null,
   "outputs": []
  },
  {
   "cell_type": "markdown",
   "source": "#### 2. Make predictions\n\nHere goes your function to predict the stress and internal variables deriving from the deformation path specified by dstrain (see 3.1)",
   "metadata": {
    "cell_id": "00008-53de2bea-9fcf-47a0-85c4-2f9905a623fe",
    "deepnote_cell_type": "markdown",
    "deepnote_cell_height": 110
   }
  },
  {
   "cell_type": "code",
   "metadata": {
    "cell_id": "00009-b4d2b4ac-a54a-421b-8062-6f2a37ed98e0",
    "deepnote_cell_type": "code",
    "deepnote_cell_height": 66
   },
   "source": "h_strain,h_svars,h_stress = ???",
   "execution_count": null,
   "outputs": []
  },
  {
   "cell_type": "markdown",
   "source": "#### 3. Import reference model solution",
   "metadata": {
    "cell_id": "00010-03ecb0ba-f839-4920-802a-371529966dbf",
    "deepnote_cell_type": "markdown",
    "deepnote_cell_height": 54
   }
  },
  {
   "cell_type": "code",
   "metadata": {
    "cell_id": "00011-7696d006-22f3-4731-8c86-bd825a271490",
    "deepnote_cell_type": "code",
    "deepnote_cell_height": 138
   },
   "source": "file = './data/3D_PlaneStrain_VonMises_CSMA_inference_biaxial'\nwith open(file, 'rb') as f_obj:\n    data = pickle.load(f_obj)\n\nstrain_ref,svars_ref,stress_ref,energy_ref,dissipationDot_ref = data",
   "execution_count": null,
   "outputs": []
  },
  {
   "cell_type": "markdown",
   "source": "#### 4. Compare results\n\nPlot the internal variables vs strain history as predicted by the model and compare it with the one of the reference model",
   "metadata": {
    "cell_id": "00012-31d601f6-7a68-4598-82a4-c1200e1e534a",
    "deepnote_cell_type": "markdown",
    "deepnote_cell_height": 88
   }
  },
  {
   "cell_type": "code",
   "metadata": {
    "cell_id": "00013-5935c1e8-5d63-4c73-8a8d-bdf2964e5ec5",
    "deepnote_cell_type": "code",
    "deepnote_cell_height": 192
   },
   "source": "plt.plot(strain_ref[:,umat_dir[0]],svars_ref[:,umat_dir[0]],\n         color='red',\n         alpha=1,linewidth=2, marker='o',markersize=0,label='ref')\n\nplt.xlabel(\"$\\\\varepsilon_{11}$\")\nplt.ylabel(\"$z_{11}$\")\nplt.legend()\nplt.show()",
   "execution_count": null,
   "outputs": []
  },
  {
   "cell_type": "markdown",
   "source": "Plot the stress vs strain history as predicted by the model and compare it with the one of the reference model",
   "metadata": {
    "cell_id": "00014-396363d5-9540-4a32-be9b-330f25863a07",
    "deepnote_cell_type": "markdown",
    "deepnote_cell_height": 52
   }
  },
  {
   "cell_type": "code",
   "metadata": {
    "cell_id": "00015-b267e11c-71ea-436a-95d3-34935c93c3e8",
    "deepnote_cell_type": "code",
    "deepnote_cell_height": 210
   },
   "source": "plt.plot(strain_ref[:,umat_dir[0]],\n         stress_ref[:,umat_dir[0]],\n         color='red',\n         alpha=1,linewidth=1, marker='o',markersize=3,label='ref')\n\nplt.xlabel(\"$\\\\varepsilon_{11}$\")\nplt.ylabel(\"$\\sigma_{11}$\")\nplt.legend()\nplt.show()",
   "execution_count": null,
   "outputs": []
  },
  {
   "cell_type": "markdown",
   "source": "Solution",
   "metadata": {
    "cell_id": "00016-3fb5d26b-10b1-468c-90a6-dc1a9431fbe7",
    "deepnote_cell_type": "markdown",
    "deepnote_cell_height": 52
   }
  },
  {
   "cell_type": "code",
   "metadata": {
    "cell_id": "00017-3e43e0d7-5c2d-450f-9f48-e266172e0344",
    "deepnote_cell_type": "code",
    "deepnote_cell_height": 264
   },
   "source": "plt.plot(h_strain[:,umat_dir[0]],h_svars[:,umat_dir[0]],\n         color = 'darkblue',\n         alpha=1,linewidth=1, marker='o',markersize=4,label='NN')\n\nplt.plot(strain_ref[:,umat_dir[0]],svars_ref[:,umat_dir[0]],\n         color='red',\n         alpha=1,linewidth=2, marker='o',markersize=0,label='ref')\n\nplt.xlabel(\"$\\\\varepsilon_{11}$\")\nplt.ylabel(\"$z_{11}$\")\nplt.legend()\nplt.show()",
   "execution_count": null,
   "outputs": []
  },
  {
   "cell_type": "code",
   "metadata": {
    "cell_id": "00018-7d2539f0-71e6-4161-8987-a70cbe67f7d9",
    "deepnote_cell_type": "code",
    "deepnote_cell_height": 246
   },
   "source": "plt.plot(h_strain[:,umat_dir[0]],h_stress[:,umat_dir[0]],\n         alpha=1,linewidth=1, marker='o',markersize=5,label='NN')\n\nplt.plot(strain_ref[:,umat_dir[0]],stress_ref[:,umat_dir[0]],\n         color='red',\n         alpha=1,linewidth=1, marker='s',markersize=2,label='ref')\n\nplt.xlabel(\"$\\\\varepsilon_{11}$\")\nplt.ylabel(\"$\\sigma_{11}=\\partial_{\\\\varepsilon_{11}} NN(\\\\varepsilon)$\")\nplt.legend()\nplt.show()",
   "execution_count": null,
   "outputs": []
  },
  {
   "cell_type": "markdown",
   "source": "### Inference - loading path (2)\n\nMake predictions of the constitutive response under a simple shear loading path using the trained model. The loading path is predefined (see 1. Loading path). Use the function that you implemented above.",
   "metadata": {
    "cell_id": "00019-de30059b-f01a-479f-bcf0-6db0c4394d65",
    "deepnote_cell_type": "markdown",
    "deepnote_cell_height": 122
   }
  },
  {
   "cell_type": "markdown",
   "source": "#### 1. Loading path",
   "metadata": {
    "cell_id": "00020-e5144143-873f-43fc-aa4e-555688086dfa",
    "deepnote_cell_type": "markdown",
    "deepnote_cell_height": 54
   }
  },
  {
   "cell_type": "code",
   "metadata": {
    "cell_id": "00021-35d1c8bb-1fa0-4e56-a476-aa0a2ae80ed9",
    "deepnote_cell_type": "code",
    "deepnote_cell_height": 264
   },
   "source": "#Specify number of increments\nincrements = 600\n\n# Specify loading direction (-1 = {}_12)\numat_dir = -1\n\n# Specify strain increment magnitude\nde = 2e-4\n\n# Strain increment tensor (Voigt)\ndstrain = np.zeros((increments,umat_dim))\ndstrain[:increments,umat_dir] = 2*de*np.ones((increments))",
   "execution_count": null,
   "outputs": []
  },
  {
   "cell_type": "markdown",
   "source": "#### 2. Make predictions",
   "metadata": {
    "cell_id": "00022-47a50153-0c9a-460a-ad83-0bf862d49709",
    "deepnote_cell_type": "markdown",
    "deepnote_cell_height": 54
   }
  },
  {
   "cell_type": "code",
   "metadata": {
    "cell_id": "00023-5a3ee052-665e-4abb-9954-d2a3f00f36c9",
    "deepnote_cell_type": "code",
    "deepnote_cell_height": 66
   },
   "source": "# h_strain,h_svars,h_stress = ???",
   "execution_count": null,
   "outputs": []
  },
  {
   "cell_type": "markdown",
   "source": "#### 3. Import reference model solution",
   "metadata": {
    "cell_id": "00024-7baf8a14-efa5-44eb-a280-a244e133a215",
    "deepnote_cell_type": "markdown",
    "deepnote_cell_height": 54
   }
  },
  {
   "cell_type": "code",
   "metadata": {
    "cell_id": "00025-68096cf5-c998-4b64-b205-4e93f34fd369",
    "deepnote_cell_type": "code",
    "deepnote_cell_height": 120
   },
   "source": "file = './data/3D_PlaneStrain_VonMises_CSMA_inference_shear'\nwith open(file, 'rb') as f_obj:\n    data = pickle.load(f_obj)\nstrain_ref,svars_ref,stress_ref,energy_ref,dissipationDot_ref = data",
   "execution_count": null,
   "outputs": []
  },
  {
   "cell_type": "markdown",
   "source": "#### 4. Compare results",
   "metadata": {
    "cell_id": "00026-7498bd69-e4ab-402d-a94d-1280214682ec",
    "deepnote_cell_type": "markdown",
    "deepnote_cell_height": 54
   }
  },
  {
   "cell_type": "code",
   "metadata": {
    "cell_id": "00027-afc1975b-961b-4ec9-8c41-95b3e4d47db6",
    "deepnote_cell_type": "code",
    "deepnote_cell_height": 300
   },
   "source": "plt.plot(h_strain[:,umat_dir],\n         h_svars[:,umat_dir],\n         color = 'blue',\n         alpha=1,linewidth=1, marker='o',markersize=4,label='NN')\n\nplt.plot(strain_ref[:,umat_dir],\n         svars_ref[:,umat_dir],\n         color='red',\n         alpha=1,linewidth=1, marker='o',markersize=3,label='ref')\n\nplt.xlabel(\"$\\\\varepsilon_{12}$\")\nplt.ylabel(\"$z_{12}$\")\nplt.legend()\nplt.show()",
   "execution_count": null,
   "outputs": []
  },
  {
   "cell_type": "code",
   "metadata": {
    "cell_id": "00028-160062bd-9e0f-4411-8227-5da1714a087e",
    "deepnote_cell_type": "code",
    "deepnote_cell_height": 246
   },
   "source": "plt.plot(h_strain[:,umat_dir],h_stress[:,umat_dir],\n         alpha=1,linewidth=1, marker='o',markersize=4,label='NN')\n\nplt.plot(strain_ref[:,umat_dir],stress_ref[:,umat_dir],\n         color='red',\n         alpha=1,linewidth=2, marker='o',markersize=0,label='ref')\n\nplt.xlabel(\"$\\\\varepsilon_{12}$\")\nplt.ylabel(\"$\\sigma_{12}$\")\nplt.legend()\nplt.show()",
   "execution_count": null,
   "outputs": []
  },
  {
   "cell_type": "code",
   "metadata": {
    "cell_id": "00029-db68dc0a-31a2-428c-953c-3a117ae83ff1",
    "deepnote_cell_type": "code",
    "deepnote_cell_height": 66
   },
   "source": "",
   "execution_count": null,
   "outputs": []
  },
  {
   "cell_type": "markdown",
   "source": "<a style='text-decoration:none;line-height:16px;display:flex;color:#5B5B62;padding:10px;justify-content:end;' href='https://deepnote.com?utm_source=created-in-deepnote-cell&projectId=b33f54f1-f98d-4fed-99c0-2484f115edd9' target=\"_blank\">\n<img alt='Created in deepnote.com' style='display:inline;max-height:16px;margin:0px;margin-right:7.5px;' src='data:image/svg+xml;base64,PD94bWwgdmVyc2lvbj0iMS4wIiBlbmNvZGluZz0iVVRGLTgiPz4KPHN2ZyB3aWR0aD0iODBweCIgaGVpZ2h0PSI4MHB4IiB2aWV3Qm94PSIwIDAgODAgODAiIHZlcnNpb249IjEuMSIgeG1sbnM9Imh0dHA6Ly93d3cudzMub3JnLzIwMDAvc3ZnIiB4bWxuczp4bGluaz0iaHR0cDovL3d3dy53My5vcmcvMTk5OS94bGluayI+CiAgICA8IS0tIEdlbmVyYXRvcjogU2tldGNoIDU0LjEgKDc2NDkwKSAtIGh0dHBzOi8vc2tldGNoYXBwLmNvbSAtLT4KICAgIDx0aXRsZT5Hcm91cCAzPC90aXRsZT4KICAgIDxkZXNjPkNyZWF0ZWQgd2l0aCBTa2V0Y2guPC9kZXNjPgogICAgPGcgaWQ9IkxhbmRpbmciIHN0cm9rZT0ibm9uZSIgc3Ryb2tlLXdpZHRoPSIxIiBmaWxsPSJub25lIiBmaWxsLXJ1bGU9ImV2ZW5vZGQiPgogICAgICAgIDxnIGlkPSJBcnRib2FyZCIgdHJhbnNmb3JtPSJ0cmFuc2xhdGUoLTEyMzUuMDAwMDAwLCAtNzkuMDAwMDAwKSI+CiAgICAgICAgICAgIDxnIGlkPSJHcm91cC0zIiB0cmFuc2Zvcm09InRyYW5zbGF0ZSgxMjM1LjAwMDAwMCwgNzkuMDAwMDAwKSI+CiAgICAgICAgICAgICAgICA8cG9seWdvbiBpZD0iUGF0aC0yMCIgZmlsbD0iIzAyNjVCNCIgcG9pbnRzPSIyLjM3NjIzNzYyIDgwIDM4LjA0NzY2NjcgODAgNTcuODIxNzgyMiA3My44MDU3NTkyIDU3LjgyMTc4MjIgMzIuNzU5MjczOSAzOS4xNDAyMjc4IDMxLjY4MzE2ODMiPjwvcG9seWdvbj4KICAgICAgICAgICAgICAgIDxwYXRoIGQ9Ik0zNS4wMDc3MTgsODAgQzQyLjkwNjIwMDcsNzYuNDU0OTM1OCA0Ny41NjQ5MTY3LDcxLjU0MjI2NzEgNDguOTgzODY2LDY1LjI2MTk5MzkgQzUxLjExMjI4OTksNTUuODQxNTg0MiA0MS42NzcxNzk1LDQ5LjIxMjIyODQgMjUuNjIzOTg0Niw0OS4yMTIyMjg0IEMyNS40ODQ5Mjg5LDQ5LjEyNjg0NDggMjkuODI2MTI5Niw0My4yODM4MjQ4IDM4LjY0NzU4NjksMzEuNjgzMTY4MyBMNzIuODcxMjg3MSwzMi41NTQ0MjUgTDY1LjI4MDk3Myw2Ny42NzYzNDIxIEw1MS4xMTIyODk5LDc3LjM3NjE0NCBMMzUuMDA3NzE4LDgwIFoiIGlkPSJQYXRoLTIyIiBmaWxsPSIjMDAyODY4Ij48L3BhdGg+CiAgICAgICAgICAgICAgICA8cGF0aCBkPSJNMCwzNy43MzA0NDA1IEwyNy4xMTQ1MzcsMC4yNTcxMTE0MzYgQzYyLjM3MTUxMjMsLTEuOTkwNzE3MDEgODAsMTAuNTAwMzkyNyA4MCwzNy43MzA0NDA1IEM4MCw2NC45NjA0ODgyIDY0Ljc3NjUwMzgsNzkuMDUwMzQxNCAzNC4zMjk1MTEzLDgwIEM0Ny4wNTUzNDg5LDc3LjU2NzA4MDggNTMuNDE4MjY3Nyw3MC4zMTM2MTAzIDUzLjQxODI2NzcsNTguMjM5NTg4NSBDNTMuNDE4MjY3Nyw0MC4xMjg1NTU3IDM2LjMwMzk1NDQsMzcuNzMwNDQwNSAyNS4yMjc0MTcsMzcuNzMwNDQwNSBDMTcuODQzMDU4NiwzNy43MzA0NDA1IDkuNDMzOTE5NjYsMzcuNzMwNDQwNSAwLDM3LjczMDQ0MDUgWiIgaWQ9IlBhdGgtMTkiIGZpbGw9IiMzNzkzRUYiPjwvcGF0aD4KICAgICAgICAgICAgPC9nPgogICAgICAgIDwvZz4KICAgIDwvZz4KPC9zdmc+' > </img>\nCreated in <span style='font-weight:600;margin-left:4px;'>Deepnote</span></a>",
   "metadata": {
    "tags": [],
    "created_in_deepnote_cell": true,
    "deepnote_cell_type": "markdown"
   }
  }
 ],
 "nbformat": 4,
 "nbformat_minor": 5,
 "metadata": {
  "kernelspec": {
   "display_name": "Python 3",
   "language": "python",
   "name": "python3"
  },
  "language_info": {
   "codemirror_mode": {
    "name": "ipython",
    "version": 3
   },
   "file_extension": ".py",
   "mimetype": "text/x-python",
   "name": "python",
   "nbconvert_exporter": "python",
   "pygments_lexer": "ipython3",
   "version": "3.8.10"
  },
  "deepnote_notebook_id": "0cf4dc47-1974-425e-ad02-b706c8fda8fc",
  "deepnote": {},
  "deepnote_execution_queue": []
 }
}