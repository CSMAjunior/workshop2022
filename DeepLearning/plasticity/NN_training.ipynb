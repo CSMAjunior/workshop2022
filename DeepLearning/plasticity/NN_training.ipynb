{
 "cells": [
  {
   "cell_type": "markdown",
   "source": "### Import libraries\n\nImport libraries, set parameters, and import classes",
   "metadata": {
    "cell_id": "157b1cbc-0f71-4781-9fd6-d0b9b4ca164e",
    "deepnote_cell_type": "markdown",
    "deepnote_cell_height": 100
   }
  },
  {
   "cell_type": "code",
   "metadata": {
    "cell_id": "00001-23963e6d-3795-4474-827a-607efccea67c",
    "owner_user_id": "5bb91923-5f7e-4fe6-8d4b-271ce2a72b9f",
    "deepnote_cell_type": "code",
    "deepnote_cell_height": 228
   },
   "source": "import numpy as np\nimport tensorflow as tf\nimport pickle\nnp.random.seed(1)\ntf.random.set_seed(1)\ntf.keras.backend.set_floatx('float32')\n\nimport matplotlib.pyplot as plt\nplt.rcParams[\"figure.figsize\"] = (3,3)\nplt.rcParams.update({'font.size': 13})",
   "execution_count": null,
   "outputs": []
  },
  {
   "cell_type": "code",
   "metadata": {
    "cell_id": "00002-09c44867-172d-4f96-b197-d1b340ac66d5",
    "deepnote_cell_type": "code",
    "deepnote_cell_height": 84
   },
   "source": "from __lib__.NN_class import NeuralNetwork\nfrom __lib__.DataProcessing import PreProcessing",
   "execution_count": null,
   "outputs": []
  },
  {
   "cell_type": "markdown",
   "source": "### Import datasets and pre-processing",
   "metadata": {
    "cell_id": "00003-2c1e31a4-4f95-4a08-8118-b21ab1ed2043",
    "deepnote_cell_type": "markdown",
    "deepnote_cell_height": 62
   }
  },
  {
   "cell_type": "code",
   "metadata": {
    "cell_id": "00004-05df8a9b-2be5-47df-be68-20f9b160307a",
    "deepnote_cell_type": "code",
    "deepnote_cell_height": 84
   },
   "source": "file = './data/3D_PlaneStrain_VonMises_CSMA'\ntraining_percentage = 0.6",
   "execution_count": null,
   "outputs": []
  },
  {
   "cell_type": "code",
   "metadata": {
    "cell_id": "00005-c51a3082-6bf1-4eec-905e-05dc4632f2b8",
    "deepnote_cell_type": "code",
    "deepnote_cell_height": 174
   },
   "source": "with open(file, 'rb') as f_obj:\n    data = pickle.load(f_obj)\n\nstrain,strainDot,svars,svarsDot,stress,energy,dissipationDot = data\n\ndel data\n",
   "execution_count": null,
   "outputs": []
  },
  {
   "cell_type": "markdown",
   "source": "##### Split datasets  (tv=training+validation - test)",
   "metadata": {
    "cell_id": "00006-4c9c5922-2f6a-4835-8338-b432b9e3e0c7",
    "deepnote_cell_type": "markdown",
    "deepnote_cell_height": 54
   }
  },
  {
   "cell_type": "code",
   "metadata": {
    "cell_id": "00007-b09c2c38-ada9-4382-a615-1a59611a97f2",
    "deepnote_cell_type": "code",
    "deepnote_cell_height": 174
   },
   "source": "PreProcessing = PreProcessing(training_percentage)\ntrain_p,val_p,test_p = PreProcessing.split_dataset(strain,percentage=True)\n\nprint('# samples:', train_p+val_p+test_p,\n      '\\n# training:', train_p,\n      '\\n# validation:', val_p,\n      '\\n# test:', test_p)",
   "execution_count": null,
   "outputs": []
  },
  {
   "cell_type": "code",
   "metadata": {
    "cell_id": "00008-1a379f8f-5f4d-4325-8bff-8392f8c875cd",
    "deepnote_cell_type": "code",
    "deepnote_cell_height": 138
   },
   "source": "strain_tv,strain_test = PreProcessing.split_dataset(strain)\nstrainDot_tv,strainDot_test = PreProcessing.split_dataset(strainDot)\nsvars_tv,svars_test = PreProcessing.split_dataset(svars)\nsvarsDot_tv,svarsDot_test = PreProcessing.split_dataset(svarsDot)\nstress_tv,stress_test = PreProcessing.split_dataset(stress)",
   "execution_count": null,
   "outputs": []
  },
  {
   "cell_type": "markdown",
   "source": "##### Get normalization parameters",
   "metadata": {
    "cell_id": "00009-44dfdcfb-a33c-4fa5-9b9c-0c6cb6f89ad7",
    "deepnote_cell_type": "markdown",
    "deepnote_cell_height": 54
   }
  },
  {
   "cell_type": "code",
   "metadata": {
    "cell_id": "00010-81f05cdf-b35f-4638-bb18-570f700101de",
    "deepnote_cell_type": "code",
    "deepnote_cell_height": 66
   },
   "source": "# Use simply the code you programmed previously for the elastic case",
   "execution_count": null,
   "outputs": []
  },
  {
   "cell_type": "code",
   "metadata": {
    "cell_id": "00011-0a76eeab-307d-482b-96ac-e935c4ea1037",
    "deepnote_cell_type": "code",
    "deepnote_cell_height": 156
   },
   "source": "# Or:\n# prm_E = PreProcessing.GetParams(strain_tv,normalize=True)\n# prm_EDot = PreProcessing.GetParams(strainDot_tv,normalize=True)\n# prm_Z = PreProcessing.GetParams(svars_tv,normalize=True)\n# prm_ZDot = PreProcessing.GetParams(svarsDot_tv,normalize=True)\n# prm_S = PreProcessing.GetParams(stress_tv,normalize=False)",
   "execution_count": null,
   "outputs": []
  },
  {
   "cell_type": "markdown",
   "source": "##### Normalize datasets",
   "metadata": {
    "cell_id": "00012-68b23aea-2f29-4ec5-83ee-5c30d851b386",
    "deepnote_cell_type": "markdown",
    "deepnote_cell_height": 54
   }
  },
  {
   "cell_type": "code",
   "metadata": {
    "cell_id": "00013-884eaf2c-5a48-4132-b267-ba386f295a34",
    "deepnote_cell_type": "code",
    "deepnote_cell_height": 300
   },
   "source": "# Training and validation datasets\n\n__strain_tv,__strain_test = PreProcessing.Normalize(\n    [strain_tv,strain_test],prm_E,train_val=True)\n__strainDot_tv,__strainDot_test = PreProcessing.Normalize(\n    [strainDot_tv,strainDot_test],prm_EDot,train_val=True)\n__svars_tv,__svars_test = PreProcessing.Normalize(\n    [svars_tv,svars_test],prm_Z,train_val=True)\n__svarsDot_tv,__svarsDot_test = PreProcessing.Normalize(\n    [svarsDot_tv,svarsDot_test],prm_ZDot,train_val=True)\n__stress_tv,__stress_test = PreProcessing.Normalize(\n    [stress_tv,stress_test],prm_S,train_val=True)\n\n",
   "execution_count": null,
   "outputs": []
  },
  {
   "cell_type": "markdown",
   "source": "### Neural Networks",
   "metadata": {
    "cell_id": "00014-38cc0fbd-47e7-4d6f-818a-42098dcb27ec",
    "deepnote_cell_type": "markdown",
    "deepnote_cell_height": 62
   }
  },
  {
   "cell_type": "markdown",
   "source": "#### Build network",
   "metadata": {
    "cell_id": "00015-25c0f646-ae32-402f-8c6d-59989d2647dd",
    "deepnote_cell_type": "markdown",
    "deepnote_cell_height": 54
   }
  },
  {
   "cell_type": "code",
   "metadata": {
    "cell_id": "00016-7aed9716-79de-4ec9-802b-2ad2e940ec38",
    "deepnote_cell_type": "code",
    "deepnote_cell_height": 498
   },
   "source": "umat_dim = 4 # dimensional space\n\nhidden_NN_Stress = 3 # number of hidden layers in NN Evolution\nhidden_NN_Evolution = 3\nmaterial = 'inelastic'\n\nNnet = NeuralNetwork(umat_dim,\n                     material,\n                     hidden_NN_Stress,\n                     activation_NN_Stress='leaky_relu',\n                     hidden_NN_Evolution = hidden_NN_Evolution,\n                     activation_NN_Evolution='leaky_relu',\n                    ) # Initialize TANN class\n\n\nparams = [prm_E,prm_S,prm_Z,prm_EDot,prm_ZDot] # regroup normalization parameters\n\nNnet.SetParams(params) # set normalization parameters in the model\n\n# build TF model class\ninput_shape = [[None,umat_dim],[None,umat_dim],[None,umat_dim]]\nNnet.build(input_shape)\n\n# print model's summary\nprint(Nnet.summary())",
   "execution_count": null,
   "outputs": []
  },
  {
   "cell_type": "markdown",
   "source": "#### Define inputs and outputs",
   "metadata": {
    "cell_id": "00017-cd9c4a1f-86fb-4fbe-933c-72167eb9a3d6",
    "deepnote_cell_type": "markdown",
    "deepnote_cell_height": 54
   }
  },
  {
   "cell_type": "code",
   "metadata": {
    "cell_id": "00018-8c4b788a-21d1-418c-bd90-eaee7396de83",
    "deepnote_cell_type": "code",
    "deepnote_cell_height": 174
   },
   "source": "output_tv = [__svarsDot_tv,__stress_tv]\n\noutput_test = [__svarsDot_test,__stress_test]\n\ninput_tv = [__svars_tv,__strain_tv,__strainDot_tv]\n\ninput_test = [__svars_test,__strain_test,__strainDot_test]",
   "execution_count": null,
   "outputs": []
  },
  {
   "cell_type": "markdown",
   "source": "#### Compile and train the network",
   "metadata": {
    "cell_id": "00019-9cf63efc-5c6d-47f2-bc0f-597adea039ed",
    "deepnote_cell_type": "markdown",
    "deepnote_cell_height": 54
   }
  },
  {
   "cell_type": "code",
   "metadata": {
    "scrolled": true,
    "cell_id": "00020-736ba53f-dcf4-466a-9c0d-24191bcd95ec",
    "deepnote_cell_type": "code",
    "deepnote_cell_height": 282
   },
   "source": "Nnet.compileNet()\n\ncallbacks_list = [tf.keras.callbacks.EarlyStopping(monitor ='val_loss',min_delta = 1.e-6,\n                                                   patience = 200, verbose = 0, mode = 'min',\n                                                   baseline = None,restore_best_weights = True)]\n\nhist_Nnet = Nnet.fit(input_tv,output_tv,\n                     epochs = 1500,\n                     validation_split=0.2,\n                     batch_size = 200,\n                     verbose = 2,\n                     use_multiprocessing=True,\n                     callbacks = callbacks_list,)",
   "execution_count": null,
   "outputs": []
  },
  {
   "cell_type": "markdown",
   "source": "#### Evaluate losses",
   "metadata": {
    "cell_id": "00021-f78e3321-5490-402a-b24d-025612cb1e15",
    "deepnote_cell_type": "markdown",
    "deepnote_cell_height": 54
   }
  },
  {
   "cell_type": "code",
   "metadata": {
    "cell_id": "00022-aa0ef5d4-6dab-42de-b4cd-ac5072c8573e",
    "deepnote_cell_type": "code",
    "deepnote_cell_height": 210
   },
   "source": "print('Evaluate loss for training and validation datasets:'); Nnet.evaluate(input_tv,output_tv,verbose=2)\nprint('\\nEvaluate loss for test datasets:'); Nnet.evaluate(input_test,output_test,verbose=2)\n\n\nsvarsDot_loss = np.asarray(hist_Nnet.history['output_1_loss'])\nsvarsDot_val_loss = np.asarray(hist_Nnet.history['val_output_1_loss'])\nstress_loss = np.asarray(hist_Nnet.history['output_2_loss'])\nstress_val_loss = np.asarray(hist_Nnet.history['val_output_2_loss'])\nepochs = range(1, len(stress_loss) + 1)",
   "execution_count": null,
   "outputs": []
  },
  {
   "cell_type": "markdown",
   "source": "#### Plot training curves",
   "metadata": {
    "cell_id": "00023-15f5e291-755d-4d06-8533-85bcbccc7baa",
    "deepnote_cell_type": "markdown",
    "deepnote_cell_height": 54
   }
  },
  {
   "cell_type": "code",
   "metadata": {
    "scrolled": true,
    "tags": [],
    "cell_id": "00024-402e8a62-ae46-4525-b417-7e169b81e658",
    "deepnote_cell_type": "code",
    "deepnote_cell_height": 282
   },
   "source": "fig, ax = plt.subplots(1)\nax.loglog(epochs, svarsDot_loss, color='red', label='$\\dot{z}$', linewidth=2, marker='o',markersize=0)\nax.loglog(epochs, svarsDot_val_loss, color='red', alpha=0.5,  linewidth=2, marker='o',markersize=0)\n\nax.loglog(epochs, stress_loss, color='black', label='$\\sigma$', linewidth=2, marker='o',markersize=0)\nax.loglog(epochs, stress_val_loss, color='black', alpha=0.5,  linewidth=2, marker='o',markersize=0)\n\n\nax.set_xlabel('epochs')\nax.set_ylabel('Mean Absolute Error')\nax.legend(loc='best')\nax.grid()\nax.set_ylim(1e-7,1)",
   "execution_count": null,
   "outputs": []
  },
  {
   "cell_type": "markdown",
   "source": "#### Predictions for the entire batch",
   "metadata": {
    "cell_id": "00025-9bdd0679-cd3b-49bd-bbed-277063f12f47",
    "deepnote_cell_type": "markdown",
    "deepnote_cell_height": 54
   }
  },
  {
   "cell_type": "code",
   "metadata": {
    "cell_id": "00026-9aa8291d-e3ee-4053-b072-0e138cde99a3",
    "deepnote_cell_type": "code",
    "deepnote_cell_height": 336
   },
   "source": "pred__svarsDot,pred__stress=Nnet.predict(input_test)\n\n# Plot stress\nplt.plot(__stress_test,pred__stress,\n         alpha=0.3,linewidth=0, marker='o',markersize=5)\nplt.xlabel(\"$\\sigma$\")\nplt.ylabel(\"$\\sigma=NN(\\\\varepsilon)$\")\nplt.show()\n\n# Plot internal variable\nplt.plot(__svarsDot_test,\n         pred__svarsDot,\n         alpha=0.3,linewidth=0, marker='o',markersize=5)\nplt.xlabel(\"$\\sigma$\")\nplt.ylabel(\"$\\sigma=\\partial_{\\\\varepsilon} NN_{\\psi}(\\\\varepsilon)$\")\nplt.show()",
   "execution_count": null,
   "outputs": []
  },
  {
   "cell_type": "markdown",
   "source": "### Save model",
   "metadata": {
    "cell_id": "00027-a0a0d887-0020-43c3-92b8-d49f2be6f804",
    "deepnote_cell_type": "markdown",
    "deepnote_cell_height": 62
   }
  },
  {
   "cell_type": "code",
   "metadata": {
    "cell_id": "00028-567a6f49-19c1-4091-b9a7-c7191ccc6481",
    "deepnote_cell_type": "code",
    "deepnote_cell_height": 84
   },
   "source": "# filename = './results/NN_VonMises'\n# Nnet.save_export(filename)",
   "execution_count": null,
   "outputs": []
  },
  {
   "cell_type": "code",
   "metadata": {
    "cell_id": "00029-1ae86f0d-cf0e-4860-bcdb-f400fd75d3d1",
    "deepnote_cell_type": "code",
    "deepnote_cell_height": 66
   },
   "source": "",
   "execution_count": null,
   "outputs": []
  },
  {
   "cell_type": "markdown",
   "source": "<a style='text-decoration:none;line-height:16px;display:flex;color:#5B5B62;padding:10px;justify-content:end;' href='https://deepnote.com?utm_source=created-in-deepnote-cell&projectId=b33f54f1-f98d-4fed-99c0-2484f115edd9' target=\"_blank\">\n<img alt='Created in deepnote.com' style='display:inline;max-height:16px;margin:0px;margin-right:7.5px;' src='data:image/svg+xml;base64,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' > </img>\nCreated in <span style='font-weight:600;margin-left:4px;'>Deepnote</span></a>",
   "metadata": {
    "tags": [],
    "created_in_deepnote_cell": true,
    "deepnote_cell_type": "markdown"
   }
  }
 ],
 "nbformat": 4,
 "nbformat_minor": 5,
 "metadata": {
  "kernelspec": {
   "display_name": "Python 3",
   "language": "python",
   "name": "python3"
  },
  "language_info": {
   "codemirror_mode": {
    "name": "ipython",
    "version": 3
   },
   "file_extension": ".py",
   "mimetype": "text/x-python",
   "name": "python",
   "nbconvert_exporter": "python",
   "pygments_lexer": "ipython3",
   "version": "3.8.10"
  },
  "deepnote_notebook_id": "ff9bd8a2-bbf0-4f60-829e-4e1189b0e982",
  "deepnote": {},
  "deepnote_execution_queue": []
 }
}