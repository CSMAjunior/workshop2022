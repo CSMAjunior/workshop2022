{
 "cells": [
  {
   "cell_type": "markdown",
   "source": "## | CSMA Junior | Practical session on \"Coupled systems\"|\n\n#### Modeling of a beam coupled to its electrical analogue through an array of piezoelectric patches\n\nReferences:  \n*- Lossouarn, B., Kerschen, G., & Deü, J. F. (2021). An analogue twin for piezoelectric vibration damping of multiple nonlinear resonances. Journal of Sound and Vibration, 511, 116323.*  \n*- Lossouarn, B., Aucejo, M., & Deü, J. F. (2018). Electromechanical wave finite element method for interconnected piezoelectric waveguides. Computers & Structures, 199, 46-56.*\n\nThe following code is open source and intended for educational and scientific purposes only.\n\nDisclaimer:  \nThe authors reserve all rights but do not guarantee that the code is free from errors. Furthermore, the authors shall not be liable in any event caused by the use of the program.  \n\nContact : boris.lossouarn@lecnam.net",
   "metadata": {
    "cell_id": "7420c514bab1421ea1167fe60aa8e52f",
    "tags": [],
    "deepnote_cell_type": "markdown",
    "deepnote_cell_height": 387.90625
   }
  },
  {
   "cell_type": "markdown",
   "source": "## Mechanical beam\n\n<p align=\"center\">\n<img src=\"media/mechanical_beam.png\" style=\"width:900px\"></img>\n</p>\n\n\n#### Dimensions and mechanical properties for the beam and the piezoelectric patches\n\n|                       | Beam (Steel)                                                      | Patches (PZT 5A)                                                                                         |\n|-----------------------|-------------------------------------------------------------------|----------------------------------------------------------------------------------------------------------|\n| Length                | $l_{ \t\\rm{b}} = 700$ mm                                         | $l_{ \\textrm{p}}=67$ mm                                                                                  |\n| Width                 | $b=14$ mm                                                         | $b=14$ mm                                                                                                |\n| Thickness             | $h_{ \\textrm{b}}=14$ mm                                           | $h_{ \\textrm{p}}=2$ mm                                                                                   |\n| Second moment of area | $I_{ \\textrm{b}} = \\frac{b h_{ \\textrm{b}}^3}{12} = 3201 $ mm$^4$ | $I_{ \\textrm{p}} = \\frac{b( (h_{ \\textrm{b}}+2h_{ \\textrm{p}})^3-h_{ \\textrm{b}}^3)}{24} = 1801 $ mm$^4$ |\n| Density               | $\\rho_{ \\textrm{b}}=7850$ kg/$\\textrm{m}^3$                       | $\\rho_{ \\textrm{p}}=7800$ kg/$\\textrm{m}^3$                                                              |\n| Young's modulus       | $Y_{ \\textrm{b}} = 210$ GPa                                       | $Y_{ \\textrm{p}}^E= 66$ GPa                                                                              |",
   "metadata": {
    "cell_id": "856593ad3a42485eaf81de994425039a",
    "tags": [],
    "deepnote_cell_type": "markdown",
    "deepnote_cell_height": 432.46875
   }
  },
  {
   "cell_type": "code",
   "metadata": {
    "cell_id": "83292106bf6840e49cbf5a21f0ebe4c9",
    "tags": [],
    "deepnote_to_be_reexecuted": false,
    "source_hash": "33103284",
    "execution_start": 1651754866264,
    "execution_millis": 0,
    "owner_user_id": "f36ce8d2-a58f-4adf-a4fc-e76390d327ef",
    "deepnote_cell_type": "code",
    "deepnote_cell_height": 423
   },
   "source": "%--------------- Geometric constants --------------------------------------\n\nl_b = 0.7;          % length of the beam\nb = 0.014;          % width of the beam\nh_b = 0.014;        % thickness of the beam\n\nl_p = 0.067;        % length of a portion with piezo\nh_p = 0.002;        % thickness of a piezo\n\nI_b=b*(h_b^3)/12;   % second moment of area of the structure \nI_p=b*((h_b+2*h_p)^3-h_b^3)/12/2;  % second moment of area for one piezo\n\n%--------------- Material constants ---------------------------------------\n\nrho_b = 7850;             % density of the main structure  \nY_b = 210*10^9;           % Young modulus of the main structure \n\nrho_p = 7800;             % density of the piezo \nY_p_E = 66e9;             % elastic stiffness of the piezo at constant electric field\n",
   "outputs": [],
   "execution_count": null
  },
  {
   "cell_type": "markdown",
   "source": "#### Homogenized properties\n\nThe homogenized flexural rigidity $Y I$ is obtained from the **bending compliance of a unit cell** : \n$$\n\\frac{a}{YI} = \\frac{l_{ \\textrm{p}}}{Y_{ \\textrm{b}} I_{ \\textrm{b}}  + 2 Y^E_{ \\textrm{p}} I_{ \\textrm{p}} }+\\frac{a-l_{ \\textrm{p}}}{Y_{ \\textrm{b}} I_{ \\textrm{b}}},\n$$\nwhere $a$ is the lenght of the unit cell.\n\nThe homogenized linear density $\\rho S$ is obtained from the **mass of a unit cell** :\n$$\n\\rho S a = \\rho_{ \\textrm{b}} h_{ \\textrm{b}} b a + 2 \\rho_{ \\textrm{p}} h_{ \\textrm{p}} b l_{ \\textrm{p}}.\n$$",
   "metadata": {
    "cell_id": "c66e6e12915f44b6b0ddfc359233114c",
    "tags": [],
    "deepnote_cell_type": "markdown",
    "deepnote_cell_height": 266.890625
   }
  },
  {
   "cell_type": "code",
   "metadata": {
    "cell_id": "bb6c95b63b694197afee341db5d55d37",
    "tags": [],
    "deepnote_to_be_reexecuted": false,
    "source_hash": "d6b3ba88",
    "execution_start": 1651754866264,
    "execution_millis": 48,
    "deepnote_cell_type": "code",
    "deepnote_cell_height": 171
   },
   "source": "n = 10;               % number of unit cells\na = l_b/n;            % length of a unit cell \nl_p_modif = l_p*10/n; % length of the piezo patches when n is not equal to 10 \n\nYI_E =a/(l_p_modif/(Y_b*I_b+2*Y_p_E*I_p)+(a-l_p_modif)/(Y_b*I_b));   % homogenized Young modulus*I \nrhoS = (rho_b*b*h_b*a+2*rho_p*b*h_p*l_p_modif)/a;                    % homogenized linear density rho*S",
   "outputs": [],
   "execution_count": null
  },
  {
   "cell_type": "markdown",
   "source": "#### FEM stiffness and mass matrices\n\nThe mechanical displacement vector for an Euler-Bernoulli beam element is defined as \n$\\mathbf{q_m} =\n\\left[ \n\\begin{array}{cccc}\n {W}_\\textrm{L} &  {\\theta}_\\textrm{L} &  {W}_\\textrm{R} & {\\theta}_\\textrm{R}\n\\end{array} \\right]^T$, where $\\textrm{W}$ refers to the transverse displacement, ${\\theta}$ refers to the angular displacement and the letters $\\textrm{L}$ and $\\textrm{R}$ correspond to the left and right sides of the element. \n\nA finite element model based on cubic shape functions for the transverse displacement involves the **stiffness matrix**  \n$$\n\\mathbf{K_m}\n=\n\\dfrac{Y I}{a^3} \\left[ \n%\\setlength\\arraycolsep{2pt}\n\\begin{array}{cccc}\n 12 & 6 a & -12 & 6 a\\\\\n 6 a & 4 a^2 & -6 a & 2 a^2\\\\\n -12 & -6 a & 12 & -6 a\\\\\n 6 a & 2 a^2 & -6 a & 4 a^2\n\\end{array} \\right],\n$$\nand the **mass matrix**\n$$\n\\mathbf{M_m}\n=\n\\dfrac{\\rho S a}{420} \\left[ \\begin{array}{cccc}\n  156 & 22 a & 54 & -13 a\\\\\n  22 a & 4 a^2 & 13 a & -3 a^2 \\\\\n  54 & 13 a & 156 & -22 a \\\\\n -13 a & -3 a^2 & -22 a & 4 a^2\n\\end{array} \\right].\n$$\nNote that the lenght of the element is here equal to $a$, the lenght of the unit cell.",
   "metadata": {
    "cell_id": "8e47a467f96648cd8ecba29cbd9b6cc1",
    "tags": [],
    "deepnote_cell_type": "markdown",
    "deepnote_cell_height": 435.34375
   }
  },
  {
   "cell_type": "code",
   "metadata": {
    "cell_id": "a0f87d652c924f94a01dddfbc033e2c6",
    "tags": [],
    "deepnote_to_be_reexecuted": false,
    "source_hash": "67f6620b",
    "execution_start": 1651754866312,
    "execution_millis": 1,
    "deepnote_cell_type": "code",
    "deepnote_cell_height": 315
   },
   "source": "Le=a; % lenght of the element\n\nKm=...\nYI_E/(Le^3)*[12,   6*Le,   -12,   6*Le;...\n            6*Le, 4*Le^2, -6*Le, 2*Le^2;...\n            -12,  -6*Le, 12,  -6*Le;...\n            6*Le, 2*Le^2, -6*Le, 4*Le^2];      % mechanical stiffness matrix      \n\n\nMm=...\nrhoS*Le/420*[ 156,   22*Le, 54,  -13*Le;...\n            22*Le,  4*Le^2,   13*Le, -3*Le^2;...\n            54,   13*Le,    156,  -22*Le;...\n            -13*Le, -3*Le^2,  -22*Le,  4*Le^2]; % mechanical mass matrix     ",
   "outputs": [],
   "execution_count": null
  },
  {
   "cell_type": "markdown",
   "source": "#### Mechanical frequencies and mode shapes\n\nThe **eigenproperties** of the mechanical beam can be computed after assembly of the global stiffness and mass matrices:\n$$\n\\left[\n\\mathbf{K_{tot}} - \\omega^ 2 \\mathbf{M_{tot}}  \n\\right]  \n\\mathbf{q_{tot}} \n=\n\\mathbf{0}.\n$$",
   "metadata": {
    "cell_id": "c683465cd29c46fbb740b03f71f0ae01",
    "tags": [],
    "deepnote_cell_type": "markdown",
    "deepnote_cell_height": 138.78125
   }
  },
  {
   "cell_type": "markdown",
   "source": "#### *STEP #1: Compute the first three natural frequencies and mode shapes of the mechanical beam for various boundary conditions.*",
   "metadata": {
    "cell_id": "0a9db4493ceb4472848e490ae7a94fff",
    "tags": [],
    "deepnote_cell_type": "markdown",
    "deepnote_cell_height": 78
   }
  },
  {
   "cell_type": "code",
   "metadata": {
    "cell_id": "b9d0766f329e466ab2fec4ab04a00c26",
    "tags": [],
    "deepnote_to_be_reexecuted": false,
    "source_hash": "88300d20",
    "execution_start": 1651754866313,
    "execution_millis": 986,
    "deepnote_cell_type": "code",
    "deepnote_cell_height": 1440.125,
    "deepnote_output_heights": [
     null,
     422
    ]
   },
   "source": "\n%--------------- Full FEM matrices ------------------------------------------\n\nn_dof_uc = 4;                     % number of degrees of freedom for a unit cell\nn_dof_beam = (n_dof_uc-2)*n+2;    % number of degrees of freedom for the beam\n\nK_full= zeros(n_dof_beam);        % start with empty matrices \nM_full= zeros(n_dof_beam);        \n\nfor id=1:n                        % fill the matrices depending on position of the element\n    pos = (n_dof_uc-2)*(id-1)+1:(n_dof_uc-2)*id+2;             \n    K_full(pos,pos)=K_full(pos,pos)+Km;\n    M_full(pos,pos)=M_full(pos,pos)+Mm;\nend\n\n%--------------- Boundary conditions ------------------------------------------\n   \n% for a cantilever beam  \ndofs_fixed = [1,2]';             % first displacement and rotation blocked\n\ndofs_free=setdiff(1:n_dof_beam,dofs_fixed);   % keep only the free dof\nK_tot = K_full(dofs_free,dofs_free);   \nM_tot = M_full(dofs_free,dofs_free);\n\n\n%--------------- Frequencies and mode shapes ------------------------------------------\n\n[V,D] = eig(K_tot,M_tot);                     % compute the eigenproperties\n[sortedD, I] = sort(diag(D)); \nfreq_123 = sqrt(sortedD(1:3))/2/pi            % first three frequencies\n\nvect_total = zeros(n_dof_beam,size(V,1));              \nvect_total(dofs_free,1:size(V,1)) = V;         % mode shape vectors with all blocked dof \n\ndisp_dof = 1:2:n_dof_beam;                     % displacement degrees of freedom\ndisp_vect = vect_total(disp_dof,:);            % all mode shape vectors in a matrix\n\nplot([0:n_dof_beam/2-1],[disp_vect(:,find(I == 1))])     % plot mode shapes\nhold on\nplot([0:n_dof_beam/2-1],[disp_vect(:,find(I == 2))])\nplot([0:n_dof_beam/2-1],[disp_vect(:,find(I == 3))])\nxlabel('Position');\nylabel('Mode shape');\nbox on",
   "outputs": [
    {
     "name": "stdout",
     "text": "freq_123 =\r\n\r\n    24.445\r\n   153.196\r\n   429.050\r\n\r\n",
     "output_type": "stream"
    },
    {
     "data": {
      "text/plain": "<IPython.core.display.Image object>",
      "image/png": "[encoded data removed]"
     },
     "metadata": {
      "image/png": {
       "width": 560,
       "height": 420
      }
     },
     "output_type": "display_data"
    }
   ],
   "execution_count": null
  },
  {
   "cell_type": "markdown",
   "source": "#### Mechanical frequency response function\nThe mass and stiffness matrices can be used to compute the **frequency response** of the system to an external forcing $\\mathbf{F_{tot}} $:\n$$\n\\mathbf{M_{tot}} \n\\mathbf{\\ddot q_{tot}} \n+\n\\mathbf{K_{tot}}  \n\\mathbf{q_{tot}} \n=\n\\mathbf{F_{tot}}.\n$$",
   "metadata": {
    "cell_id": "6a28b689785241bda30e8db63e5ac049",
    "tags": [],
    "deepnote_cell_type": "markdown",
    "deepnote_cell_height": 138.78125
   }
  },
  {
   "cell_type": "markdown",
   "source": "#### *STEP #2: Plot frequency response functions and operational mode shapes for comparison with the previous results.*",
   "metadata": {
    "cell_id": "3048e7a4701b4be894996435d75616c8",
    "tags": [],
    "deepnote_cell_type": "markdown",
    "deepnote_cell_height": 78
   }
  },
  {
   "cell_type": "code",
   "metadata": {
    "cell_id": "d629459b298547caa3168fef667f7c7d",
    "tags": [],
    "deepnote_to_be_reexecuted": false,
    "source_hash": "ce9a9611",
    "execution_start": 1651754866764,
    "execution_millis": 644,
    "deepnote_cell_type": "code",
    "deepnote_cell_height": 1926,
    "deepnote_output_heights": [
     422,
     422
    ]
   },
   "source": "\n%--------------- External excitation ---------------------------------\n\nF_ext = zeros(size(K_tot,2),1);     % external force vector\nF_ext(size(K_tot,2)-1)=1;           % unitary force applied at the free end of the beam\n\n\n%--------------- Parameters for the frequency response functions ------------------\n\nf_min = 1;                      % minimum frequency\nf_max = 500;                    % maximum frequency\nf_target = 300;                 % target frequency for operational mode shape\nnb_pt = 1000;                   % number of frequency points\n\nom_min = f_min*2*pi;            % minimum angular frequency\nom_max = f_max*2*pi;            % maximum angular frequency\nx = linspace(om_min,om_max,nb_pt);   % angular frequency vector\nid_freq_sup = find(x>f_target*2*pi); \nid_freq = min(id_freq_sup);          % position of the target freq in the x vector\n\n\n%--------------- Frequency loops ---------------------------------\n   \ndisp = zeros(size(x,2),size(K_tot,1));  % displacement vectors of the beam \n\nfor j=1:size(x,2)\n    om = x(j);                                 % angular frequency\n    disp(j,:) =  (K_tot-om^2*M_tot)\\F_ext;     % solve for forced excitation\nend\n\ndof_free_end = size(K_tot,2)-1;                % select degree of freedom for frequency response\n\nvect_total = zeros(n_dof_beam,size(disp,1));              \nvect_total(dofs_free,1:size(disp,1)) = disp';  % mode shape vectors with all blocked dof \n\ndisp_dof = 1:2:n_dof_beam;                     % displacement degrees of freedom\ndisp_vect = vect_total(disp_dof,:);            % all mode shape vectors in a matrix\n\n\nplot(x/(2*pi),20*log10(abs(disp(:,dof_free_end))),'-b','Linewidth',2)  % plot frequency responce function\nhold on\nxlabel('Frequency (Hz)');\nylabel('Compliance (dB, m/N)');\ny = ylim;\nline([f_target f_target],[y(1) y(2)])\nbox on\n\nfigure\nplot([0:n_dof_beam/2-1],[disp_vect(:,id_freq)])   % plot operational mode shape at target frequency\nxlabel('Position');\nylabel('Operational mode shape');\nbox on\n\n",
   "outputs": [
    {
     "data": {
      "text/plain": "<IPython.core.display.Image object>",
      "image/png": "[encoded data removed]"
     },
     "metadata": {
      "image/png": {
       "width": 560,
       "height": 420
      }
     },
     "output_type": "display_data"
    },
    {
     "data": {
      "text/plain": "<IPython.core.display.Image object>",
      "image/png": "[encoded data removed]"
     },
     "metadata": {
      "image/png": {
       "width": 560,
       "height": 420
      }
     },
     "output_type": "display_data"
    }
   ],
   "execution_count": null
  },
  {
   "cell_type": "markdown",
   "source": "## Electrical Beam\n\n<p align=\"center\">\n<img src=\"media/elec_beam.png\" style=\"width:900px\"></img>\n</p>\n\n<p align=\"center\">\n<img src=\"media/uc_elec.png\" style=\"width:500px\"></img>\n</p>",
   "metadata": {
    "cell_id": "7822c5221b93459c922749ff0c86b02f",
    "tags": [],
    "deepnote_cell_type": "markdown",
    "deepnote_cell_height": 479.125
   }
  },
  {
   "cell_type": "markdown",
   "source": "#### Initial values for the electrical components\n\n|       |                 |\n|-----------------------------|-------------------------------|\n| Piezoelectric capacitance   | $ C = 50.8  $ nF              |\n| Inductance                  | $L = 0.247 $ H               |\n| Transformer ratio           | $\\hat a = 2$                  |\n| Resistance (in inductor)    | $R_L = 0~\\Omega $   |\n| Resistance (in capacitor)   | $R_C =  0~\\Omega $ |\n| Resistance (in transformer) | $R_T = 838~\\Omega $          |\n\n",
   "metadata": {
    "cell_id": "0262e875961049dca981910321312456",
    "tags": [],
    "deepnote_cell_type": "markdown",
    "deepnote_cell_height": 214.34375
   }
  },
  {
   "cell_type": "code",
   "metadata": {
    "cell_id": "9e7c617a781841c38d2d4c8381f71943",
    "tags": [],
    "deepnote_to_be_reexecuted": false,
    "source_hash": "d6a73036",
    "execution_start": 1651754867410,
    "execution_millis": 14,
    "deepnote_cell_type": "code",
    "deepnote_cell_height": 189
   },
   "source": "C = 50.8e-9;    % capacitance\nL = 1;          % inductance\na_tild = 2;     % transformer ratio \nR_L= 0;         % resistance in series with inductance\nR_C= 0;         % resistance in series with capacitance\nR_T = 838;      % resistance in transformers\nn = 10;         % number of unit cells in the network",
   "outputs": [],
   "execution_count": null
  },
  {
   "cell_type": "markdown",
   "source": "#### Electrical stiffness, damping and mass matrices\nElectrical charge displacement and voltage vectors are defined as:\n$$\n\\mathbf{q_e} \n=\n\\left[ \n\\begin{array}{cccc}\n {q_w}_{ \\textrm{L}} \\\\\n  {q_{\\theta}}_{ \\textrm{L}} \\\\\n  {q_w}_{ \\textrm{R}} \\\\\n   {q_{\\theta}}_{ \\textrm{R}}\n\\end{array} \\right]\n\\quad \\textrm{and}  \\quad\n\\mathbf{F_e} \n=\n\\left[ \\begin{array}{cccc}\n {V_w}_{ \\textrm{L}}\\\\\n  {V_{\\theta}}_{ \\textrm{L}} \\\\\n   -{V_w}_{ \\textrm{R}} \\\\\n    -{V_{\\theta}}_{ \\textrm{R}} \n\\end{array} \\right],\n$$\nwhere the electrical charge displacements ${q_w}$ and ${q_{\\theta}}$ are the analogues of the transverse and angular mechanical displacements $W$ and $\\theta$, whereas the opposite of the voltage contributions $V_w$ and $V_{\\theta}$ are the analogues of the shear force and bending moment.\n\nThe objective is to express the dynamics of the unit cell into a classical formulation involving \"mass\", damping and \"stiffness\" matrices:\n$$\n\\mathbf{M_e} \n\\mathbf{\\ddot q_e} \n+\n\\mathbf{C_e}  \n\\mathbf{\\dot q_e} \n+\n\\mathbf{K_e}  \n\\mathbf{q_e} \n=\n\\mathbf{F_e},\n$$\nSymbolic computations based on the discrete equations describing the electrical unit cell give the **mass, damping and stiffness matrices for the electrical network**:\n$$\n\\mathbf{M_e}\n=\n\\dfrac{L}{2} \\left[ \n\\begin{array}{cccc} 1 & \\hat a/2 & 0 & 0\\\\ \\hat a/2 & \\hat{a}^2/4 & 0 & 0\\\\ 0 & 0 & 1 & -\\hat a/2\\\\ 0 & 0 & -\\hat a/2 & \\hat a^2/4 \\end{array}\\right],\n$$\n$$\n\\mathbf{C_e}\n=\n\\dfrac{R_{L}}{2} \\left[\n\\begin{array}{cccc} 1 & \\hat a/2 & 0 & 0\\\\ \\hat a/2 & \\hat{a}^2/4 & 0 & 0\\\\ 0 & 0 & 1 & -\\hat a/2\\\\ 0 & 0 & -\\hat a/2 & \\hat a^2/4 \\end{array}\\right]\n+\n\\dfrac{R_{T}}{2} \\left[\n\\begin{array}{cccc} 0 & 0 & 0 & 0\\\\ 0 & 1 & 0 & 0\\\\ 0 & 0 & 0 & 0\\\\ 0 & 0 & 0 & 1 \\end{array}\\right]\n+\nR_{C} \\left[\n\\begin{array}{cccc} 0 & 0 & 0 & 0\\\\ 0 & 1 & 0 & -1\\\\ 0 & 0 & 0 & 0\\\\ 0 & -1 & 0 & 1 \\end{array}\\right]\n$$\nand\n$$\n\\mathbf{K_e}\n=\n\\dfrac{4}{\\hat a^2 C_0 }\n\\left[\n\\begin{array}{cccc} 1 & \\dfrac{\\hat a}{2} & -1 & \\dfrac{\\hat a}{2}\\\\ \\dfrac{\\hat a}{2} & \\dfrac{\\hat a^2}{4 } \\dfrac{ C + 2 C_0}{C +  C_0 }  & -\\dfrac{\\hat a}{2} & \\dfrac{\\hat a^2}{4 } \\dfrac{ C}{C + C_0  } \\\\ -1 & -\\dfrac{\\hat a}{2} & 1 & -\\dfrac{\\hat a}{2}\\\\ \\dfrac{\\hat a}{2} & \\dfrac{\\hat a^2}{4 } \\dfrac{ C}{C + C_0 } & -\\dfrac{\\hat a}{2} & \\dfrac{\\hat a^2}{4 } \\dfrac{ C + 2 C_0}{C +  C_0 } \\end{array}\\right].\n$$\n$C_0$ is a numerical parameter that is required to relax some constrains in the electrical network. A value $C_0 = C \\times 10^{-3}$ is adequate for the present calculations. ",
   "metadata": {
    "cell_id": "d5e2d7a4e873411cbed69658eda146b9",
    "tags": [],
    "deepnote_cell_type": "markdown",
    "deepnote_cell_height": 844.875
   }
  },
  {
   "cell_type": "code",
   "metadata": {
    "cell_id": "a21ac9e975d3464ea9fdb8e82885529e",
    "tags": [],
    "deepnote_to_be_reexecuted": false,
    "source_hash": "e18ddb52",
    "execution_start": 1651754867468,
    "execution_millis": 40,
    "deepnote_cell_type": "code",
    "deepnote_cell_height": 747
   },
   "source": "\nCf = C*1e-3;   % numerical parameter for stiffness matrix\n\nKe=...       % electrical stiffness matrix\n    4/a_tild^2/Cf*...\n   [        1,                       a_tild/2,        -1,                       a_tild/2;...\n     a_tild/2, (a_tild^2/4)*((C+2*Cf)/(C+Cf)), -a_tild/2,        (a_tild^2/4)*C/(C + Cf);...\n           -1,                      -a_tild/2,         1,                      -a_tild/2;...\n     a_tild/2,        (a_tild^2/4)*C/(C + Cf), -a_tild/2, (a_tild^2/4)*((C+2*Cf)/(C+Cf))];  \n    \n\nMe=...       % electrical mass matrix\n    L/2*...   \n    [        1 ,        a_tild/2,           0,              0;...\n      a_tild/2 ,     a_tild^2/4 ,           0,              0;...  \n              0,               0,          1 ,      -a_tild/2;...\n              0,               0,  -a_tild/2 ,     a_tild^2/4];   \n                                    \n   \nCe=...       % electrical damping matrix;\n    R_L/2*...   \n    [        1 ,        a_tild/2,           0,              0;...\n      a_tild/2 ,     a_tild^2/4 ,           0,              0;...  \n              0,               0,          1 ,      -a_tild/2;...\n              0,               0,  -a_tild/2 ,     a_tild^2/4]...\n              +...      \n    R_T/2*...   \n    [        0 ,               0,           0,              0;...\n             0 ,               1,           0,              0;...  \n             0,               0,           0,              0;...\n             0,               0,           0,              1]...\n         +...      \n    R_C*...   \n    [        0 ,               0,           0,              0;...\n             0 ,               1,           0,              -1;...  \n             0,               0,           0,              0;...\n             0,               -1,           0,              1];        \n         ",
   "outputs": [],
   "execution_count": null
  },
  {
   "cell_type": "markdown",
   "source": "#### Electrical frequencies and mode shapes\nNeglecting the damping matrix, the **eigenproperties** of the electrical beam can be computed after assembly of the global stiffness and mass matrices:\n$$\n\\left[\n\\mathbf{K_{tot}} - \\omega^ 2 \\mathbf{M_{tot}}  \n\\right]  \n\\mathbf{q_{tot}} \n=\n\\mathbf{0}. \n$$",
   "metadata": {
    "cell_id": "856650ed92c24c758b34954dc9c859d8",
    "tags": [],
    "deepnote_cell_type": "markdown",
    "deepnote_cell_height": 161.171875
   }
  },
  {
   "cell_type": "markdown",
   "source": "#### *STEP #3: Compute the first three natural frequencies and mode shapes of the electrical beam and find an inductance value offering a sufficient analogy with the mechanical beam.*",
   "metadata": {
    "cell_id": "f59e3de955274683b929f6dbb74d1a70",
    "tags": [],
    "deepnote_cell_type": "markdown",
    "deepnote_cell_height": 78
   }
  },
  {
   "cell_type": "code",
   "metadata": {
    "cell_id": "aaf81e00d42d43ed9f06aa2f1e72f463",
    "tags": [],
    "deepnote_to_be_reexecuted": false,
    "source_hash": "d422277b",
    "execution_start": 1651754867509,
    "execution_millis": 19,
    "deepnote_cell_type": "code",
    "deepnote_cell_height": 132.375
   },
   "source": "%%% add code %%%",
   "outputs": [
    {
     "name": "stdout",
     "text": " added to session magics.\n\n",
     "output_type": "stream"
    }
   ],
   "execution_count": null
  },
  {
   "cell_type": "markdown",
   "source": "### Electrical frequency response function\nThe mass, damping and stiffness matrices can be used to compute the **frequency response** of the system to an external forcing $\\mathbf{F_{tot}} $:\n$$\n\\mathbf{M_{tot}} \n\\mathbf{\\ddot q_{tot}} \n+\n\\mathbf{C_{tot}}  \n\\mathbf{\\dot q_{tot}} \n+\n\\mathbf{K_{tot}}  \n\\mathbf{q_{tot}} \n=\n\\mathbf{F_{tot}}.\n$$",
   "metadata": {
    "cell_id": "9e303185df1648498416c86fa400a14b",
    "tags": [],
    "deepnote_cell_type": "markdown",
    "deepnote_cell_height": 173.171875
   }
  },
  {
   "cell_type": "markdown",
   "source": "#### *STEP #4: Compare a frequency response function obtained with the electrical beam to its mechanical equivalent.*",
   "metadata": {
    "cell_id": "d436697d18604ddc9da0d85a2392f58f",
    "tags": [],
    "deepnote_cell_type": "markdown",
    "deepnote_cell_height": 78
   }
  },
  {
   "cell_type": "code",
   "metadata": {
    "cell_id": "73d8dd656c9e42e091c55f0fbff7f640",
    "tags": [],
    "deepnote_to_be_reexecuted": false,
    "source_hash": "d422277b",
    "execution_start": 1651754867510,
    "execution_millis": 0,
    "deepnote_cell_type": "code",
    "deepnote_cell_height": 132.375
   },
   "source": "%%% add code %%%",
   "outputs": [
    {
     "name": "stdout",
     "text": "%% removed from session magics.\n\n",
     "output_type": "stream"
    }
   ],
   "execution_count": null
  },
  {
   "cell_type": "markdown",
   "source": "## Electromechanical Beam\n\n<p align=\"center\">\n<img src=\"media/electromechanical_beam.png\" style=\"width:900px\"></img>\n</p>",
   "metadata": {
    "cell_id": "1f12e9e6223147ebae58ec89f2a8b466",
    "tags": [],
    "deepnote_cell_type": "markdown",
    "deepnote_cell_height": 241.59375
   }
  },
  {
   "cell_type": "markdown",
   "source": "#### Coupled model involving both mechanical and electrical degrees of freedom\nIn the case of a coupled system, the mechanical and electrical degrees of freedom can be combined thanks to the following matrix formulation: \n$$\n\\left[ \n\\begin{array}{ccc}\n\\mathbf{M_m} & \\mathbf{0} \\\\\n\\mathbf{0} & \\mathbf{M_e} \n\\end{array} \\right] \n\\left[ \n\\begin{array}{ccc}\n\\mathbf{\\ddot q_m} \\\\\n\\mathbf{\\ddot q_e} \n\\end{array} \\right]\n+\n\\left[ \n\\begin{array}{ccc}\n\\mathbf{C_m} & \\mathbf{0} \\\\\n\\mathbf{0} & \\mathbf{C_e} \n\\end{array} \\right] \n\\left[ \n\\begin{array}{ccc}\n\\mathbf{\\dot q_m} \\\\\n\\mathbf{\\dot q_e} \n\\end{array} \\right]\n+\n\\left[ \n\\begin{array}{ccc}\n\\mathbf{K_m} + \\frac{1}{C} \\mathbf{K_c {K_c}^T} & \\frac{1}{C}\\mathbf{K_c S^T}  \\\\\n\\frac{1}{C}  \\mathbf{S K_c ^T} & \\mathbf{K_e} \n\\end{array} \\right]\n\\left[ \n\\begin{array}{ccc}\n\\mathbf{q_m} \\\\\n\\mathbf{q_e} \n\\end{array} \\right]\n=\n\\left[  \n\\begin{array}{ccc}\n\\mathbf{F_m} \\\\\n\\mathbf{F_e} \n\\end{array} \\right].\n$$\n$\\mathbf{K_c}$ is a coupling vector, $C$ is the piezoelectric capacitance and $\\mathbf{S}$ is is defined from \n$\nq_{\\textrm{I}}=\\mathbf{S^T} \\mathbf{q_e},\n$\nwhere $q_{\\textrm{I}}$ is the electrical charge flowing through the piezoelectric patches.\n\nBecause the poling direction of the piezoelectric patches have been chosen so that coupling occurs for bending motion, the **coupling vector** is defined as\n$$\n\\mathbf{K_c}= e_{\\theta}\n\\left[ \\begin{array}{cccc}\n 0 & 1 & 0 & -1\\\\ \n\\end{array} \\right]^T,\n$$\nwhere $e_{\\theta} = 5.3$ N.m/kV\nis the piezoelectric coupling coefficient related to bending motion. \n\nConcerning the $\\mathbf{S}$ matrix, refering to the drawing of the electrical unit cell, the relation between the external electric charge displacements and the charge on the electrodes of the piezoelectric patches $q_{\\textrm{I}} = {q_{\\theta}}_{\\textrm{L}} - {q_{\\theta}}_{\\textrm{R}}$ gives\n$$\n \\mathbf{S} =\n\\left[ \n\\begin{array}{cccc}\n 0 & 1 & 0 & -1 \\\\\n\\end{array} \\right]^T. \n$$",
   "metadata": {
    "cell_id": "32879b17e3554acbb1ec18e10c011ffd",
    "tags": [],
    "deepnote_cell_type": "markdown",
    "deepnote_cell_height": 471
   }
  },
  {
   "cell_type": "code",
   "metadata": {
    "cell_id": "0c8b39268f5c4146bcf6da8b0212601c",
    "tags": [],
    "deepnote_to_be_reexecuted": false,
    "source_hash": "f1273139",
    "execution_start": 1651754867511,
    "execution_millis": 18,
    "deepnote_cell_type": "code",
    "deepnote_cell_height": 243
   },
   "source": "e_th = 5.3e-3 ;        % global coupling coefficient\nKc=e_th*[0 1 0 -1]';   % coupling matrix\n\nndof = 4;              % number of degrees of freedom in the mechanical unit cell\n\nK_coupled = [   Km+1/C*(Kc*Kc'),     1/C*Kc*[0, 1, 0, -1];...   % electromechanical stiffness matrix \n           1/C*[0;1;0;-1]*Kc',                        Ke];  \nM_coupled = [Mm,zeros(ndof,4);zeros(4,ndof),Me];                     % electromechanical mass matrix \nC_coupled = [zeros(ndof,4),zeros(ndof,4);zeros(4,ndof),Ce];          % electromechanical damping matrix \n    ",
   "outputs": [],
   "execution_count": null
  },
  {
   "cell_type": "markdown",
   "source": "#### Permutation matrix\nThe matrices need to be reorganized to collect left and right degrees of freedom ($\\mathbf{q_L}$ and $\\mathbf{q_R}$) without separating mechanical and electrical ones:\n$$\n\\left[ \n\\begin{array}{ccc}\n\\mathbf{q_L} \\\\\n\\mathbf{q_R} \n\\end{array} \\right]\n=\n\\left[ \n\\begin{array}{ccc}\n{W}_\\textrm{L} \\\\\n  {\\theta}_\\textrm{L} \\\\\n  {q_w}_{ \\textrm{L}} \\\\\n  {q_{\\theta}}_{ \\textrm{L}} \\\\\n   {W}_\\textrm{R} \\\\\n    {\\theta}_\\textrm{R} \\\\\n  {q_w}_{ \\textrm{R}} \\\\\n   {q_{\\theta}}_{ \\textrm{R}}\n\\end{array} \\right]\n=\n\\left[ \n\\begin{array}{cccc}\n\\mathbf{I} & \\mathbf{0}  & \\mathbf{0} & \\mathbf{0}\\\\\n\\mathbf{0} & \\mathbf{0} & \\mathbf{I}  & \\mathbf{0}\\\\\n\\mathbf{0} & \\mathbf{I}  & \\mathbf{0} & \\mathbf{0}\\\\\n\\mathbf{0} & \\mathbf{0} & \\mathbf{0} & \\mathbf{I}  \n\\end{array} \\right] \n\\left[ \n\\begin{array}{ccc}\n{W}_\\textrm{L} \\\\\n  {\\theta}_\\textrm{L} \\\\\n   {W}_\\textrm{R} \\\\\n    {\\theta}_\\textrm{R} \\\\\n{q_w}_{\\textrm{L}} \\\\\n  {q_{\\theta}}_{\\textrm{L}} \\\\\n  {q_w}_{ \\textrm{R}} \\\\\n   {q_{\\theta}}_{ \\textrm{R}}\n\\end{array} \\right].\n$$\nUsing this permutation matrix on the previous matrices finally provides the one-dimensional **electromechanical finite element** that allows a classical assembly process.\n",
   "metadata": {
    "cell_id": "be180d7fabbf48bb9801def7f7a6032a",
    "tags": [],
    "deepnote_cell_type": "markdown",
    "deepnote_cell_height": 346.34375
   }
  },
  {
   "cell_type": "code",
   "metadata": {
    "cell_id": "6fc24fe0fc1f455b87214a62b59cbfc8",
    "tags": [],
    "deepnote_to_be_reexecuted": false,
    "source_hash": "43e01049",
    "execution_start": 1651754867526,
    "execution_millis": 20,
    "deepnote_cell_type": "code",
    "deepnote_cell_height": 207
   },
   "source": "perm = zeros(ndof+4,ndof+4);     % build the permutation matrix        \nperm(3:ndof,5:(ndof+2))=eye(ndof-2);   \nperm(1,1)=1; perm(2,2)=1; perm(ndof+1,3)=1; perm(ndof+2,4)=1; perm(ndof+3,ndof+3)=1; perm(ndof+4,ndof+4)=1;  % permutation matrix to obtain the rearanged dynamic stiffness matrix\n        \nK_coupled=perm\\K_coupled*perm;   % permutations to gather mechanical and electrical dofs\nM_coupled=perm\\M_coupled*perm;\nC_coupled=perm\\C_coupled*perm;\n",
   "outputs": [],
   "execution_count": null
  },
  {
   "cell_type": "markdown",
   "source": "#### Frequency response function of the electromechanical beam\nThe mass, damping and stiffness matrices of the electromechanical system can be used to compute its **frequency response** to an external forcing $\\mathbf{F_{tot}} $:\n$$\n\\mathbf{M_{tot}} \n\\mathbf{\\ddot q_{tot}} \n+\n\\mathbf{C_{tot}}  \n\\mathbf{\\dot q_{tot}} \n+\n\\mathbf{K_{tot}}  \n\\mathbf{q_{tot}} \n=\n\\mathbf{F_{tot}}.\n$$",
   "metadata": {
    "cell_id": "b3be34a42fca4ad7986ad4ab81cf9d84",
    "tags": [],
    "deepnote_cell_type": "markdown",
    "deepnote_cell_height": 161.171875
   }
  },
  {
   "cell_type": "markdown",
   "source": "#### *STEP #5: Plot a frequency response fonction involving the mechanical displacement of the electromechanical beam and evaluate the influence of the electrical components used in the analogous network.*",
   "metadata": {
    "cell_id": "41a7fc48fd1e411fa79a3689a810d19a",
    "tags": [],
    "deepnote_cell_type": "markdown",
    "deepnote_cell_height": 102
   }
  },
  {
   "cell_type": "code",
   "metadata": {
    "cell_id": "361e33185dac4c0d9ee922397d0fcc85",
    "tags": [],
    "deepnote_to_be_reexecuted": false,
    "source_hash": "d422277b",
    "execution_start": 1651754867574,
    "execution_millis": 9,
    "deepnote_cell_type": "code",
    "deepnote_cell_height": 132.375
   },
   "source": "%%% add code %%%",
   "outputs": [
    {
     "name": "stdout",
     "text": " added to session magics.\n\n",
     "output_type": "stream"
    }
   ],
   "execution_count": null
  },
  {
   "cell_type": "markdown",
   "source": "<a style='text-decoration:none;line-height:16px;display:flex;color:#5B5B62;padding:10px;justify-content:end;' href='https://deepnote.com?utm_source=created-in-deepnote-cell&projectId=491f87a1-62a7-4e27-ac07-7611cab3bcf6' target=\"_blank\">\n<img alt='Created in deepnote.com' style='display:inline;max-height:16px;margin:0px;margin-right:7.5px;' src='data:image/svg+xml;base64,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' > </img>\nCreated in <span style='font-weight:600;margin-left:4px;'>Deepnote</span></a>",
   "metadata": {
    "tags": [],
    "created_in_deepnote_cell": true,
    "deepnote_cell_type": "markdown"
   }
  }
 ],
 "nbformat": 4,
 "nbformat_minor": 2,
 "metadata": {
  "orig_nbformat": 2,
  "deepnote_notebook_id": "83930899-5ceb-40fa-8509-4b068d88dccb",
  "deepnote_execution_queue": [],
  "deepnote": {}
 }
}